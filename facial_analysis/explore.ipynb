{
 "cells": [
  {
   "cell_type": "code",
   "execution_count": null,
   "metadata": {},
   "outputs": [],
   "source": [
    "# Import necessary libraries\n",
    "from flask import Flask, render_template, request, redirect\n",
    "import dlib\n",
    "import cv2\n",
    "import numpy as np\n",
    "import base64"
   ]
  },
  {
   "cell_type": "code",
   "execution_count": null,
   "metadata": {},
   "outputs": [],
   "source": [
    "app = Flask(__name__)\n",
    "\n",
    "# Load the pre-trained facial landmark detector\n",
    "detector = dlib.get_frontal_face_detector()\n",
    "predictor = dlib.shape_predictor(\"shape_predictor_68_face_landmarks.dat\")\n",
    "\n",
    "# Route for rendering the index.html template\n",
    "@app.route(\"/\", methods=[\"GET\", \"POST\"])\n",
    "def index():\n",
    "    if request.method == \"POST\":\n",
    "        if \"file\" not in request.files:\n",
    "            return redirect(request.url)\n",
    "        file = request.files[\"file\"]\n",
    "        if file.filename == \"\":\n",
    "            return redirect(request.url)\n",
    "        if file:\n",
    "            # Read the image file\n",
    "            image_stream = file.read()\n",
    "            nparr = np.frombuffer(image_stream, np.uint8)\n",
    "            image = cv2.imdecode(nparr, cv2.IMREAD_COLOR)\n",
    "\n",
    "            # Convert image to grayscale\n",
    "            gray = cv2.cvtColor(image, cv2.COLOR_BGR2GRAY)\n",
    "\n",
    "            # Convert the original image to base64 for displaying\n",
    "            _, img_encoded = cv2.imencode('.jpg', image)\n",
    "            img_base64 = base64.b64encode(img_encoded).decode('utf-8')\n",
    "\n",
    "            # Detect faces in the image\n",
    "            faces = detector(gray)\n",
    "\n",
    "            # Draw landmarks and face detection box on the image\n",
    "            for face in faces:\n",
    "                landmarks = predictor(gray, face)\n",
    "                for n in range(0, 68):\n",
    "                    x = landmarks.part(n).x\n",
    "                    y = landmarks.part(n).y\n",
    "                    cv2.circle(image, (x, y), 1, (0, 0, 255), 2)  # Red color for landmarks\n",
    "                # Draw a rectangle around the face\n",
    "                x, y, w, h = face.left(), face.top(), face.width(), face.height()\n",
    "                cv2.rectangle(image, (x, y), (x + w, y + h), (0, 255, 0), 2)  # Green color for face box\n",
    "\n",
    "            # Convert the image with landmarks to base64 for displaying\n",
    "            _, img_landmarks_encoded = cv2.imencode('.jpg', image)\n",
    "            img_landmarks_base64 = base64.b64encode(img_landmarks_encoded).decode('utf-8')\n",
    "\n",
    "            return render_template(\"index.html\", img_base64=img_base64, img_landmarks_base64=img_landmarks_base64)\n",
    "\n",
    "    return render_template(\"index.html\")\n"
   ]
  },
  {
   "cell_type": "code",
   "execution_count": null,
   "metadata": {},
   "outputs": [],
   "source": [
    "# Run the Flask application\n",
    "if __name__ == \"__main__\":\n",
    "    app.run(debug=True, port=5000, host='0.0.0.0', threaded=True, use_reloader=False, ssl_context='adhoc')\n"
   ]
  },
  {
   "cell_type": "markdown",
   "metadata": {},
   "source": [
    "<!DOCTYPE html>\n",
    "<html lang=\"en\">\n",
    "<head>\n",
    "    <meta charset=\"UTF-8\">\n",
    "    <meta name=\"viewport\" content=\"width=device-width, initial-scale=1.0\">\n",
    "    <title>Facial Landmark Detection</title>\n",
    "</head>\n",
    "<body>\n",
    "    <h1>Facial Landmark Detection</h1>\n",
    "    <form method=\"POST\" action=\"/\" enctype=\"multipart/form-data\">\n",
    "        <input type=\"file\" name=\"file\">\n",
    "        <input type=\"submit\" value=\"Detect Marks\">\n",
    "    </form>\n",
    "\n",
    "    {% if img_base64 and img_landmarks_base64 %}\n",
    "        <div style=\"display: flex;\">\n",
    "            <div style=\"flex-basis: 50%; text-align: center;\">\n",
    "                <h2>Image</h2>\n",
    "                <img src=\"data:image/jpeg;base64,{{ img_base64 }}\" alt=\"Original Image without Landmarks\">\n",
    "            </div>\n",
    "            <div style=\"flex-basis: 50%; text-align: center;\">\n",
    "                <h2>Landmarks and Face Detection</h2>\n",
    "                <img src=\"data:image/jpeg;base64,{{ img_landmarks_base64 }}\" alt=\"Original Image with Landmarks and Face Detection\">\n",
    "            </div>\n",
    "        </div>\n",
    "    {% endif %}\n",
    "</body>\n",
    "</html>\n"
   ]
  }
 ],
 "metadata": {
  "kernelspec": {
   "display_name": "Python 3",
   "language": "python",
   "name": "python3"
  },
  "language_info": {
   "codemirror_mode": {
    "name": "ipython",
    "version": 3
   },
   "file_extension": ".py",
   "mimetype": "text/x-python",
   "name": "python",
   "nbconvert_exporter": "python",
   "pygments_lexer": "ipython3",
   "version": "3.8.10"
  }
 },
 "nbformat": 4,
 "nbformat_minor": 2
}
