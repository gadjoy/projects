{
 "cells": [
  {
   "cell_type": "code",
   "execution_count": 5,
   "metadata": {},
   "outputs": [],
   "source": [
    "from freelancersdk.resources.projects import place_project_bid\n",
    "from freelancersdk.session import Session\n",
    "from freelancersdk.resources.users import get_self_user_id\n",
    "from freelancersdk.exceptions import BidNotPlacedException\n",
    "import os\n",
    "\n",
    "# https://www.freelancer.com/api/docs/cases/creating_a_bid\n",
    "def sample_place_project_bid():\n",
    "    url = os.environ.get('FLN_URL')\n",
    "    oauth_token = os.environ.get('FLN_OAUTH_TOKEN')\n",
    "    project_id = os.environ.get('PROJECT_ID')\n",
    "\n",
    "    session = Session(oauth_token=oauth_token, url=url)\n",
    "\n",
    "    try:\n",
    "        my_user_id = get_self_user_id(session)\n",
    "    except:\n",
    "        # User ID not retrieved. Handle the error here, e.g., print an error message.\n",
    "        return None\n",
    "\n",
    "    bid_data = {\n",
    "        'project_id': int(37869764),\n",
    "        'bidder_id': my_user_id,\n",
    "        'amount': 10,\n",
    "        'period': 2,\n",
    "        'milestone_percentage': 100,\n",
    "        'description': 'This is my bid',\n",
    "    }\n",
    "\n",
    "    try:\n",
    "        return place_project_bid(session, **bid_data)\n",
    "    except BidNotPlacedException as e:\n",
    "        print(('Error message: %s' % e.message))\n",
    "        print(('Error code: %s' % e.error_code))\n",
    "        return None\n",
    "\n",
    "\n",
    "b = sample_place_project_bid()\n",
    "if b:\n",
    "    print((\"Bid placed: %s\" % b))"
   ]
  }
 ],
 "metadata": {
  "kernelspec": {
   "display_name": ".venv",
   "language": "python",
   "name": "python3"
  },
  "language_info": {
   "codemirror_mode": {
    "name": "ipython",
    "version": 3
   },
   "file_extension": ".py",
   "mimetype": "text/x-python",
   "name": "python",
   "nbconvert_exporter": "python",
   "pygments_lexer": "ipython3",
   "version": "3.10.13"
  }
 },
 "nbformat": 4,
 "nbformat_minor": 2
}
