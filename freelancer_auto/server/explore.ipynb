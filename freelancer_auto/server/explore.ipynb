{
 "cells": [
  {
   "cell_type": "code",
   "execution_count": 10,
   "metadata": {},
   "outputs": [],
   "source": [
    "project_title = \"\"\"Custom Chatbot Integration\"\"\"\n",
    "project_description = \"\"\"I'm seeking an expert in custom chatbot development for the website. The primary function of the chatbot will be to provide customer support.\n",
    "\n",
    "Key Responsibilities:\n",
    "- Develop and integrate a custom chatbot for the website.\n",
    "- Ensure the chatbot is optimized for customer support interactions.\n",
    "\n",
    "Skills and Experience:\n",
    "- Proven experience in custom chatbot development for websites.\n",
    "- Strong understanding of customer support processes and optimization.\n",
    "- Familiarity with integrating chatbots into websites.\n",
    "- Knowledge of creating conversational UI and UX.\"\"\""
   ]
  },
  {
   "cell_type": "code",
   "execution_count": 11,
   "metadata": {},
   "outputs": [
    {
     "name": "stdout",
     "output_type": "stream",
     "text": [
      "We have carefully analyzed your requirements and developed a clear project description, providing a solid foundation for the custom chatbot integration project.\n",
      "\n",
      "Our solution meets your requirements by providing a chatbot that is optimized for customer support interactions. The chatbot will be able to answer questions, resolve issues, and provide general support to customers.\n",
      "\n",
      "We believe that our solution will provide you with a valuable tool that can help you to improve customer service and satisfaction. We are committed to working with you to ensure that the project meets your expectations.\n",
      "\n",
      "We would like to propose that we complete a proof of concept (POC) for the custom chatbot integration project. The POC will include the following:\n",
      "\n",
      "* A SRS that documents the requirements for the chatbot\n",
      "* An architecture diagram that shows how the chatbot will interact with other systems\n",
      "* Workflows that describe the different ways that the chatbot will be used\n",
      "* Message sequence charts that show how the chatbot will communicate with other systems\n",
      "* UI wireframes that show how the chatbot will be presented to users\n",
      "\n",
      "The POC will allow us to demonstrate our skills and capabilities and to show you how our solution can meet your needs. We believe that the POC will be a valuable step in the development of the custom chatbot integration project.\n",
      "\n",
      "We look forward to discussing this proposal with you in more detail and to working with you to create a chatbot that meets your needs.\n"
     ]
    }
   ],
   "source": [
    "import requests\n",
    "import os\n",
    "from dotenv import load_dotenv\n",
    "# Set API endpoint\n",
    "load_dotenv()\n",
    "api_key = os.getenv('GOOGLE_API_KEY')\n",
    "endpoint = \"https://generativelanguage.googleapis.com/v1beta2\"\n",
    "\n",
    "# generate the prompt to get my proposal\n",
    "prompt = f\"\"\"\n",
    "\n",
    "INPUT:\n",
    "\n",
    "Role: You are a client-focused project proposal expert with strong understanding of the client's vision.\n",
    "\n",
    "Context: The client's requirements are analyzed for a software project. You have a solid understanding of their needs and have prepared the following:\n",
    "\n",
    "Project Title: {project_title}\n",
    "Project Description: {project_description}\n",
    "\n",
    "Project Summary: Provide a 2-3 paragraphs overview of the potential project, emphasizing its key benefits derived from the client's requirements.\n",
    "\n",
    "Project Understanding: Write 2-3 paragraphs highlighting how your solution addresses their needs:\n",
    "\n",
    "Emphasize that you carefully analyzed their needs and developed a clear project description, providing a solid foundation.\n",
    "Stress your commitment and focus by proactively outlining the project's scope and objectives.\n",
    "Solution Fit: Briefly explain how your solution's design meets their requirements (provide a top-level explanation). This establishes a focus on quality and alignment with their goals.\n",
    "\n",
    "Client-Centric Value: Explain how your project outline provides clarity to ensure the project evolves in accordance with their vision.\n",
    "\n",
    "Invitation to Collaboration: Underscore your commitment to their feedback and invite the client to further refine project goals as a collaborative effort.\n",
    "\n",
    "Call to Action: Suggest next steps, such as discussing a formal development plan.\n",
    "\n",
    "Additional Considerations:\n",
    "\n",
    "Tone: Proactive, demonstrating your understanding of the client's needs.\n",
    "Client Ownership: Clearly acknowledge the collaborative nature of the project and their role in its direction.\n",
    "Concise: The proposal should be easily readable in one sitting.\n",
    "Outcome: The client should be clearly told that we would like to do the whole software development process for a proof of concept with SRS, Architecture, Workflows, Message sequence charts, UI wireframes as part of showing our skills rather than just saying we can do it.\n",
    "Keep it exactly within 1400 characters and do not consider the spaces. Make sure that the proposal characters should not increase the given set of number as that limit.\n",
    "\"\"\"\n",
    "\n",
    "# prepare the request body\n",
    "request_body = {\n",
    "    \"prompt\": {\n",
    "        \"text\": prompt\n",
    "    }\n",
    "}\n",
    "\n",
    "# make the request to generative language api\n",
    "response = requests.post(f\"{endpoint}/models/text-bison-001:generateText?key={api_key}\", json=request_body)\n",
    "proposal = response.json()['candidates'][0]['output']\n",
    "print(f\"{proposal}\")\n"
   ]
  }
 ],
 "metadata": {
  "kernelspec": {
   "display_name": "myenv",
   "language": "python",
   "name": "python3"
  },
  "language_info": {
   "codemirror_mode": {
    "name": "ipython",
    "version": 3
   },
   "file_extension": ".py",
   "mimetype": "text/x-python",
   "name": "python",
   "nbconvert_exporter": "python",
   "pygments_lexer": "ipython3",
   "version": "3.8.10"
  }
 },
 "nbformat": 4,
 "nbformat_minor": 2
}
