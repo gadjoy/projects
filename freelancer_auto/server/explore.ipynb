{
 "cells": [
  {
   "cell_type": "code",
   "execution_count": 7,
   "metadata": {},
   "outputs": [],
   "source": [
    "project_title = \"\"\"Advanced Truck Annotation for Vehicle AI\"\"\"\n",
    "project_description = \"\"\"I'm looking for a detail-oriented individual to annotate videos and images, specifically focusing on trucks. This annotation will be used to train an AI model, so accuracy and specificity are key.\n",
    "\n",
    "Key Responsibilities:\n",
    "- Annotating trucks in videos and images with a high level of detail, identifying the truck, its model, and specific features.\n",
    "- Ensuring all annotations are accurate and consistent.\n",
    "\n",
    "Ideal Skills:\n",
    "- Proficiency in understanding and identifying various truck models.\n",
    "- Experience in image or video annotation for AI purposes.\n",
    "- Attention to detail and ability to deliver high-quality annotations.\n",
    "\n",
    "Your annotations will play a crucial role in the development of our AI model, so your expertise and precision are highly valued.\"\"\""
   ]
  },
  {
   "cell_type": "code",
   "execution_count": 8,
   "metadata": {},
   "outputs": [
    {
     "name": "stdout",
     "output_type": "stream",
     "text": [
      "Generated proposal: **Project Summary**\n",
      "\n",
      "We are excited to propose our solution for your Advanced Truck Annotation for Vehicle AI project. Our solution is designed to meet your specific needs and will provide you with the high-quality annotations you require to train your AI model.\n",
      "\n",
      "**Project Understanding**\n",
      "\n",
      "We have carefully analyzed your requirements and developed a clear project description that provides a solid foundation for our solution. We have also proactively outlined the project's scope and objectives, which demonstrates our commitment and focus.\n",
      "\n",
      "**Solution Fit**\n",
      "\n",
      "Our solution is designed to meet your requirements in a number of ways. First, we have a deep understanding of the truck industry and the specific needs of truck manufacturers. Second, we have a proven track record of providing high-quality annotations for AI models. Third, we have a team of experienced professionals who are passionate about developing innovative solutions.\n",
      "\n",
      "**Client-Centric Value**\n",
      "\n",
      "Our project outline provides clarity and ensures that the project evolves in accordance with your vision. We are committed to working with you to further refine project goals and ensure that the final product meets your expectations.\n",
      "\n",
      "**Invitation to Collaboration**\n",
      "\n",
      "We would be honored to collaborate with you on this project and to demonstrate our skills and expertise. We look forward to discussing your requirements in more detail and to working with you to develop a solution that meets your needs.\n",
      "\n",
      "**Call to Action**\n",
      "\n",
      "We would like to invite you to discuss a formal development plan with us. We believe that our solution is the best way to meet your needs and we are confident that we can deliver the results you are looking for.\n"
     ]
    }
   ],
   "source": [
    "import requests\n",
    "import os\n",
    "from dotenv import load_dotenv\n",
    "# Set API endpoint\n",
    "load_dotenv()\n",
    "api_key = os.getenv('GOOGLE_API_KEY')\n",
    "endpoint = \"https://generativelanguage.googleapis.com/v1beta2\"\n",
    "\n",
    "# generate the prompt to get my proposal\n",
    "prompt = f\"\"\"\n",
    "\n",
    "INPUT:\n",
    "\n",
    "Role: You are a client-focused project proposal expert with strong understanding of the client's vision.\n",
    "\n",
    "Context: The client's requirements are analyzed for a software project. You have a solid understanding of their needs and have prepared the following:\n",
    "\n",
    "Project Title: {project_title}\n",
    "Project Description: {project_description}\n",
    "\n",
    "Project Summary: Begin with a 2-3 sentence overview of the potential project, emphasizing its key benefits derived from the client's requirements.\n",
    "Project Understanding: Write 2-3 paragraphs highlighting how your solution addresses their needs:\n",
    "Emphasize that you carefully analyzed their needs and developed a clear project description, providing a solid foundation.\n",
    "Stress your commitment and focus by proactively outlining the project's scope and objectives\n",
    "Solution Fit: Briefly explain how your solution's design meets their requirements (provide a top-level explanation). This establishes a focus on quality and alignment with their goals.\n",
    "Client-Centric Value: Explain how your project outline provides clarity to ensure the project evolves in accordance with their vision.\n",
    "Invitation to Collaboration:\n",
    "Underscore your commitment to their feedback and invite the client to further refine project goals as a collaborative effort.\n",
    "Call to Action: Suggest next steps, such as discussing a formal development plan.\n",
    "\n",
    "\n",
    "Additional Considerations:\n",
    "\n",
    "Tone: Proactive, demonstrating your understanding of the client's needs.\n",
    "Client Ownership: Clearly acknowledge the collaborative nature of the project and their role in its direction.\n",
    "Concise: The proposal should be easily readable in one sitting.\n",
    "Outcome: The client should be clearly told that we would like to do the whole software development process for a proof of concept with SRS, Architecture, Workflows, Message sequence charts, UI wireframes as part of showing our skills rather than just saying we can do it.\n",
    "Keep it exactly within 1400 characters and do not consider the spaces. Make sure that the proposal characters should not increase the given set of number as that limit.\n",
    "\"\"\"\n",
    "\n",
    "# prepare the request body\n",
    "request_body = {\n",
    "    \"prompt\": {\n",
    "        \"text\": prompt\n",
    "    }\n",
    "}\n",
    "\n",
    "# make the request to generative language api\n",
    "response = requests.post(f\"{endpoint}/models/text-bison-001:generateText?key={api_key}\", json=request_body)\n",
    "proposal = response.json()['candidates'][0]['output']\n",
    "print(f\"Generated proposal: {proposal}\")\n"
   ]
  }
 ],
 "metadata": {
  "kernelspec": {
   "display_name": "myenv",
   "language": "python",
   "name": "python3"
  },
  "language_info": {
   "codemirror_mode": {
    "name": "ipython",
    "version": 3
   },
   "file_extension": ".py",
   "mimetype": "text/x-python",
   "name": "python",
   "nbconvert_exporter": "python",
   "pygments_lexer": "ipython3",
   "version": "3.8.10"
  }
 },
 "nbformat": 4,
 "nbformat_minor": 2
}
