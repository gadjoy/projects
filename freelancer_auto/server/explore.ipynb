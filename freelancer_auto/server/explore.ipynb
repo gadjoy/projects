{
 "cells": [
  {
   "cell_type": "code",
   "execution_count": 5,
   "metadata": {},
   "outputs": [],
   "source": [
    "project_title = \"\"\"Automated-Agricultural-Product-Grading System\"\"\"\n",
    "project_description = \"\"\"I'm seeking a professional with a strong background in image capture technology, particularly digital cameras, and AI learning. The primary goal of this project is to create an advanced system that can automatically grade agricultural products.\n",
    "\n",
    "Key Tasks and Requirements:\n",
    "- Utilize digital cameras for effective image capture of agricultural products\n",
    "- Develop an AI system that can automate the grading process\n",
    "- The AI should be designed to work with images of agricultural products\n",
    "\n",
    "Ideal Skills:\n",
    "- Proficiency in working with digital cameras and image capture\n",
    "- Extensive experience in AI learning, particularly in automating processes\n",
    "- Previous work in agricultural product grading preferred\n",
    "\n",
    "This is a challenging but rewarding project for the right professional. Please make sure to include relevant experience in your proposal.\"\"\""
   ]
  },
  {
   "cell_type": "code",
   "execution_count": 6,
   "metadata": {},
   "outputs": [
    {
     "name": "stdout",
     "output_type": "stream",
     "text": [
      "Generated proposal: **Project Summary**\n",
      "\n",
      "We are excited to propose our solution for the development of an automated agricultural product grading system. Our solution is designed to address the key challenges outlined in the client's requirements, including the need for effective image capture of agricultural products, the development of an AI system that can automate the grading process, and the design of a system that is compatible with images of agricultural products.\n",
      "\n",
      "**Project Understanding**\n",
      "\n",
      "We have carefully analyzed the client's requirements and developed a clear project description that provides a solid foundation for the development of our solution. Our solution is designed to meet the client's needs by providing a high-quality, scalable, and cost-effective solution that will automate the grading process and improve the efficiency of their operations.\n",
      "\n",
      "**Solution Fit**\n",
      "\n",
      "Our solution is designed to meet the client's requirements by providing a top-level explanation of how our solution's design meets their requirements. Our solution is designed to be client-centric and provides clarity to ensure that the project evolves in accordance with their vision.\n",
      "\n",
      "**Invitation to Collaboration**\n",
      "\n",
      "We are committed to working with the client to further refine the project goals and ensure that the final product meets their expectations. We believe that our solution is the best option for the development of an automated agricultural product grading system and we look forward to discussing this proposal with you in more detail.\n",
      "\n",
      "**Call to Action**\n",
      "\n",
      "We would like to invite you to discuss a formal development plan for our proposed solution. We believe that our solution is the best option for the development of an automated agricultural product grading system and we look forward to discussing this proposal with you in more detail.\n"
     ]
    }
   ],
   "source": [
    "import requests\n",
    "import os\n",
    "from dotenv import load_dotenv\n",
    "# Set API endpoint\n",
    "load_dotenv()\n",
    "api_key = os.getenv('GOOGLE_API_KEY')\n",
    "endpoint = \"https://generativelanguage.googleapis.com/v1beta2\"\n",
    "\n",
    "# generate the prompt to get my proposal\n",
    "prompt = f\"\"\"\n",
    "\n",
    "INPUT:\n",
    "\n",
    "Role: You are a client-focused project proposal expert with strong understanding of the client's vision.\n",
    "\n",
    "Context: The client's requirements are analyzed for a software project. You have a solid understanding of their needs and have prepared the following:\n",
    "\n",
    "Project Title: {project_title}\n",
    "Project Description: {project_description}\n",
    "\n",
    "Project Summary: Begin with a 2-3 sentence overview of the potential project, emphasizing its key benefits derived from the client's requirements.\n",
    "Project Understanding: Write 2-3 paragraphs highlighting how your solution addresses their needs:\n",
    "Emphasize that you carefully analyzed their needs and developed a clear project description, providing a solid foundation.\n",
    "Stress your commitment and focus by proactively outlining the project's scope and objectives\n",
    "Solution Fit: Briefly explain how your solution's design meets their requirements (provide a top-level explanation). This establishes a focus on quality and alignment with their goals.\n",
    "Client-Centric Value: Explain how your project outline provides clarity to ensure the project evolves in accordance with their vision.\n",
    "Invitation to Collaboration:\n",
    "Underscore your commitment to their feedback and invite the client to further refine project goals as a collaborative effort.\n",
    "Call to Action: Suggest next steps, such as discussing a formal development plan.\n",
    "\n",
    "\n",
    "Additional Considerations:\n",
    "\n",
    "Tone: Proactive, demonstrating your understanding of the client's needs.\n",
    "Client Ownership: Clearly acknowledge the collaborative nature of the project and their role in its direction.\n",
    "Concise: The proposal should be easily readable in one sitting.\n",
    "Outcome: The client should be clearly told that we would like to do the whole software development process for a proof of concept with SRS, Architecture, Workflows, Message sequence charts, UI wireframes as part of showing our skills rather than just saying we can do it.\n",
    "Keep it within 1400 characters with spaces\n",
    "\"\"\"\n",
    "\n",
    "# prepare the request body\n",
    "request_body = {\n",
    "    \"prompt\": {\n",
    "        \"text\": prompt\n",
    "    }\n",
    "}\n",
    "\n",
    "# make the request to generative language api\n",
    "response = requests.post(f\"{endpoint}/models/text-bison-001:generateText?key={api_key}\", json=request_body)\n",
    "proposal = response.json()['candidates'][0]['output']\n",
    "print(f\"Generated proposal: {proposal}\")\n"
   ]
  }
 ],
 "metadata": {
  "kernelspec": {
   "display_name": "myenv",
   "language": "python",
   "name": "python3"
  },
  "language_info": {
   "codemirror_mode": {
    "name": "ipython",
    "version": 3
   },
   "file_extension": ".py",
   "mimetype": "text/x-python",
   "name": "python",
   "nbconvert_exporter": "python",
   "pygments_lexer": "ipython3",
   "version": "3.8.10"
  }
 },
 "nbformat": 4,
 "nbformat_minor": 2
}
