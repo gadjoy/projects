{
 "cells": [
  {
   "cell_type": "code",
   "execution_count": 3,
   "metadata": {},
   "outputs": [],
   "source": [
    "project_title = \"\"\"chatgpt/Linking-data-custom-GPT\"\"\"\n",
    "project_description = \"\"\"I'm seeking a professional to link a custom GPT a pre-cleaned and prepared text data source. The main goal of this integration is to perform simple data extraction.\n",
    "\n",
    "Key Requirements:\n",
    "- Linking the custom GPT model with a prepared text data source. This will include 5 files each with 10 columns and about 1 million rows each.\n",
    "- Implementing using LangChain or other suitable methods.\n",
    "- Viewing the information via simple charts.\n",
    "\n",
    "Ideal Skills and Experience:\n",
    "- Proficiency in working with GPT models and text data.\n",
    "- Previous experience in building similar integrations\n",
    "- Familiarity with LangChain or similar integration methods.\n",
    "- Ability to complete the project quickly.\n",
    "\n",
    "Please provide a quote based on the work above, your suggested approach/method and an estimated turnaround time.\"\"\""
   ]
  },
  {
   "cell_type": "code",
   "execution_count": 4,
   "metadata": {},
   "outputs": [
    {
     "ename": "KeyError",
     "evalue": "'candidates'",
     "output_type": "error",
     "traceback": [
      "\u001b[0;31m---------------------------------------------------------------------------\u001b[0m",
      "\u001b[0;31mKeyError\u001b[0m                                  Traceback (most recent call last)",
      "Cell \u001b[0;32mIn[4], line 53\u001b[0m\n\u001b[1;32m     51\u001b[0m \u001b[38;5;66;03m# make the request to generative language api\u001b[39;00m\n\u001b[1;32m     52\u001b[0m response \u001b[38;5;241m=\u001b[39m requests\u001b[38;5;241m.\u001b[39mpost(\u001b[38;5;124mf\u001b[39m\u001b[38;5;124m\"\u001b[39m\u001b[38;5;132;01m{\u001b[39;00mendpoint\u001b[38;5;132;01m}\u001b[39;00m\u001b[38;5;124m/models/text-bison-001:generateText?key=\u001b[39m\u001b[38;5;132;01m{\u001b[39;00mapi_key\u001b[38;5;132;01m}\u001b[39;00m\u001b[38;5;124m\"\u001b[39m, json\u001b[38;5;241m=\u001b[39mrequest_body)\n\u001b[0;32m---> 53\u001b[0m proposal \u001b[38;5;241m=\u001b[39m \u001b[43mresponse\u001b[49m\u001b[38;5;241;43m.\u001b[39;49m\u001b[43mjson\u001b[49m\u001b[43m(\u001b[49m\u001b[43m)\u001b[49m\u001b[43m[\u001b[49m\u001b[38;5;124;43m'\u001b[39;49m\u001b[38;5;124;43mcandidates\u001b[39;49m\u001b[38;5;124;43m'\u001b[39;49m\u001b[43m]\u001b[49m[\u001b[38;5;241m0\u001b[39m][\u001b[38;5;124m'\u001b[39m\u001b[38;5;124moutput\u001b[39m\u001b[38;5;124m'\u001b[39m]\n\u001b[1;32m     54\u001b[0m \u001b[38;5;28mprint\u001b[39m(\u001b[38;5;124mf\u001b[39m\u001b[38;5;124m\"\u001b[39m\u001b[38;5;132;01m{\u001b[39;00mproposal\u001b[38;5;132;01m}\u001b[39;00m\u001b[38;5;124m\"\u001b[39m)\n",
      "\u001b[0;31mKeyError\u001b[0m: 'candidates'"
     ]
    }
   ],
   "source": [
    "import requests\n",
    "import os\n",
    "from dotenv import load_dotenv\n",
    "# Set API endpoint\n",
    "load_dotenv()\n",
    "api_key = os.getenv('GOOGLE_API_KEY')\n",
    "endpoint = \"https://generativelanguage.googleapis.com/v1beta2\"\n",
    "\n",
    "# generate the prompt to get my proposal\n",
    "prompt = f\"\"\"\n",
    "\n",
    "INPUT:\n",
    "\n",
    "Role: You are a client-focused project proposal expert with strong understanding of the client's vision.\n",
    "\n",
    "Context: The client's requirements are analyzed for a software project. You have a solid understanding of their needs and have prepared the following:\n",
    "\n",
    "Project Title: {project_title}\n",
    "Project Description: {project_description}\n",
    "\n",
    "Project Summary: Provide a 2-3 paragraphs overview of the potential project, emphasizing its key benefits derived from the client's requirements.\n",
    "\n",
    "Project Understanding: Write 2-3 paragraphs highlighting how your solution addresses their needs:\n",
    "\n",
    "Emphasize that you carefully analyzed their needs and developed a clear project description, providing a solid foundation.\n",
    "Stress your commitment and focus by proactively outlining the project's scope and objectives.\n",
    "Solution Fit: Briefly explain how your solution's design meets their requirements (provide a top-level explanation). This establishes a focus on quality and alignment with their goals.\n",
    "\n",
    "Client-Centric Value: Explain how your project outline provides clarity to ensure the project evolves in accordance with their vision.\n",
    "\n",
    "Invitation to Collaboration: Underscore your commitment to their feedback and invite the client to further refine project goals as a collaborative effort.\n",
    "\n",
    "Call to Action: Suggest next steps, such as discussing a formal development plan.\n",
    "\n",
    "Additional Considerations:\n",
    "\n",
    "Tone: Proactive, demonstrating your understanding of the client's needs.\n",
    "Client Ownership: Clearly acknowledge the collaborative nature of the project and their role in its direction.\n",
    "Concise: The proposal should be easily readable in one sitting.\n",
    "Outcome: The client should be clearly told that we would like to do the whole software development process for a proof of concept with SRS, Architecture, Workflows, Message sequence charts, UI wireframes as part of showing our skills rather than just saying we can do it.\n",
    "Keep it exactly within 1400 characters and do not consider the spaces. Make sure that the proposal characters should not increase the given set of number as that limit.\n",
    "\"\"\"\n",
    "\n",
    "# prepare the request body\n",
    "request_body = {\n",
    "    \"prompt\": {\n",
    "        \"text\": prompt\n",
    "    }\n",
    "}\n",
    "\n",
    "# make the request to generative language api\n",
    "response = requests.post(f\"{endpoint}/models/text-bison-001:generateText?key={api_key}\", json=request_body)\n",
    "proposal = response.json()['candidates'][0]['output']\n",
    "print(f\"{proposal}\")\n"
   ]
  }
 ],
 "metadata": {
  "kernelspec": {
   "display_name": "myenv",
   "language": "python",
   "name": "python3"
  },
  "language_info": {
   "codemirror_mode": {
    "name": "ipython",
    "version": 3
   },
   "file_extension": ".py",
   "mimetype": "text/x-python",
   "name": "python",
   "nbconvert_exporter": "python",
   "pygments_lexer": "ipython3",
   "version": "3.8.10"
  }
 },
 "nbformat": 4,
 "nbformat_minor": 2
}
