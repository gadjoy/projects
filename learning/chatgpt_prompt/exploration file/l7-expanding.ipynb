{
 "cells": [
  {
   "cell_type": "markdown",
   "id": "8de529e8-3891-4f47-8585-65b92b80bbf7",
   "metadata": {},
   "source": [
    "# Expanding\n",
    "In this lesson, you will generate customer service emails that are tailored to each customer's review.\n",
    "\n",
    "## Setup"
   ]
  },
  {
   "cell_type": "code",
   "execution_count": 1,
   "id": "e23399a9",
   "metadata": {
    "height": 132
   },
   "outputs": [],
   "source": [
    "\n",
    "import os\n",
    "\n",
    "from dotenv import load_dotenv, find_dotenv\n",
    "_ = load_dotenv(find_dotenv())\n",
    "\n",
    "api_key  = os.getenv('GOOGLE_API_KEY')"
   ]
  },
  {
   "cell_type": "code",
   "execution_count": 2,
   "id": "4c943900-98db-40b3-b639-7822ee2c5fd8",
   "metadata": {
    "height": 166
   },
   "outputs": [],
   "source": [
    "import requests\n",
    "import os\n",
    "\n",
    "from dotenv import load_dotenv, find_dotenv\n",
    "_ = load_dotenv(find_dotenv()) # read local .env file\n",
    "api_key = os.environ['GOOGLE_API_KEY']\n",
    "\n",
    "# Set the API endpoint and API key.\n",
    "endpoint = \"https://generativelanguage.googleapis.com/v1beta\"\n",
    "\n",
    "def get_completion(prompt):\n",
    "   # Prepare the request body.\n",
    "   request_body = {\n",
    "       \"contents\": [\n",
    "           {\n",
    "               \"parts\": [\n",
    "                   {\n",
    "                       \"text\": prompt\n",
    "                   }\n",
    "               ]\n",
    "           }\n",
    "       ]\n",
    "   }\n",
    "\n",
    "   # Make the request.\n",
    "   response = requests.post(\n",
    "       f\"{endpoint}/models/gemini-pro:generateContent?key={api_key}\",\n",
    "       json=request_body,\n",
    "   )\n",
    "\n",
    "   # Parse the response.\n",
    "   response_json = response.json()\n",
    "\n",
    "   generated_content = response_json[\"candidates\"][0]['content']['parts'][0]['text']\n",
    "\n",
    "   # Return the generated content.\n",
    "   return generated_content"
   ]
  },
  {
   "cell_type": "markdown",
   "id": "f8ceea77-990a-4c64-bb49-3ba65eb155d2",
   "metadata": {},
   "source": [
    "## Customize the automated reply to a customer email"
   ]
  },
  {
   "cell_type": "code",
   "execution_count": 3,
   "id": "c30c4239",
   "metadata": {
    "height": 642
   },
   "outputs": [],
   "source": [
    "# given the sentiment from the lesson on \"inferring\",\n",
    "# and the original customer message, customize the email\n",
    "sentiment = \"negative\"\n",
    "\n",
    "# review for a blender\n",
    "review = f\"\"\"\n",
    "So, they still had the 17 piece system on seasonal \\\n",
    "sale for around $49 in the month of November, about \\\n",
    "half off, but for some reason (call it price gouging) \\\n",
    "around the second week of December the prices all went \\\n",
    "up to about anywhere from between $70-$89 for the same \\\n",
    "system. And the 11 piece system went up around $10 or \\\n",
    "so in price also from the earlier sale price of $29. \\\n",
    "So it looks okay, but if you look at the base, the part \\\n",
    "where the blade locks into place doesn’t look as good \\\n",
    "as in previous editions from a few years ago, but I \\\n",
    "plan to be very gentle with it (example, I crush \\\n",
    "very hard items like beans, ice, rice, etc. in the \\ \n",
    "blender first then pulverize them in the serving size \\\n",
    "I want in the blender then switch to the whipping \\\n",
    "blade for a finer flour, and use the cross cutting blade \\\n",
    "first when making smoothies, then use the flat blade \\\n",
    "if I need them finer/less pulpy). Special tip when making \\\n",
    "smoothies, finely cut and freeze the fruits and \\\n",
    "vegetables (if using spinach-lightly stew soften the \\ \n",
    "spinach then freeze until ready for use-and if making \\\n",
    "sorbet, use a small to medium sized food processor) \\ \n",
    "that you plan to use that way you can avoid adding so \\\n",
    "much ice if at all-when making your smoothie. \\\n",
    "After about a year, the motor was making a funny noise. \\\n",
    "I called customer service but the warranty expired \\\n",
    "already, so I had to buy another one. FYI: The overall \\\n",
    "quality has gone done in these types of products, so \\\n",
    "they are kind of counting on brand recognition and \\\n",
    "consumer loyalty to maintain sales. Got it in about \\\n",
    "two days.\n",
    "\"\"\""
   ]
  },
  {
   "cell_type": "code",
   "execution_count": 3,
   "id": "b4c0b9d4",
   "metadata": {},
   "outputs": [],
   "source": [
    "# given the sentiment from the lesson on \"inferring\",\n",
    "# and the original customer message, customize the email\n",
    "sentiment = \"negative\"\n",
    "\n",
    "# review for a blender\n",
    "review = f\"\"\"\n",
    "In the pursuit of updating the review to fit the context of a customer review for a footwear shop, we can adapt the content to reflect the customer's experience with purchasing footwear sets/ Below is the revised paragraph:\n",
    "\n",
    "\"I recently purchased 20 sets of footwear from this shop, each priced at $300/ Initially, the deal seemed promising, akin to a seasonal sale, with an attractive price point/\n",
    " However, my enthusiasm dwindled when I noticed a significant increase in prices by the second week of December/\n",
    "   The sets, though functional, lacked the durability I expected. Upon closer inspection, I noticed inconsistencies in the craftsmanship compared to previous edition/ Despite handling the footwear with care, signs of wear and tear emerged within a year of use/ Unfortunately, when I reached out to customer service regarding a warranty claim, I was informed that had already expired/\n",
    " It's disappointing to witness a decline in product quality, leaving customers reliant on brand recognition rather than product integrity.\"\n",
    "\"\"\""
   ]
  },
  {
   "cell_type": "code",
   "execution_count": 4,
   "id": "d5403f73",
   "metadata": {
    "height": 302
   },
   "outputs": [
    {
     "name": "stdout",
     "output_type": "stream",
     "text": [
      "Dear Valued Customer,\n",
      "\n",
      "Thank you for taking the time to share your feedback on your recent purchase. We appreciate that you have chosen our product and provided valuable insights that will help us improve.\n",
      "\n",
      "We are aware of the recent price increase and apologize for any inconvenience this may have caused. We strive to maintain competitive pricing while ensuring the highest quality standards.\n",
      "\n",
      "Regarding concerns about the quality of the base, we understand your disappointment. We have shared your feedback with our product development team and will evaluate any potential improvements.\n",
      "\n",
      "We regret that your motor experienced an issue after a year of use. Our warranty policy is designed to ensure the longevity of our products, but we understand that sometimes issues occur outside of this period. We encourage you to reach out to our customer service department for further assistance.\n",
      "\n",
      "Your detailed tips on using our products are very helpful. We appreciate your sharing your knowledge and insights.\n",
      "\n",
      "Thank you again for your review. We value your continued patronage.\n",
      "\n",
      "Sincerely,\n",
      "\n",
      "AI Customer Agent\n"
     ]
    }
   ],
   "source": [
    "prompt = f\"\"\"\n",
    "You are a customer service AI assistant.\n",
    "Your task is to send an email reply to a valued customer.\n",
    "Given the customer email delimited by ```, \\\n",
    "Generate a reply to thank the customer for their review.\n",
    "If the sentiment is positive or neutral, thank them for \\\n",
    "their review.\n",
    "If the sentiment is negative, apologize and suggest that \\\n",
    "they can reach out to customer service. \n",
    "Make sure to use specific details from the review.\n",
    "Write in a concise and professional tone.\n",
    "Sign the email as `AI customer agent`.\n",
    "Customer review: ```{review}```\n",
    "Review sentiment: {sentiment}\n",
    "\"\"\"\n",
    "response = get_completion(prompt)\n",
    "print(response)"
   ]
  },
  {
   "cell_type": "code",
   "execution_count": 4,
   "id": "5dd6f0f4",
   "metadata": {},
   "outputs": [
    {
     "name": "stdout",
     "output_type": "stream",
     "text": [
      "Dear Valued Customer,\n",
      "\n",
      "Thank you for taking the time to review your recent purchase of 20 footwear sets. We appreciate your feedback, and we're sorry to hear that the durability of the sets did not meet your expectations.\n",
      "\n",
      "We understand your disappointment with the increased prices and the inconsistent craftsmanship. We are committed to providing quality products at an affordable price, and we will use your feedback to improve our offerings and service.\n",
      "\n",
      "Regarding your inquiry about a warranty claim, we will reach out to our customer service department to investigate further. We will make every effort to resolve this issue promptly.\n",
      "\n",
      "We value your patronage and hope that we can continue to serve you in the future. Please feel free to contact us if you have any further questions or concerns.\n",
      "\n",
      "Sincerely,\n",
      "\n",
      "AI Customer Agent\n"
     ]
    }
   ],
   "source": [
    "prompt = f\"\"\"\n",
    "You are a customer service AI assistant.\n",
    "Your task is to send an email reply to a valued customer.\n",
    "Given the customer email delimited by ```, \\\n",
    "Generate a reply to thank the customer for their review.\n",
    "If the sentiment is positive or neutral, thank them for \\\n",
    "their review.\n",
    "If the sentiment is negative, apologize and suggest that \\\n",
    "they can reach out to customer service. \n",
    "Make sure to use specific details from the review.\n",
    "Write in a concise and professional tone.\n",
    "Sign the email as `AI customer agent`.\n",
    "Customer review: ```{review}```\n",
    "Review sentiment: {sentiment}\n",
    "\"\"\"\n",
    "response = get_completion(prompt)\n",
    "print(response)"
   ]
  },
  {
   "cell_type": "markdown",
   "id": "55605ee0-118c-4c46-a917-4981a43fcad3",
   "metadata": {},
   "source": [
    "## Remind the model to use details from the customer's email"
   ]
  },
  {
   "cell_type": "code",
   "execution_count": 5,
   "id": "1d5ea7c8",
   "metadata": {
    "height": 302
   },
   "outputs": [
    {
     "ename": "TypeError",
     "evalue": "get_completion() got an unexpected keyword argument 'temperature'",
     "output_type": "error",
     "traceback": [
      "\u001b[0;31m---------------------------------------------------------------------------\u001b[0m",
      "\u001b[0;31mTypeError\u001b[0m                                 Traceback (most recent call last)",
      "Cell \u001b[0;32mIn[5], line 16\u001b[0m\n\u001b[1;32m      1\u001b[0m prompt \u001b[38;5;241m=\u001b[39m \u001b[38;5;124mf\u001b[39m\u001b[38;5;124m\"\"\"\u001b[39m\n\u001b[1;32m      2\u001b[0m \u001b[38;5;124mYou are a customer service AI assistant.\u001b[39m\n\u001b[1;32m      3\u001b[0m \u001b[38;5;124mYour task is to send an email reply to a valued customer.\u001b[39m\n\u001b[0;32m   (...)\u001b[0m\n\u001b[1;32m     14\u001b[0m \u001b[38;5;124mReview sentiment: \u001b[39m\u001b[38;5;132;01m{\u001b[39;00msentiment\u001b[38;5;132;01m}\u001b[39;00m\n\u001b[1;32m     15\u001b[0m \u001b[38;5;124m\"\"\"\u001b[39m\n\u001b[0;32m---> 16\u001b[0m response \u001b[38;5;241m=\u001b[39m \u001b[43mget_completion\u001b[49m\u001b[43m(\u001b[49m\u001b[43mprompt\u001b[49m\u001b[43m,\u001b[49m\u001b[43m \u001b[49m\u001b[43mtemperature\u001b[49m\u001b[38;5;241;43m=\u001b[39;49m\u001b[38;5;241;43m0.7\u001b[39;49m\u001b[43m)\u001b[49m\n\u001b[1;32m     17\u001b[0m \u001b[38;5;28mprint\u001b[39m(response)\n",
      "\u001b[0;31mTypeError\u001b[0m: get_completion() got an unexpected keyword argument 'temperature'"
     ]
    }
   ],
   "source": [
    "prompt = f\"\"\"\n",
    "You are a customer service AI assistant.\n",
    "Your task is to send an email reply to a valued customer.\n",
    "Given the customer email delimited by ```, \\\n",
    "Generate a reply to thank the customer for their review.\n",
    "If the sentiment is positive or neutral, thank them for \\\n",
    "their review.\n",
    "If the sentiment is negative, apologize and suggest that \\\n",
    "they can reach out to customer service. \n",
    "Make sure to use specific details from the review.\n",
    "Write in a concise and professional tone.\n",
    "Sign the email as `AI customer agent`.\n",
    "Customer review: ```{review}```\n",
    "Review sentiment: {sentiment}\n",
    "\"\"\"\n",
    "response = get_completion(prompt, temperature=0.7)\n",
    "print(response)"
   ]
  },
  {
   "cell_type": "markdown",
   "id": "31e317ad-9e51-4e7a-90c3-d88e7bf8a98c",
   "metadata": {},
   "source": [
    "## Try experimenting on your own!"
   ]
  },
  {
   "cell_type": "code",
   "execution_count": null,
   "id": "ffa65c7e",
   "metadata": {
    "height": 30
   },
   "outputs": [],
   "source": []
  },
  {
   "cell_type": "markdown",
   "id": "35c3088b",
   "metadata": {},
   "source": [
    "# Summary\n",
    "\n",
    "#### Customize the automated reply to a customer email\n",
    "- This task instructs the AI customer service assistant to send an email reply based on a customer review. If the sentiment is positive or neutral, it thanks the customer for their review. If negative, it apologizes and suggests reaching out to customer service. It should use details from the review, maintain a professional tone, and sign as \"AI customer agent\".\n",
    "\n",
    "#### Remind the model to use details from the customer's email\n",
    "- A reminder is provided to the model to incorporate specific details from the customer's review into the email response.\n",
    "\n"
   ]
  },
  {
   "cell_type": "markdown",
   "id": "fd2a5b01",
   "metadata": {},
   "source": []
  }
 ],
 "metadata": {
  "kernelspec": {
   "display_name": "Python 3 (ipykernel)",
   "language": "python",
   "name": "python3"
  },
  "language_info": {
   "codemirror_mode": {
    "name": "ipython",
    "version": 3
   },
   "file_extension": ".py",
   "mimetype": "text/x-python",
   "name": "python",
   "nbconvert_exporter": "python",
   "pygments_lexer": "ipython3",
   "version": "3.8.10"
  }
 },
 "nbformat": 4,
 "nbformat_minor": 5
}
