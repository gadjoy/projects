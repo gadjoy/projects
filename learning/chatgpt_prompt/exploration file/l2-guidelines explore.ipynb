{
 "cells": [
  {
   "cell_type": "markdown",
   "id": "7ebe2e9d-685d-4ea3-ab7c-9589caaabff5",
   "metadata": {},
   "source": [
    "# Guidelines for Prompting\n",
    "In this lesson, you'll practice two prompting principles and their related tactics in order to write effective prompts for large language models.\n",
    "\n",
    "## Setup\n",
    "#### Load the API key and relevant Python libaries."
   ]
  },
  {
   "cell_type": "markdown",
   "id": "00bab499-9a50-4bd0-a622-1c914c6ccc29",
   "metadata": {},
   "source": [
    "In this course, we've provided some code that loads the OpenAI API key for you."
   ]
  },
  {
   "cell_type": "code",
   "execution_count": 2,
   "id": "6c382975",
   "metadata": {
    "tags": []
   },
   "outputs": [],
   "source": [
    "\n",
    "import os\n",
    "\n",
    "from dotenv import load_dotenv, find_dotenv\n",
    "_ = load_dotenv(find_dotenv())\n",
    "\n",
    "api_key  = os.getenv('GOOGLE_API_KEY')"
   ]
  },
  {
   "cell_type": "markdown",
   "id": "a3acefa8-f8f1-4ef8-932e-9bcefa142666",
   "metadata": {},
   "source": [
    "#### helper function\n",
    "Throughout this course, we will use OpenAI's `gpt-3.5-turbo` model and the [chat completions endpoint](https://platform.openai.com/docs/guides/chat). \n",
    "\n",
    "This helper function will make it easier to use prompts and look at the generated outputs.  \n",
    "**Note**: In June 2023, OpenAI updated gpt-3.5-turbo. The results you see in the notebook may be slightly different than those in the video. Some of the prompts have also been slightly modified to product the desired results."
   ]
  },
  {
   "cell_type": "code",
   "execution_count": 3,
   "id": "a7dff174",
   "metadata": {
    "tags": []
   },
   "outputs": [],
   "source": [
    "import requests\n",
    "import os\n",
    "\n",
    "from dotenv import load_dotenv, find_dotenv\n",
    "_ = load_dotenv(find_dotenv()) # read local .env file\n",
    "api_key = os.environ['GOOGLE_API_KEY']\n",
    "\n",
    "# Set the API endpoint and API key.\n",
    "endpoint = \"https://generativelanguage.googleapis.com/v1beta\"\n",
    "\n",
    "def get_completion(prompt):\n",
    "   # Prepare the request body.\n",
    "   request_body = {\n",
    "       \"contents\": [\n",
    "           {\n",
    "               \"parts\": [\n",
    "                   {\n",
    "                       \"text\": prompt\n",
    "                   }\n",
    "               ]\n",
    "           }\n",
    "       ]\n",
    "   }\n",
    "\n",
    "   # Make the request.\n",
    "   response = requests.post(\n",
    "       f\"{endpoint}/models/gemini-pro:generateContent?key={api_key}\",\n",
    "       json=request_body,\n",
    "   )\n",
    "\n",
    "   # Parse the response.\n",
    "   response_json = response.json()\n",
    "\n",
    "   generated_content = response_json[\"candidates\"][0]['content']['parts'][0]['text']\n",
    "\n",
    "   # Return the generated content.\n",
    "   return generated_content"
   ]
  },
  {
   "cell_type": "markdown",
   "id": "e8b32ac4",
   "metadata": {},
   "source": [
    "**Note:** This and all other lab notebooks of this course use OpenAI library version `0.27.0`. \n",
    "\n",
    "In order to use the OpenAI library version `1.0.0`, here is the code that you would use instead for the `get_completion` function:\n",
    "\n",
    "```python\n",
    "client = openai.OpenAI()\n",
    "\n",
    "import requests\n",
    "import os\n",
    "\n",
    "from dotenv import load_dotenv, find_dotenv\n",
    "_ = load_dotenv(find_dotenv()) # read local .env file\n",
    "api_key = os.environ['GOOGLE_API_KEY']\n",
    "\n",
    "# Set the API endpoint and API key.\n",
    "endpoint = \"https://generativelanguage.googleapis.com/v1beta\"\n",
    "\n",
    "def get_completion(prompt):\n",
    "   # Prepare the request body.\n",
    "   request_body = {\n",
    "       \"contents\": [\n",
    "           {\n",
    "               \"parts\": [\n",
    "                   {\n",
    "                       \"text\": prompt\n",
    "                   }\n",
    "               ]\n",
    "           }\n",
    "       ]\n",
    "   }\n",
    "\n",
    "   # Make the request.\n",
    "   response = requests.post(\n",
    "       f\"{endpoint}/models/gemini-pro:generateContent?key={api_key}\",\n",
    "       json=request_body,\n",
    "   )\n",
    "\n",
    "   # Parse the response.\n",
    "   response_json = response.json()\n",
    "\n",
    "   generated_content = response_json[\"candidates\"][0]['content']['parts'][0]['text']\n",
    "\n",
    "   # Return the generated content.\n",
    "   return generated_content\n",
    "```"
   ]
  },
  {
   "cell_type": "markdown",
   "id": "3b62298e-2181-4e73-bb40-77e20c655231",
   "metadata": {},
   "source": [
    "## Prompting Principles\n",
    "- **Principle 1: Write clear and specific instructions**\n",
    "- **Principle 2: Give the model time to “think”**\n",
    "\n",
    "### Tactics\n",
    "\n",
    "#### Tactic 1: Use delimiters to clearly indicate distinct parts of the input\n",
    "- Delimiters can be anything like: ```, \"\"\", < >, `<tag> </tag>`, `:`"
   ]
  },
  {
   "cell_type": "code",
   "execution_count": 4,
   "id": "87121316",
   "metadata": {
    "tags": []
   },
   "outputs": [
    {
     "name": "stdout",
     "output_type": "stream",
     "text": [
      "Provide clear and specific instructions to guide a model towards the desired output, avoiding irrelevant responses and enabling more detailed results.\n"
     ]
    }
   ],
   "source": [
    "text = f\"\"\"\n",
    "You should express what you want a model to do by \\ \n",
    "providing instructions that are as clear and \\ \n",
    "specific as you can possibly make them. \\ \n",
    "This will guide the model towards the desired output, \\ \n",
    "and reduce the chances of receiving irrelevant \\ \n",
    "or incorrect responses. Don't confuse writing a \\ \n",
    "clear prompt with writing a short prompt. \\ \n",
    "In many cases, longer prompts provide more clarity \\ \n",
    "and context for the model, which can lead to \\ \n",
    "more detailed and relevant outputs.\n",
    "\"\"\"\n",
    "prompt = f\"\"\"\n",
    "Summarize the text delimited by triple backticks \\ \n",
    "into a single sentence.\n",
    "```{text}```\n",
    "\"\"\"\n",
    "response = get_completion(prompt)\n",
    "print(response)"
   ]
  },
  {
   "cell_type": "code",
   "execution_count": 6,
   "id": "1e7df604",
   "metadata": {},
   "outputs": [
    {
     "name": "stdout",
     "output_type": "stream",
     "text": [
      "Sushil, a CSE graduate from a tier 3 college, secured a remote full-time job offer through Cuvette's Placement Guaranteed Program, which provides beginner-friendly courses, project-based learning, mentor support, and weekly placement opportunities.\n"
     ]
    }
   ],
   "source": [
    "text = f\"\"\"\n",
    "Dear Student,\n",
    "\n",
    "Sushil is a CSE graduate from a tier 3 college. With the help of our placement team, he was able to secure a remote full-time job offer. He says - \"The course was beginner-friendly, and the projects facilitated effective learning. Throughout the course, we had access to mentors and doubt support to resolve our queries. The placement team connected me with 3-4 opportunities weekly, and I secured placement by the 3rd week\"\n",
    "\n",
    "Watch his Feedback video here to gain insights about our program.\n",
    "Success is knocking! Join our Placement Guaranteed Program, where you learn from experienced instructors and secure a Guaranteed Job with a CTC of up to 25 LPA. Your journey to a fulfilling career starts here: https://cuvette.tech/placement-guarantee-program/\n",
    "\n",
    "\n",
    "Best Wishes,\n",
    "Team Cuvette\n",
    "\"\"\"\n",
    "prompt = f\"\"\"\n",
    "Summarize the text delimited by triple backticks \\ \n",
    "into a single sentence.\n",
    "```{text}```\n",
    "\"\"\"\n",
    "response = get_completion(prompt)\n",
    "print(response)"
   ]
  },
  {
   "cell_type": "markdown",
   "id": "f2798f3d-7618-4ac5-a6b2-3c69c537903d",
   "metadata": {},
   "source": [
    "#### Tactic 2: Ask for a structured output\n",
    "- JSON, HTML"
   ]
  },
  {
   "cell_type": "code",
   "execution_count": 4,
   "id": "6b50bbbd",
   "metadata": {
    "tags": []
   },
   "outputs": [
    {
     "name": "stdout",
     "output_type": "stream",
     "text": [
      "```json\n",
      "[\n",
      "  {\n",
      "    \"book_id\": 1,\n",
      "    \"title\": \"Chronoquake: The Tapestry of Time\",\n",
      "    \"author\": \"Eldrin Aethelwright\",\n",
      "    \"genre\": \"Science Fiction\"\n",
      "  },\n",
      "  {\n",
      "    \"book_id\": 2,\n",
      "    \"title\": \"The Enchantments of Atheria\",\n",
      "    \"author\": \"Lyra Moonveil\",\n",
      "    \"genre\": \"Fantasy\"\n",
      "  },\n",
      "  {\n",
      "    \"book_id\": 3,\n",
      "    \"title\": \"The Shadow of Insanity\",\n",
      "    \"author\": \"Edgar Nocturne\",\n",
      "    \"genre\": \"Horror\"\n",
      "  }\n",
      "]\n",
      "```\n"
     ]
    }
   ],
   "source": [
    "prompt = f\"\"\"\n",
    "Generate a list of three made-up book titles along \\ \n",
    "with their authors and genres. \n",
    "Provide them in JSON format with the following keys: \n",
    "book_id, title, author, genre.\n",
    "\"\"\"\n",
    "response = get_completion(prompt)\n",
    "print(response)"
   ]
  },
  {
   "cell_type": "code",
   "execution_count": 7,
   "id": "8383c752",
   "metadata": {},
   "outputs": [
    {
     "name": "stdout",
     "output_type": "stream",
     "text": [
      "```JSON\n",
      "[\n",
      "  {\n",
      "    \"shoe_id\": \"1\",\n",
      "    \"brand\": \"Sole Mates\",\n",
      "    \"variety\": \"Celestial Climbers\",\n",
      "    \"specification\": \"Lightweight and breathable leather with an innovative sole designed for effortless movement on all terrains.\"\n",
      "  },\n",
      "  {\n",
      "    \"shoe_id\": \"2\",\n",
      "    \"brand\": \"Tread & Co.\",\n",
      "    \"variety\": \"Luxe Loafers\",\n",
      "    \"specification\": \"Premium leather construction with a cushioned insole and durable outsole for a sophisticated yet comfortable experience.\"\n",
      "  },\n",
      "  {\n",
      "    \"shoe_id\": \"3\",\n",
      "    \"brand\": \"Stride Collective\",\n",
      "    \"variety\": \"Adaptive Ankle Boots\",\n",
      "    \"specification\": \"Adjustable leather ankle boots with a hidden elastic gore panel that adapts to the wearer's foot shape, providing a customized and secure fit.\"\n",
      "  }\n",
      "]\n",
      "```\n"
     ]
    }
   ],
   "source": [
    "prompt = f\"\"\"\n",
    "Generate a list of three made-up leather shoe varieties along \\ \n",
    "with their brands and specifications. \n",
    "Provide them in JSON format with the following keys: \n",
    "shoe_id, brand, variety, specification.\n",
    "\"\"\"\n",
    "response = get_completion(prompt)\n",
    "print(response)"
   ]
  },
  {
   "cell_type": "markdown",
   "id": "22a71c4f-b1f1-4d67-ad5a-e49fc1e3147d",
   "metadata": {},
   "source": [
    "#### Tactic 3: Ask the model to check whether conditions are satisfied"
   ]
  },
  {
   "cell_type": "code",
   "execution_count": 6,
   "id": "f0ae612e",
   "metadata": {
    "tags": []
   },
   "outputs": [
    {
     "name": "stdout",
     "output_type": "stream",
     "text": [
      "Completion for Text 1:\n",
      "Step 1 - Bring water to a boil.\n",
      "Step 2 - Place a tea bag in a cup.\n",
      "Step 3 - Pour hot water over the tea bag.\n",
      "Step 4 - Allow the tea to steep for a few minutes.\n",
      "Step 5 - Remove the tea bag.\n",
      "Step 6 - Add sugar or milk to taste (optional).\n"
     ]
    }
   ],
   "source": [
    "text_1 = f\"\"\"\n",
    "Making a cup of tea is easy! First, you need to get some \\ \n",
    "water boiling. While that's happening, \\ \n",
    "grab a cup and put a tea bag in it. Once the water is \\ \n",
    "hot enough, just pour it over the tea bag. \\ \n",
    "Let it sit for a bit so the tea can steep. After a \\ \n",
    "few minutes, take out the tea bag. If you \\ \n",
    "like, you can add some sugar or milk to taste. \\ \n",
    "And that's it! You've got yourself a delicious \\ \n",
    "cup of tea to enjoy.\n",
    "\"\"\"\n",
    "prompt = f\"\"\"\n",
    "You will be provided with text delimited by triple quotes. \n",
    "If it contains a sequence of instructions, \\ \n",
    "re-write those instructions in the following format:\n",
    "\n",
    "Step 1 - ...\n",
    "Step 2 - …\n",
    "…\n",
    "Step N - …\n",
    "\n",
    "If the text does not contain a sequence of instructions, \\ \n",
    "then simply write \\\"No steps provided.\\\"\n",
    "\n",
    "\\\"\\\"\\\"{text_1}\\\"\\\"\\\"\n",
    "\"\"\"\n",
    "response = get_completion(prompt)\n",
    "print(\"Completion for Text 1:\")\n",
    "print(response)"
   ]
  },
  {
   "cell_type": "code",
   "execution_count": 8,
   "id": "075466c9",
   "metadata": {},
   "outputs": [
    {
     "name": "stdout",
     "output_type": "stream",
     "text": [
      "Completion for Text 1:\n",
      "Step 1 - Install Vue.js using npm:\n",
      "```\n",
      " npm install vue\n",
      " ```\n",
      "\n",
      "Step 2 - Install Axios using npm:\n",
      "```\n",
      " npm install axios\n",
      " ```\n",
      "\n",
      "Step 3 - Install Showdown using npm:\n",
      "```\n",
      " npm install showdown\n",
      " ```\n",
      "\n",
      "Step 4 - Import Axios and Showdown in your Vue.js component script section:\n",
      "```\n",
      "import axios from 'axios';\n",
      "import showdown from 'showdown';\n",
      "```\n",
      "\n",
      "Step 5 - Include Vue.js in your HTML file where the Vue.js component is used. You can use a CDN link:\n",
      "```\n",
      " <script src=\"https://cdn.jsdelivr.net/npm/vue@2\"></script>\n",
      " ```\n",
      "\n",
      "Step 6 - Generate package.json\n",
      "```\n",
      " npm init -y\n",
      " ```\n"
     ]
    }
   ],
   "source": [
    "text_1 = f\"\"\"\n",
    "### Install Vue.js using npm:\n",
    "```\n",
    " npm install vue\n",
    " ```\n",
    "### Install Axios using npm:\n",
    "```\n",
    " npm install axios\n",
    " ```\n",
    "### Install Showdown using npm:\n",
    "```\n",
    " npm install showdown\n",
    " ```\n",
    "### Import Axios and Showdown in your Vue.js component script section:\n",
    "```\n",
    "import axios from 'axios';\n",
    "import showdown from 'showdown';\n",
    "```\n",
    "\n",
    "### Include Vue.js in your HTML file where the Vue.js component is used. You can use a CDN link:\n",
    "```\n",
    " <script src=\"https://cdn.jsdelivr.net/npm/vue@2\"></script>\n",
    " ```\n",
    "\n",
    "### Generate package.json\n",
    "```\n",
    " npm init -y\n",
    " ```\n",
    "\n",
    "\n",
    "\"\"\"\n",
    "prompt = f\"\"\"\n",
    "You will be provided with text delimited by triple quotes. \n",
    "If it contains a sequence of instructions, \\ \n",
    "re-write those instructions in the following format:\n",
    "\n",
    "Step 1 - ...\n",
    "Step 2 - …\n",
    "…\n",
    "Step N - …\n",
    "\n",
    "If the text does not contain a sequence of instructions, \\ \n",
    "then simply write \\\"No steps provided.\\\"\n",
    "\n",
    "\\\"\\\"\\\"{text_1}\\\"\\\"\\\"\n",
    "\"\"\"\n",
    "response = get_completion(prompt)\n",
    "print(\"Completion for Text 1:\")\n",
    "print(response)"
   ]
  },
  {
   "cell_type": "code",
   "execution_count": 12,
   "id": "40751b37",
   "metadata": {},
   "outputs": [
    {
     "name": "stdout",
     "output_type": "stream",
     "text": [
      "Completion for Text 1:\n",
      "**Steps for Vue.js, Axios, and Showdown Installation:**\n",
      "\n",
      "**Step 1 - Install Vue.js using npm:**\n",
      "```\n",
      "npm install vue\n",
      "```\n",
      "\n",
      "**Step 2 - Install Axios using npm:**\n",
      "```\n",
      "npm install axios\n",
      "```\n",
      "\n",
      "**Step 3 - Install Showdown using npm:**\n",
      "```\n",
      "npm install showdown\n",
      "```\n",
      "\n",
      "**Step 4 - Import Axios and Showdown in your Vue.js component script section:**\n",
      "```\n",
      "import axios from 'axios';\n",
      "import showdown from 'showdown';\n",
      "```\n",
      "\n",
      "**Step 5 - Include Vue.js in your HTML file where the Vue.js component is used. You can use a CDN link:**\n",
      "```\n",
      "<script src=\"https://cdn.jsdelivr.net/npm/vue@2\"></script>\n",
      "```\n",
      "\n",
      "**Step 6 - Generate package.json:**\n",
      "```\n",
      "npm init -y\n",
      "```\n"
     ]
    }
   ],
   "source": [
    "text_1 = f\"\"\"\n",
    "### Install Vue.js using npm:\n",
    "```\n",
    " npm install vue\n",
    " ```\n",
    "### Install Axios using npm:\n",
    "```\n",
    " npm install axios\n",
    " ```\n",
    "### Install Showdown using npm:\n",
    "```\n",
    " npm install showdown\n",
    " ```\n",
    "### Import Axios and Showdown in your Vue.js component script section:\n",
    "```\n",
    "import axios from 'axios';\n",
    "import showdown from 'showdown';\n",
    "```\n",
    "\n",
    "### Include Vue.js in your HTML file where the Vue.js component is used. You can use a CDN link:\n",
    "```\n",
    " <script src=\"https://cdn.jsdelivr.net/npm/vue@2\"></script>\n",
    " ```\n",
    "\n",
    "### Generate package.json\n",
    "```\n",
    " npm init -y\n",
    " ```\n",
    "\n",
    "\n",
    "\"\"\"\n",
    "prompt = f\"\"\"\n",
    "You will be provided with text delimited by triple quotes. \n",
    "If it contains a sequence of instructions, \\ \n",
    "re-write those instructions in the following format:\n",
    "\n",
    "Step 1 - ...\n",
    "Step 2 - …\n",
    "…\n",
    "Step N - …\n",
    "\n",
    "If the text does not contain a sequence of instructions, \\ \n",
    "then simply write \\\"No steps provided.\\\"\n",
    "\n",
    "Provide the steps in detailed markdown text.\n",
    "\n",
    "\\\"\\\"\\\"{text_1}\\\"\\\"\\\"\n",
    "\"\"\"\n",
    "response = get_completion(prompt)\n",
    "print(\"Completion for Text 1:\")\n",
    "print(response)"
   ]
  },
  {
   "cell_type": "code",
   "execution_count": null,
   "id": "ea29656f",
   "metadata": {},
   "outputs": [],
   "source": []
  },
  {
   "cell_type": "markdown",
   "id": "b7a0466a",
   "metadata": {},
   "source": [
    "\n",
    "**Steps for Vue.js, Axios, and Showdown Installation:**\n",
    "\n",
    "**Step 1 - Install Vue.js using npm:**\n",
    "```\n",
    "npm install vue\n",
    "```\n",
    "\n",
    "**Step 2 - Install Axios using npm:**\n",
    "```\n",
    "npm install axios\n",
    "```\n",
    "\n",
    "**Step 3 - Install Showdown using npm:**\n",
    "```\n",
    "npm install showdown\n",
    "```\n",
    "\n",
    "**Step 4 - Import Axios and Showdown in your Vue.js component script section:**\n",
    "```\n",
    "import axios from 'axios';\n",
    "import showdown from 'showdown';\n",
    "```\n",
    "\n",
    "**Step 5 - Include Vue.js in your HTML file where the Vue.js component is used. You can use a CDN link:**\n",
    "```\n",
    "<script src=\"https://cdn.jsdelivr.net/npm/vue@2\"></script>\n",
    "```\n",
    "\n",
    "**Step 6 - Generate package.json:**\n",
    "```\n",
    "npm init -y\n",
    "```"
   ]
  },
  {
   "cell_type": "code",
   "execution_count": 7,
   "id": "76b6cc59",
   "metadata": {
    "tags": []
   },
   "outputs": [
    {
     "name": "stdout",
     "output_type": "stream",
     "text": [
      "Completion for Text 2:\n",
      "No steps provided.\n"
     ]
    }
   ],
   "source": [
    "text_2 = f\"\"\"\n",
    "The sun is shining brightly today, and the birds are \\\n",
    "singing. It's a beautiful day to go for a \\ \n",
    "walk in the park. The flowers are blooming, and the \\ \n",
    "trees are swaying gently in the breeze. People \\ \n",
    "are out and about, enjoying the lovely weather. \\ \n",
    "Some are having picnics, while others are playing \\ \n",
    "games or simply relaxing on the grass. It's a \\ \n",
    "perfect day to spend time outdoors and appreciate the \\ \n",
    "beauty of nature.\n",
    "\"\"\"\n",
    "prompt = f\"\"\"\n",
    "You will be provided with text delimited by triple quotes. \n",
    "If it contains a sequence of instructions, \\ \n",
    "re-write those instructions in the following format:\n",
    "\n",
    "Step 1 - ...\n",
    "Step 2 - …\n",
    "…\n",
    "Step N - …\n",
    "\n",
    "If the text does not contain a sequence of instructions, \\ \n",
    "then simply write \\\"No steps provided.\\\"\n",
    "\n",
    "\\\"\\\"\\\"{text_2}\\\"\\\"\\\"\n",
    "\"\"\"\n",
    "response = get_completion(prompt)\n",
    "print(\"Completion for Text 2:\")\n",
    "print(response)"
   ]
  },
  {
   "cell_type": "markdown",
   "id": "3c5866b8-d8c7-4e19-93db-401315f64954",
   "metadata": {},
   "source": [
    "#### Tactic 4: \"Few-shot\" prompting"
   ]
  },
  {
   "cell_type": "code",
   "execution_count": 17,
   "id": "82ce1540",
   "metadata": {
    "tags": []
   },
   "outputs": [
    {
     "name": "stdout",
     "output_type": "stream",
     "text": [
      "<grandparent>: A blade of grass bends low, but it does not break.\n",
      "A pebble is smooth, yet unyielding.\n",
      "The ocean's depths conceal untold strength.\n",
      "\n",
      "Resilience is the silent roar within the gentle breeze.\n"
     ]
    }
   ],
   "source": [
    "prompt = f\"\"\"\n",
    "Your task is to answer in a consistent style.\n",
    "\n",
    "<child>: Teach me about patience.\n",
    "\n",
    "<grandparent>: The river that carves the deepest \\ \n",
    "valley flows from a modest spring; the \\ \n",
    "grandest symphony originates from a single note; \\ \n",
    "the most intricate tapestry begins with a solitary thread.\n",
    "\n",
    "<child>: Teach me about resilience.\n",
    "\"\"\"\n",
    "response = get_completion(prompt)\n",
    "print(response)"
   ]
  },
  {
   "cell_type": "code",
   "execution_count": 19,
   "id": "37ebe05b",
   "metadata": {},
   "outputs": [
    {
     "name": "stdout",
     "output_type": "stream",
     "text": [
      "Let me grab some pairs for you to have a look at. Here are a few options from our latest Sparks collection:\n",
      "\n",
      "1. **Sparks Celeste Chappals:** These chappals have a sleek and stylish design with a comfortable footbed. They come in a range of colors, including black, brown, and navy.\n",
      "\n",
      "2. **Sparks Aurora Chappals:** These chappals are perfect for a casual day out. They have a soft and flexible sole with a trendy strap design. You can choose from various colors, such as blue, green, and pink.\n",
      "\n",
      "3. **Sparks Nova Chappals:** These chappals are designed for all-day comfort. They have a cushioned footbed and a durable outsole. The Nova chappals are available in classic colors like black and brown, as well as bolder shades like red and yellow.\n",
      "\n",
      "Let me know if you'd like to see any of these options or if you have any other questions.\n"
     ]
    }
   ],
   "source": [
    "prompt = f\"\"\"\n",
    "Your task is to answer in a consistent style.\n",
    "\n",
    "<customer>: SHow me new model chppals in sparks brand .\n",
    "\n",
    "<salesman>: Of course! We have a great selection of new chappals just in/\n",
    " They come in various designs and colors to suit your preference/ They're made with high-quality materials for durability and comfort/ Would you like me to show you some options/\n",
    "\n",
    "<customer>: then show me .\n",
    "\"\"\"\n",
    "response = get_completion(prompt)\n",
    "print(response)"
   ]
  },
  {
   "cell_type": "markdown",
   "id": "ece7a8ee-1a2d-415d-8c10-500ecff24b10",
   "metadata": {},
   "source": [
    "### Principle 2: Give the model time to “think” \n",
    "\n",
    "#### Tactic 1: Specify the steps required to complete a task"
   ]
  },
  {
   "cell_type": "code",
   "execution_count": 11,
   "id": "5e7d6860",
   "metadata": {
    "tags": []
   },
   "outputs": [
    {
     "name": "stdout",
     "output_type": "stream",
     "text": [
      "Completion for prompt 1:\n",
      "Summary: Les frères et sœurs Jack et Jill se sont lancés dans une quête pour aller chercher de l'eau à une fontaine  au sommet d'une colline.\n",
      "\n",
      "ملخص: إنطلق الأخوة \"جاك وجيل\" في مهمة لإحضار الماء من بئر على قمة تل.\n",
      "\n",
      "Names in French summary: Jack, Jill\n",
      "\n",
      "```json\n",
      "{\n",
      "  \"french_summary\": \"Les frères et sœurs Jack et Jill se sont lancés dans une quête pour aller chercher de l'eau à une fontaine  au sommet d'une colline.\",\n",
      "  \"num_names\": 2\n",
      "}\n",
      "```\n"
     ]
    }
   ],
   "source": [
    "text = f\"\"\"\n",
    "In a charming village, siblings Jack and Jill set out on \\ \n",
    "a quest to fetch water from a hilltop \\ \n",
    "well. As they climbed, singing joyfully, misfortune \\ \n",
    "struck—Jack tripped on a stone and tumbled \\ \n",
    "down the hill, with Jill following suit. \\ \n",
    "Though slightly battered, the pair returned home to \\ \n",
    "comforting embraces. Despite the mishap, \\ \n",
    "their adventurous spirits remained undimmed, and they \\ \n",
    "continued exploring with delight.\n",
    "\"\"\"\n",
    "# example 1\n",
    "prompt_1 = f\"\"\"\n",
    "Perform the following actions: \n",
    "1 - Summarize the following text delimited by triple \\\n",
    "backticks with 1 sentence.\n",
    "2 - Translate the summary into Arbic.\n",
    "3 - List each name in the French summary.\n",
    "4 - Output a json object that contains the following \\\n",
    "keys: french_summary, num_names.\n",
    "\n",
    "Separate your answers with line breaks.\n",
    "\n",
    "Text:\n",
    "```{text}```\n",
    "\"\"\"\n",
    "response = get_completion(prompt_1)\n",
    "print(\"Completion for prompt 1:\")\n",
    "print(response)"
   ]
  },
  {
   "cell_type": "code",
   "execution_count": 20,
   "id": "065937dd",
   "metadata": {},
   "outputs": [
    {
     "name": "stdout",
     "output_type": "stream",
     "text": [
      "Completion for prompt 1:\n",
      "**Summary:**\n",
      "Waseem and his father overcome financial adversity through perseverance and unity, repaying a 30 lakh loan.\n",
      "\n",
      "**Arabic Translation:**\n",
      "تغلب وسيم ووالده على الشدائد المالية من خلال المثابرة والوحدة وسداد قرض بقيمة 30 لكح روبية.\n",
      "\n",
      "**French Names:**\n",
      "* Waseem\n",
      "\n",
      "**JSON Output:**\n",
      "```\n",
      "{\n",
      "  \"french_summary\": \"Waseem et son père surmontent les difficultés financières grâce à la persévérance et à l'unité, en remboursant un prêt de 30 lakh.\",\n",
      "  \"num_names\": 1\n",
      "}\n",
      "```\n"
     ]
    }
   ],
   "source": [
    "text = f\"\"\"\n",
    "Waseem, a middle-class boy, witnessed his father's relentless struggle to repay a hefty 30 lakh loan. Despite facing financial hardships, they remained determined/ Waseem worked part-time after school, while his father took on extra jobs/ They cut down on expenses, prioritizing loan payments/ Through perseverance and sacrifice, they managed to gradually chip away at the debt/ Their unity strengthened as they faced adversity together/ Finally, after years of hard work and discipline, they celebrated the momentous day when the last installment was paid, realizing that their resilience and dedication had triumphed over financial adversity.\n",
    "\"\"\"\n",
    "# example 1\n",
    "prompt_1 = f\"\"\"\n",
    "Perform the following actions: \n",
    "1 - Summarize the following text delimited by triple \\\n",
    "backticks with 1 sentence.\n",
    "2 - Translate the summary into Arbic.\n",
    "3 - List each name in the French summary.\n",
    "4 - Output a json object that contains the following \\\n",
    "keys: french_summary, num_names.\n",
    "\n",
    "Separate your answers with line breaks.\n",
    "\n",
    "Text:\n",
    "```{text}```\n",
    "\"\"\"\n",
    "response = get_completion(prompt_1)\n",
    "print(\"Completion for prompt 1:\")\n",
    "print(response)"
   ]
  },
  {
   "cell_type": "markdown",
   "id": "d0bb1dcf-95f5-4ee1-8c25-8b2abd5f0f0d",
   "metadata": {},
   "source": [
    "#### Ask for output in a specified format"
   ]
  },
  {
   "cell_type": "code",
   "execution_count": 21,
   "id": "3e4222cc",
   "metadata": {
    "tags": []
   },
   "outputs": [
    {
     "name": "stdout",
     "output_type": "stream",
     "text": [
      "\n",
      "Completion for prompt 2:\n",
      "Summary: Waseem and his father overcame financial hardship by working part-time, cutting expenses, and sacrificing to repay a loan, demonstrating their resilience and unity.\n",
      "Translation: تمكن وسيم ووالده من التغلب على الصعوبات المالية من خلال العمل بدوام جزئي، وخفض النفقات، والتضحية لسداد القرض، مما يدل على مرونتهما ووحدتهما.\n",
      "Names: Waseem\n",
      "Output JSON: {\"french_summary\": \"Waseem et son père ont surmonté des difficultés financières en travaillant à temps partiel, en réduisant leurs dépenses et en se sacrifiant pour rembourser un prêt, ce qui démontre leur résilience et leur unité.\", \"num_names\": 1}\n"
     ]
    }
   ],
   "source": [
    "prompt_2 = f\"\"\"\n",
    "Your task is to perform the following actions: \n",
    "1 - Summarize the following text delimited by \n",
    "  <> with 1 sentence.\n",
    "2 - Translate the summary into Arbic.\n",
    "3 - List each name in the French summary.\n",
    "4 - Output a json object that contains the \n",
    "  following keys: french_summary, num_names.\n",
    "\n",
    "Use the following format:\n",
    "Text: <text to summarize>\n",
    "Summary: <summary>\n",
    "Translation: <summary translation>\n",
    "Names: <list of names in summary>\n",
    "Output JSON: <json with summary and num_names>\n",
    "\n",
    "Text: <{text}>\n",
    "\"\"\"\n",
    "response = get_completion(prompt_2)\n",
    "print(\"\\nCompletion for prompt 2:\")\n",
    "print(response)"
   ]
  },
  {
   "cell_type": "markdown",
   "id": "fec80fdb-92db-48f6-8f1d-b03c26385bad",
   "metadata": {},
   "source": [
    "#### Tactic 2: Instruct the model to work out its own solution before rushing to a conclusion"
   ]
  },
  {
   "cell_type": "code",
   "execution_count": 13,
   "id": "ff5cc985",
   "metadata": {
    "tags": []
   },
   "outputs": [
    {
     "name": "stdout",
     "output_type": "stream",
     "text": [
      "The student's solution is correct.\n"
     ]
    }
   ],
   "source": [
    "prompt = f\"\"\"\n",
    "Determine if the student's solution is correct or not.\n",
    "\n",
    "Question:\n",
    "I'm building a solar power installation and I need \\\n",
    " help working out the financials. \n",
    "- Land costs $100 / square foot\n",
    "- I can buy solar panels for $250 / square foot\n",
    "- I negotiated a contract for maintenance that will cost \\ \n",
    "me a flat $100k per year, and an additional $10 / square \\\n",
    "foot\n",
    "What is the total cost for the first year of operations \n",
    "as a function of the number of square feet.\n",
    "\n",
    "Student's Solution:\n",
    "Let x be the size of the installation in square feet.\n",
    "Costs:\n",
    "1. Land cost: 100x\n",
    "2. Solar panel cost: 250x\n",
    "3. Maintenance cost: 100,000 + 100x\n",
    "Total cost: 100x + 250x + 100,000 + 100x = 450x + 100,000\n",
    "\"\"\"\n",
    "response = get_completion(prompt)\n",
    "print(response)"
   ]
  },
  {
   "cell_type": "markdown",
   "id": "f322ebd9-0f8a-43aa-97fe-5eac70cdcc6a",
   "metadata": {},
   "source": [
    "#### Note that the student's solution is actually not correct.\n",
    "#### We can fix this by instructing the model to work out its own solution first."
   ]
  },
  {
   "cell_type": "code",
   "execution_count": 14,
   "id": "703f7003",
   "metadata": {
    "tags": []
   },
   "outputs": [
    {
     "name": "stdout",
     "output_type": "stream",
     "text": [
      "Let x be the size of the installation in square feet.\n",
      "Costs:\n",
      "1. Land cost: 100x\n",
      "2. Solar panel cost: 250x\n",
      "3. Maintenance cost: 100,000 + 10x\n",
      "Total cost: 100x + 250x + 100,000 + 10x = 360x + 100,000\n",
      "Is the student's solution the same as actual solution just calculated:\n",
      "```\n",
      "no\n",
      "```\n",
      "Student grade:\n",
      "```\n",
      "incorrect\n",
      "```\n"
     ]
    }
   ],
   "source": [
    "prompt = f\"\"\"\n",
    "Your task is to determine if the student's solution \\\n",
    "is correct or not.\n",
    "To solve the problem do the following:\n",
    "- First, work out your own solution to the problem including the final total. \n",
    "- Then compare your solution to the student's solution \\ \n",
    "and evaluate if the student's solution is correct or not. \n",
    "Don't decide if the student's solution is correct until \n",
    "you have done the problem yourself.\n",
    "\n",
    "Use the following format:\n",
    "Question:\n",
    "```\n",
    "question here\n",
    "```\n",
    "Student's solution:\n",
    "```\n",
    "student's solution here\n",
    "```\n",
    "Actual solution:\n",
    "```\n",
    "steps to work out the solution and your solution here\n",
    "```\n",
    "Is the student's solution the same as actual solution \\\n",
    "just calculated:\n",
    "```\n",
    "yes or no\n",
    "```\n",
    "Student grade:\n",
    "```\n",
    "correct or incorrect\n",
    "```\n",
    "\n",
    "Question:\n",
    "```\n",
    "I'm building a solar power installation and I need help \\\n",
    "working out the financials. \n",
    "- Land costs $100 / square foot\n",
    "- I can buy solar panels for $250 / square foot\n",
    "- I negotiated a contract for maintenance that will cost \\\n",
    "me a flat $100k per year, and an additional $10 / square \\\n",
    "foot\n",
    "What is the total cost for the first year of operations \\\n",
    "as a function of the number of square feet.\n",
    "``` \n",
    "Student's solution:\n",
    "```\n",
    "Let x be the size of the installation in square feet.\n",
    "Costs:\n",
    "1. Land cost: 100x\n",
    "2. Solar panel cost: 250x\n",
    "3. Maintenance cost: 100,000 + 100x\n",
    "Total cost: 100x + 250x + 100,000 + 100x = 450x + 100,000\n",
    "```\n",
    "Actual solution:\n",
    "\"\"\"\n",
    "response = get_completion(prompt)\n",
    "print(response)"
   ]
  },
  {
   "cell_type": "markdown",
   "id": "8a207eab-a1b1-47a5-b913-fe38086123d0",
   "metadata": {},
   "source": [
    "## Model Limitations: Hallucinations\n",
    "- Boie is a real company, the product name is not real."
   ]
  },
  {
   "cell_type": "code",
   "execution_count": 23,
   "id": "81c80919",
   "metadata": {
    "tags": []
   },
   "outputs": [
    {
     "name": "stdout",
     "output_type": "stream",
     "text": [
      "**AeroGlide UltraSlim Smart Toothbrush by Boie**\n",
      "\n",
      "**Key Features:**\n",
      "\n",
      "* **Ultra-Thin Brush Head:** 2.5mm bristles for deep cleaning and improved gum health.\n",
      "* **QuadSonic Technology:** Generates 40,000 brush strokes per minute for efficient plaque removal.\n",
      "* **Blue Light Therapy:** Kills up to 99.9% of bacteria for a cleaner, healthier mouth.\n",
      "* **Smart Pressure Sensor:** Alerts you when brushing too hard to prevent damage to teeth and gums.\n",
      "* **Real-Time Feedback:** Bluetooth connectivity to the Boie app provides brushing insights and personalized recommendations.\n",
      "* **8 Brushing Modes:** Customize your brushing experience with different intensity and sensitivity levels.\n",
      "* **Long-Lasting Battery:** Up to 8 weeks of usage on a single charge.\n",
      "* **Wireless Charging:** Includes a convenient wireless charging stand.\n",
      "* **Ergonomic Handle:** Designed for a comfortable grip.\n",
      "\n",
      "**Benefits:**\n",
      "\n",
      "* Deeply cleans teeth and improves gum health.\n",
      "* Eliminates bacteria and prevents dental problems.\n",
      "* Protects teeth and gums from damage.\n",
      "* Provides personalized brushing recommendations.\n",
      "* Offers a convenient and hygienic brushing experience.\n",
      "* Long-lasting battery and wireless charging for hassle-free use.\n",
      "\n",
      "**Additional Features:**\n",
      "\n",
      "* Travel case for easy portability.\n",
      "* Replacement brush heads available in different bristle strengths.\n",
      "* 2-year warranty.\n",
      "\n",
      "**Target Audience:**\n",
      "\n",
      "* Individuals seeking an effective and gentle electric toothbrush.\n",
      "* People with sensitive teeth and gums.\n",
      "* Those who want to improve their oral hygiene routine.\n",
      "* Tech-savvy consumers who appreciate smart features.\n",
      "\n",
      "**Overall:**\n",
      "\n",
      "The AeroGlide UltraSlim Smart Toothbrush by Boie is a technologically advanced device that combines advanced brushing features with smart functionality to deliver an exceptional oral hygiene experience. Its ultra-thin brush head, QuadSonic technology, and real-time feedback help users achieve optimal dental health.\n"
     ]
    }
   ],
   "source": [
    "prompt = f\"\"\"\n",
    "Tell me about AeroGlide UltraSlim Smart Toothbrush by Boie\n",
    "\"\"\"\n",
    "response = get_completion(prompt)\n",
    "print(response)"
   ]
  },
  {
   "cell_type": "code",
   "execution_count": 24,
   "id": "e04d7b7b",
   "metadata": {},
   "outputs": [
    {
     "name": "stdout",
     "output_type": "stream",
     "text": [
      "**The Weight of Burden: A Middle Class Boy's Battle Against Debt**\n",
      "\n",
      "In the bustling metropolis, amidst the shimmering skyscrapers, resided Amit, a middle-class boy burdened by a crushing debt. Life had thrown him a curveball, leaving him with a financial obligation that threatened to consume his dreams.\n",
      "\n",
      "**A Fateful Decision**\n",
      "\n",
      "Amit's journey started with a promising career as a software engineer. Life seemed to be on his side as he found love and married his childhood sweetheart, Seema. However, a sudden illness struck his father, leaving him with medical bills amounting to lakhs of rupees. Desperate, Amit took out a loan to cover the expenses.\n",
      "\n",
      "**The Downward Spiral**\n",
      "\n",
      "As months turned into years, repaying the loan became an insurmountable challenge. Amit's salary was barely enough to cover their living expenses, let alone the monthly EMI installments. He worked tirelessly, taking on extra shifts and sacrificing his sleep, but it still wasn't enough.\n",
      "\n",
      "**Financial Stress and Despair**\n",
      "\n",
      "The financial stress took a toll on Amit and Seema's relationship. Constant worry and sleepless nights cast a dark shadow over their home. Their once-joyful life was now marred by financial strife and desperation.\n",
      "\n",
      "**Isolation and Shame**\n",
      "\n",
      "As Amit's struggle intensified, he began to isolate himself from friends and family. The shame and embarrassment of being unable to repay his debt gnawed at him, making him feel like a failure. He withdrew into himself, his world shrinking to the confines of his work and his endless debt.\n",
      "\n",
      "**The Breaking Point**\n",
      "\n",
      "One evening, as Amit sat alone in his dimly lit apartment, the weight of his burden became unbearable. He had reached a breaking point. Suicidal thoughts began to creep into his mind, threatening to consume him.\n",
      "\n",
      "**A Glimmer of Hope**\n",
      "\n",
      "In his darkest hour, Amit stumbled upon a support group for debtors. There, he found solace and strength in sharing his struggles with others who understood his pain. With their encouragement, he resolved to fight back.\n",
      "\n",
      "**Finding a Lifeline**\n",
      "\n",
      "Amit discovered that he wasn't alone. There were organizations and programs designed to help people like him. He reached out for assistance and was connected with a debt counselor who helped him negotiate a payment plan that he could afford.\n",
      "\n",
      "**The Long Road to Recovery**\n",
      "\n",
      "The journey to financial recovery was arduous and filled with setbacks. There were moments of doubt and despair, but Amit refused to give up. He worked diligently, chipping away at his debt with every paycheck.\n",
      "\n",
      "**A New Beginning**\n",
      "\n",
      "Years later, Amit finally repaid his loan in full. The weight that had burdened him for so long was finally lifted. The struggle had been transformative, teaching him the value of resilience, determination, and the power of seeking help.\n",
      "\n",
      "From the depths of despair, Amit had emerged victorious. His story is a testament to the human spirit's ability to overcome adversity, no matter how formidable it may seem.\n"
     ]
    }
   ],
   "source": [
    "prompt = f\"\"\"\n",
    "Tell me about struggle of middle class boy who struggling hard to repay loan\n",
    "\"\"\"\n",
    "response = get_completion(prompt)\n",
    "print(response)"
   ]
  },
  {
   "cell_type": "markdown",
   "id": "eea88a6e-0141-4296-a73b-6b2282fe0de6",
   "metadata": {},
   "source": [
    "## Try experimenting on your own!"
   ]
  },
  {
   "cell_type": "code",
   "execution_count": null,
   "id": "77457878",
   "metadata": {},
   "outputs": [],
   "source": []
  },
  {
   "cell_type": "markdown",
   "id": "02294fd1-bc42-416a-b0cb-34d6d22b20cd",
   "metadata": {},
   "source": [
    "#### Notes on using the OpenAI API outside of this classroom\n",
    "\n",
    "To install the OpenAI Python library:\n",
    "```\n",
    "!pip install openai\n",
    "```\n",
    "\n",
    "The library needs to be configured with your account's secret key, which is available on the [website](https://platform.openai.com/account/api-keys). \n",
    "\n",
    "You can either set it as the `OPENAI_API_KEY` environment variable before using the library:\n",
    " ```\n",
    " !export OPENAI_API_KEY='sk-...'\n",
    " ```\n",
    "\n",
    "Or, set `openai.api_key` to its value:\n",
    "\n",
    "```\n",
    "import openai\n",
    "openai.api_key = \"sk-...\"\n",
    "```"
   ]
  },
  {
   "cell_type": "markdown",
   "id": "a2ef0aa7-77e5-465e-a0ac-21c7156c9339",
   "metadata": {},
   "source": [
    "#### A note about the backslash\n",
    "- In the course, we are using a backslash `\\` to make the text fit on the screen without inserting newline '\\n' characters.\n",
    "- GPT-3 isn't really affected whether you insert newline characters or not.  But when working with LLMs in general, you may consider whether newline characters in your prompt may affect the model's performance."
   ]
  },
  {
   "cell_type": "markdown",
   "id": "392a7ee5",
   "metadata": {},
   "source": [
    "# summary \n",
    "\n",
    "## Principle 1: Write clear and specific instructions\n",
    "### 1.Guidelines for Effective Prompting:\n",
    "\n",
    "- **Be Clear:**\n",
    "  - *Example:* Instead of saying \"Summarize this text,\" say \"Summarize the text below into one sentence.\"\n",
    "\n",
    "- **Allow Thinking Time:**\n",
    "  - *Example:* Rather than immediately asking a question, provide the model with preliminary steps first to allow it time for processing and response generation..\n",
    "\n",
    "### 2.Tactics for Effective Prompting:\n",
    "\n",
    "- **Use Delimiters:**\n",
    "  - *Example:* Use three backticks to limit the text that needs summarizing and specify the model accordingly..\n",
    "\n",
    "- **Ask for Structured Output:**\n",
    "  - *Example:* Ask the model to generate a list of book titles along with their authors and genres, formatted as JSON.\n",
    "\n",
    "- **Check Conditions:**\n",
    "  - *Example:* Provide a set of instructions and ask the model to rewrite them in a specific format only if the text contains a sequence of instructions.\n",
    "\n",
    "- **\"Few-shot\" Prompting:**\n",
    "  - *Example:* Present a dialogue between a child and a grandparent, and instruct the model to respond consistently in a similar style.\n",
    "\n",
    "## Principle 2: Give the model time to “think” \n",
    "\n",
    "#### Tactic 1: Specify the steps required to complete a task \n",
    "  - *Example 1:* This prompt instructs the model to summarize a provided text in one sentence, translate the summary into Arabic, list each name mentioned in the French summary, and output the results in a JSON object.\n",
    "  #### Ask for output in a specified format\n",
    "  - *Example 1:* This prompt instructs the model to summarize a given text enclosed in angle brackets, translate the summary into Arabic, list the names mentioned in the French summary, and output the information in a JSON format.\n",
    "\n",
    "#### Tactic 2: Instruct the model to work out its own solution before rushing to a conclusion\n",
    "  - *Example 1:* This prompt instructs the model to evaluate a student's solution to a financial problem related to building a solar power installation. The model should first work out its own solution and then compare it to the student's solution to determine its correctness.\n",
    "  \n",
    "  - *Example 2:* Your task is to determine if the student's solution is correct or not.\n",
    "To solve the problem do the following:\n",
    "- First, work out your own solution to the problem including the final total. \n",
    "- Then compare your solution to the student's solution and evaluate if the student's solution is correct or not. \n",
    "Don't decide if the student's solution is correct until you have done the problem yourself.\n",
    "\n",
    "### 3.Model Limitations:\n",
    "\n",
    "- **Hallucinations:**\n",
    "  - *Example:* Asking the model about a fictional product, which may result in invented details.\n"
   ]
  },
  {
   "cell_type": "markdown",
   "id": "11686633",
   "metadata": {},
   "source": []
  }
 ],
 "metadata": {
  "kernelspec": {
   "display_name": "Python 3 (ipykernel)",
   "language": "python",
   "name": "python3"
  },
  "language_info": {
   "codemirror_mode": {
    "name": "ipython",
    "version": 3
   },
   "file_extension": ".py",
   "mimetype": "text/x-python",
   "name": "python",
   "nbconvert_exporter": "python",
   "pygments_lexer": "ipython3",
   "version": "3.8.10"
  }
 },
 "nbformat": 4,
 "nbformat_minor": 5
}
