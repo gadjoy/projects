{
 "cells": [
  {
   "cell_type": "markdown",
   "id": "e3993515-9710-4ac4-89e9-b35ebb81e920",
   "metadata": {
    "id": "rhqRhkElpJ0z"
   },
   "source": [
    "# Transforming\n",
    "\n",
    "In this notebook, we will explore how to use Large Language Models for text transformation tasks such as language translation, spelling and grammar checking, tone adjustment, and format conversion.\n",
    "\n",
    "## Setup"
   ]
  },
  {
   "cell_type": "code",
   "execution_count": 1,
   "id": "41df0348",
   "metadata": {
    "tags": []
   },
   "outputs": [],
   "source": [
    "\n",
    "import os\n",
    "\n",
    "from dotenv import load_dotenv, find_dotenv\n",
    "_ = load_dotenv(find_dotenv())\n",
    "\n",
    "api_key  = os.getenv('GOOGLE_API_KEY')"
   ]
  },
  {
   "cell_type": "code",
   "execution_count": 2,
   "id": "6a85ee0f",
   "metadata": {
    "tags": []
   },
   "outputs": [],
   "source": [
    "import requests\n",
    "import os\n",
    "\n",
    "from dotenv import load_dotenv, find_dotenv\n",
    "_ = load_dotenv(find_dotenv()) # read local .env file\n",
    "api_key = os.environ['GOOGLE_API_KEY']\n",
    "\n",
    "# Set the API endpoint and API key.\n",
    "endpoint = \"https://generativelanguage.googleapis.com/v1beta\"\n",
    "\n",
    "def get_completion(prompt):\n",
    "   # Prepare the request body.\n",
    "   request_body = {\n",
    "       \"contents\": [\n",
    "           {\n",
    "               \"parts\": [\n",
    "                   {\n",
    "                       \"text\": prompt\n",
    "                   }\n",
    "               ]\n",
    "           }\n",
    "       ]\n",
    "   }\n",
    "\n",
    "   # Make the request.\n",
    "   response = requests.post(\n",
    "       f\"{endpoint}/models/gemini-pro:generateContent?key={api_key}\",\n",
    "       json=request_body,\n",
    "   )\n",
    "\n",
    "   # Parse the response.\n",
    "   response_json = response.json()\n",
    "\n",
    "   generated_content = response_json[\"candidates\"][0]['content']['parts'][0]['text']\n",
    "\n",
    "   # Return the generated content.\n",
    "   return generated_content"
   ]
  },
  {
   "cell_type": "markdown",
   "id": "1d8f0bd8-628e-4c36-bcd0-2110162f25fc",
   "metadata": {
    "id": "zdxC4c6pwqA5"
   },
   "source": [
    "## Translation\n",
    "\n",
    "ChatGPT is trained with sources in many languages. This gives the model the ability to do translation. Here are some examples of how to use this capability."
   ]
  },
  {
   "cell_type": "code",
   "execution_count": 5,
   "id": "9c4df6ff",
   "metadata": {
    "tags": []
   },
   "outputs": [
    {
     "name": "stdout",
     "output_type": "stream",
     "text": [
      "مرحبا أرغب في طلب خلاط\n"
     ]
    }
   ],
   "source": [
    "prompt = f\"\"\"\n",
    "Translate the following English text to Arbic: \\ \n",
    "```Hi, I would like to order a blender```\n",
    "\"\"\"\n",
    "response = get_completion(prompt)\n",
    "print(response)"
   ]
  },
  {
   "cell_type": "code",
   "execution_count": 6,
   "id": "7300ed9b",
   "metadata": {
    "tags": []
   },
   "outputs": [
    {
     "name": "stdout",
     "output_type": "stream",
     "text": [
      "French\n"
     ]
    }
   ],
   "source": [
    "prompt = f\"\"\"\n",
    "Tell me which language this is: \n",
    "```Combien coûte le lampadaire?```\n",
    "\"\"\"\n",
    "response = get_completion(prompt)\n",
    "print(response)"
   ]
  },
  {
   "cell_type": "code",
   "execution_count": 9,
   "id": "791e789b",
   "metadata": {
    "tags": []
   },
   "outputs": [
    {
     "name": "stdout",
     "output_type": "stream",
     "text": [
      "**French:**\n",
      "```\n",
      "Je veux commander un ballon de basket.\n",
      "```\n",
      "\n",
      "**Hindi:**\n",
      "```\n",
      "मैं बास्केटबॉल का ऑर्डर देना चाहता हूं।\n",
      "```\n",
      "\n",
      "**English pirate:**\n",
      "```\n",
      "Avast there, matey! I be wantin' to order a basketball.\n",
      "```\n"
     ]
    }
   ],
   "source": [
    "prompt = f\"\"\"\n",
    "Translate the following  text to French and Hindi\n",
    "and English pirate: \\\n",
    "```I want to order a basketball```\n",
    "\"\"\"\n",
    "response = get_completion(prompt)\n",
    "print(response)"
   ]
  },
  {
   "cell_type": "code",
   "execution_count": 11,
   "id": "fcf7eb63",
   "metadata": {
    "tags": []
   },
   "outputs": [
    {
     "name": "stdout",
     "output_type": "stream",
     "text": [
      "**Formal:**\n",
      "\n",
      "> Would you like to place an order for a pillow?\n",
      "\n",
      "**Informal:**\n",
      "\n",
      "> Do you want to order a pillow?\n"
     ]
    }
   ],
   "source": [
    "prompt = f\"\"\"\n",
    "Translate the following text to english in both the \\\n",
    "formal and informal forms: \n",
    "'Would you like to order a pillow?'\n",
    "\"\"\"\n",
    "response = get_completion(prompt)\n",
    "print(response)"
   ]
  },
  {
   "cell_type": "markdown",
   "id": "8edb56d2-a32a-470f-9f40-4fc5b1ea0849",
   "metadata": {
    "id": "-hN2bczQrRC1"
   },
   "source": [
    "### Universal Translator\n",
    "Imagine you are in charge of IT at a large multinational e-commerce company. Users are messaging you with IT issues in all their native languages. Your staff is from all over the world and speaks only their native languages. You need a universal translator!"
   ]
  },
  {
   "cell_type": "code",
   "execution_count": 12,
   "id": "68a40bf0",
   "metadata": {
    "tags": []
   },
   "outputs": [],
   "source": [
    "user_messages = [\n",
    "  \"La performance du système est plus lente que d'habitude.\",  # System performance is slower than normal         \n",
    "  \"Mi monitor tiene píxeles que no se iluminan.\",              # My monitor has pixels that are not lighting\n",
    "  \"Il mio mouse non funziona\",                                 # My mouse is not working\n",
    "  \"Mój klawisz Ctrl jest zepsuty\",                             # My keyboard has a broken control key\n",
    "  \"我的屏幕在闪烁\"                                               # My screen is flashing\n",
    "] "
   ]
  },
  {
   "cell_type": "code",
   "execution_count": 15,
   "id": "552d0db9",
   "metadata": {
    "tags": []
   },
   "outputs": [
    {
     "name": "stdout",
     "output_type": "stream",
     "text": [
      "Original message (French): La performance du système est plus lente que d'habitude.\n",
      " **English:** System performance is slower than normal.\n",
      "\n",
      "**Hindi:**  सिस्टम का परफॉर्मेंस नॉर्मल से धीमा है। \n",
      "\n",
      "Original message (Spanish): Mi monitor tiene píxeles que no se iluminan.\n",
      " **English**:  My monitor has unlit pixels.\n",
      " **Hindi**: मेरे मॉनिटर के पिक्सल लाइट नहीं हो रहे हैं। \n",
      "\n",
      "Original message (Italian): Il mio mouse non funziona\n",
      "**English:** \n",
      " My mouse is not working\n",
      "\n",
      "**Hindi:**\n",
      " मेरा माउस काम नहीं कर रहा \n",
      "\n",
      "Original message (Polish): Mój klawisz Ctrl jest zepsuty\n",
      "**English:**\n",
      "My Ctrl key is broken\n",
      "\n",
      "**Hindi:**\n",
      "मेरी Ctrl key टूट चुकी है \n",
      "\n",
      "Original message (Chinese): 我的屏幕在闪烁\n",
      "My screen is flickering\n",
      "\n",
      "मेरी स्क्रीन टिमटिमा रही है। \n",
      "\n"
     ]
    }
   ],
   "source": [
    "for issue in user_messages:\n",
    "    prompt = f\"Tell me what language this is: ```{issue}```\"\n",
    "    lang = get_completion(prompt)\n",
    "    print(f\"Original message ({lang}): {issue}\")\n",
    "\n",
    "    prompt = f\"\"\"\n",
    "    Translate the following  text to English \\\n",
    "    and Hindi: ```{issue}```\n",
    "    \"\"\"\n",
    "    response = get_completion(prompt)\n",
    "    print(response, \"\\n\")"
   ]
  },
  {
   "cell_type": "markdown",
   "id": "18e660eb-324f-474c-acf3-7e3bf5b7c70e",
   "metadata": {},
   "source": [
    "## Try it yourself!\n",
    "Try some translations on your own!"
   ]
  },
  {
   "cell_type": "code",
   "execution_count": null,
   "id": "fa57158f-d77d-42d1-94fe-17fa59c012f8",
   "metadata": {},
   "outputs": [],
   "source": []
  },
  {
   "cell_type": "markdown",
   "id": "1d9e54ca-f93a-43c8-a295-bff7a89f77f5",
   "metadata": {
    "id": "JH3-0vdjsILh"
   },
   "source": [
    "## Tone Transformation\n",
    "Writing can vary based on the intended audience. ChatGPT can produce different tones.\n"
   ]
  },
  {
   "cell_type": "code",
   "execution_count": 17,
   "id": "2deac328",
   "metadata": {
    "tags": []
   },
   "outputs": [
    {
     "name": "stdout",
     "output_type": "stream",
     "text": [
      "Dear [Recipient Name],\n",
      "\n",
      "I hope this email finds you well.\n",
      "\n",
      "My name is Waseem, and I am writing to inquire about the film selection for today's movie night.\n",
      "\n",
      "I would appreciate it if you could provide a list of the available movies and indicate their starting times.\n",
      "\n",
      "Thank you for your prompt attention to this matter.\n",
      "\n",
      "Sincerely,\n",
      "Waseem\n"
     ]
    }
   ],
   "source": [
    "prompt = f\"\"\"\n",
    "Translate the following from slang to a business letter: \n",
    "'Dude, This is Waseem, today which movie we going to watch.'\n",
    "\"\"\"\n",
    "response = get_completion(prompt)\n",
    "print(response)"
   ]
  },
  {
   "cell_type": "markdown",
   "id": "a2c7eb73-6b82-442d-b4f8-251c308e89d5",
   "metadata": {
    "id": "p3e9sZh5tWIa"
   },
   "source": [
    "## Format Conversion\n",
    "ChatGPT can translate between formats. The prompt should describe the input and output formats."
   ]
  },
  {
   "cell_type": "code",
   "execution_count": 19,
   "id": "5a37f0a0",
   "metadata": {
    "tags": []
   },
   "outputs": [
    {
     "name": "stdout",
     "output_type": "stream",
     "text": [
      "```html\n",
      "<!DOCTYPE html>\n",
      "<html>\n",
      "<head>\n",
      "  <title>Restaurant Employees</title>\n",
      "  <style>\n",
      "    table {\n",
      "      width: 100%;\n",
      "      border-collapse: collapse;\n",
      "    }\n",
      "\n",
      "    th, td {\n",
      "      border: 1px solid black;\n",
      "      padding: 5px;\n",
      "    }\n",
      "  </style>\n",
      "</head>\n",
      "<body>\n",
      "  <h1>Restaurant Employees</h1>\n",
      "\n",
      "  <table>\n",
      "    <thead>\n",
      "      <tr>\n",
      "        <th>Name</th>\n",
      "        <th>Email</th>\n",
      "      </tr>\n",
      "    </thead>\n",
      "    <tbody>\n",
      "      {% for employee in employees %}\n",
      "      <tr>\n",
      "        <td>{{ employee.name }}</td>\n",
      "        <td>{{ employee.email }}</td>\n",
      "      </tr>\n",
      "      {% endfor %}\n",
      "    </tbody>\n",
      "  </table>\n",
      "</body>\n",
      "</html>\n",
      "```\n"
     ]
    }
   ],
   "source": [
    "data_json = { \"resturant employees\" :[ \n",
    "    {\"name\":\"BMW\", \"email\":\"shyamjaiswal@gmail.com\"},\n",
    "    {\"name\":\"ASh\", \"email\":\"bob32@gmail.com\"},\n",
    "    {\"name\":\"San\", \"email\":\"jai87@gmail.com\"}\n",
    "]}\n",
    "\n",
    "prompt = f\"\"\"\n",
    "Translate the following python dictionary from JSON to an HTML \\\n",
    "table with column headers and title: {data_json}\n",
    "\"\"\"\n",
    "response = get_completion(prompt)\n",
    "print(response)"
   ]
  },
  {
   "cell_type": "code",
   "execution_count": 20,
   "id": "481a46b7",
   "metadata": {
    "tags": []
   },
   "outputs": [
    {
     "data": {
      "text/html": [
       "```html\n",
       "<!DOCTYPE html>\n",
       "<html>\n",
       "<head>\n",
       "  <title>Restaurant Employees</title>\n",
       "  <style>\n",
       "    table {\n",
       "      width: 100%;\n",
       "      border-collapse: collapse;\n",
       "    }\n",
       "\n",
       "    th, td {\n",
       "      border: 1px solid black;\n",
       "      padding: 5px;\n",
       "    }\n",
       "  </style>\n",
       "</head>\n",
       "<body>\n",
       "  <h1>Restaurant Employees</h1>\n",
       "\n",
       "  <table>\n",
       "    <thead>\n",
       "      <tr>\n",
       "        <th>Name</th>\n",
       "        <th>Email</th>\n",
       "      </tr>\n",
       "    </thead>\n",
       "    <tbody>\n",
       "      {% for employee in employees %}\n",
       "      <tr>\n",
       "        <td>{{ employee.name }}</td>\n",
       "        <td>{{ employee.email }}</td>\n",
       "      </tr>\n",
       "      {% endfor %}\n",
       "    </tbody>\n",
       "  </table>\n",
       "</body>\n",
       "</html>\n",
       "```"
      ],
      "text/plain": [
       "<IPython.core.display.HTML object>"
      ]
     },
     "metadata": {},
     "output_type": "display_data"
    }
   ],
   "source": [
    "from IPython.display import display, Markdown, Latex, HTML, JSON\n",
    "display(HTML(response))"
   ]
  },
  {
   "cell_type": "markdown",
   "id": "2df1824c-534b-45cb-b0c1-3000bba5adbe",
   "metadata": {
    "id": "qLTz16qEzyT_"
   },
   "source": [
    "## Spellcheck/Grammar check.\n",
    "\n",
    "Here are some examples of common grammar and spelling problems and the LLM's response. \n",
    "\n",
    "To signal to the LLM that you want it to proofread your text, you instruct the model to 'proofread' or 'proofread and correct'."
   ]
  },
  {
   "cell_type": "code",
   "execution_count": 24,
   "id": "52d77283",
   "metadata": {
    "tags": []
   },
   "outputs": [
    {
     "name": "stdout",
     "output_type": "stream",
     "text": [
      "The girl with the black and white puppies has a ball.\n",
      "No errors found\n",
      "Its going to be a long day Does the car need its oil changed\n",
      "Their goes -> There goes\n",
      "There going -> They're going\n",
      "they're -> their\n",
      "\n",
      "There goes my freedom. They're going to bring their suitcases.\n",
      "You're going to need your notebook.\n",
      "That medicine affects my ability to sleep. Have you heard of the butterfly effect?\n",
      "No errors found\n"
     ]
    }
   ],
   "source": [
    "text = [ \n",
    "  \"The girl with the black and white puppies have a ball.\",  # The girl has a ball.\n",
    "  \"Yolanda has her notebook.\", # ok\n",
    "  \"Its going to be a long day. Does the car need it’s oil changed?\",  # Homonyms\n",
    "  \"Their goes my freedom. There going to bring they’re suitcases.\",  # Homonyms\n",
    "  \"Your going to need you’re notebook.\",  # Homonyms\n",
    "  \"That medicine effects my ability to sleep. Have you heard of the butterfly affect?\", # Homonyms\n",
    "  \"This phrase is to cherck chatGPT for speling abilitty\"  # spelling\n",
    "]\n",
    "for t in text:\n",
    "    prompt = f\"\"\"Proofread and correct the following text\n",
    "    and rewrite the corrected version. If you don't find\n",
    "    and errors, just say \"No errors found\". Don't use \n",
    "    any punctuation around the text:\n",
    "    ```{t}```\"\"\"\n",
    "    response = get_completion(prompt)\n",
    "    print(response)"
   ]
  },
  {
   "cell_type": "code",
   "execution_count": 25,
   "id": "7543fe7d",
   "metadata": {
    "tags": []
   },
   "outputs": [
    {
     "name": "stdout",
     "output_type": "stream",
     "text": [
      "Got this for my daughter for her birthday because she keeps taking mine from my room. Yes, adults also like pandas too. She takes it everywhere with her, and it's super soft and cute. One of the ears is a bit lower than the other, and I don't think that was designed to be asymmetrical. It's a bit small for what I paid for it, though. I think there might be other options that are bigger for the same price. It arrived a day earlier than expected, so I got to play with it myself before I gave it to my daughter.\n"
     ]
    }
   ],
   "source": [
    "text = f\"\"\"\n",
    "Got this for my daughter for her birthday cuz she keeps taking \\\n",
    "mine from my room.  Yes, adults also like pandas too.  She takes \\\n",
    "it everywhere with her, and it's super soft and cute.  One of the \\\n",
    "ears is a bit lower than the other, and I don't think that was \\\n",
    "designed to be asymmetrical. It's a bit small for what I paid for it \\\n",
    "though. I think there might be other options that are bigger for \\\n",
    "the same price.  It arrived a day earlier than expected, so I got \\\n",
    "to play with it myself before I gave it to my daughter.\n",
    "\"\"\"\n",
    "prompt = f\"proofread and correct this review: ```{text}```\"\n",
    "response = get_completion(prompt)\n",
    "print(response)"
   ]
  },
  {
   "cell_type": "code",
   "execution_count": 3,
   "id": "40a11829",
   "metadata": {},
   "outputs": [
    {
     "name": "stdout",
     "output_type": "stream",
     "text": [
      "Meet Aryan, a middle-class boy who faces relentless struggles to maintain a decent standard of living without resorting to loans. Despite financial hardships, he refuses to compromise his integrity. Aryan works tirelessly, taking on multiple part-time jobs while juggling his studies. He embraces frugality, cutting down on expenses wherever possible. Through perseverance and determination, Aryan navigates life's challenges with resilience. He dreams of a better future, where his hard work will finally pay off. Despite the odds stacked against him, Aryan remains steadfast in his pursuit of success, proving that determination and grit can overcome any obstacle.\n"
     ]
    }
   ],
   "source": [
    "text = f\"\"\"\n",
    "Meet Aryan, a middle-class boy who faces relentless struggles to maintain a decent standard of living without resorting to loans/\n",
    " Despite financial hardships, he refuses to compromise his integrity/ Aryan works tirelessly, taking on multiple part-time jobs while juggling his studies/ He embraces frugality, cutting down on expenses wherever possible/ Through perseverance and determination, Aryan navigates life's challenges with resilience/ He dreams of a better future, where his hard work will finally pay off/ Despite the odds stacked against him, Aryan remains steadfast in his pursuit of success, proving that determination and grit can overcome any obstacle.\n",
    "\"\"\"\n",
    "prompt = f\"proofread and correct this review: ```{text}```\"\n",
    "response = get_completion(prompt)\n",
    "print(response)"
   ]
  },
  {
   "cell_type": "code",
   "execution_count": 26,
   "id": "11ac80a0",
   "metadata": {
    "tags": []
   },
   "outputs": [
    {
     "data": {
      "text/markdown": [
       "Got this for my daughter for her birthday <span style='color:red;font-weight:700;text-decoration:line-through;'>cuz </span><span style='color:green;font-weight:700;'>because </span>she keeps taking mine from my <span style='color:red;font-weight:700;text-decoration:line-through;'>room.  </span><span style='color:green;font-weight:700;'>room. </span>Yes, adults also like pandas <span style='color:red;font-weight:700;text-decoration:line-through;'>too.  </span><span style='color:green;font-weight:700;'>too. </span>She takes it everywhere with her, and it's super soft and <span style='color:red;font-weight:700;text-decoration:line-through;'>cute.  </span><span style='color:green;font-weight:700;'>cute. </span>One of the ears is a bit lower than the other, and I don't think that was designed to be asymmetrical. It's a bit small for what I paid for <span style='color:red;font-weight:700;text-decoration:line-through;'>it </span><span style='color:green;font-weight:700;'>it, </span>though. I think there might be other options that are bigger for the same <span style='color:red;font-weight:700;text-decoration:line-through;'>price.  </span><span style='color:green;font-weight:700;'>price. </span>It arrived a day earlier than expected, so I got to play with it myself before I gave it to my daughter."
      ],
      "text/plain": [
       "<IPython.core.display.Markdown object>"
      ]
     },
     "metadata": {},
     "output_type": "display_data"
    }
   ],
   "source": [
    "from redlines import Redlines\n",
    "\n",
    "diff = Redlines(text,response)\n",
    "display(Markdown(diff.output_markdown))"
   ]
  },
  {
   "cell_type": "code",
   "execution_count": 6,
   "id": "789ceb42",
   "metadata": {},
   "outputs": [
    {
     "data": {
      "text/markdown": [
       "Meet Aryan, a middle-class boy who faces relentless struggles to maintain a decent standard of living without resorting to <span style='color:red;font-weight:700;text-decoration:line-through;'>loans/ ¶ </span><span style='color:green;font-weight:700;'>loans. </span>Despite financial hardships, he refuses to compromise his <span style='color:red;font-weight:700;text-decoration:line-through;'>integrity/ </span><span style='color:green;font-weight:700;'>integrity. </span>Aryan works tirelessly, taking on multiple part-time jobs while juggling his <span style='color:red;font-weight:700;text-decoration:line-through;'>studies/ </span><span style='color:green;font-weight:700;'>studies. </span>He embraces frugality, cutting down on expenses wherever <span style='color:red;font-weight:700;text-decoration:line-through;'>possible/ </span><span style='color:green;font-weight:700;'>possible. </span>Through perseverance and determination, Aryan navigates life's challenges with <span style='color:red;font-weight:700;text-decoration:line-through;'>resilience/ </span><span style='color:green;font-weight:700;'>resilience. </span>He dreams of a better future, where his hard work will finally pay <span style='color:red;font-weight:700;text-decoration:line-through;'>off/ </span><span style='color:green;font-weight:700;'>off. </span>Despite the odds stacked against him, Aryan remains steadfast in his pursuit of success, proving that determination and grit can overcome any obstacle."
      ],
      "text/plain": [
       "<IPython.core.display.Markdown object>"
      ]
     },
     "metadata": {},
     "output_type": "display_data"
    }
   ],
   "source": [
    "from redlines import Redlines\n",
    "from IPython.display import Markdown\n",
    "\n",
    "diff = Redlines(text, response)\n",
    "display(Markdown(diff.output_markdown))\n"
   ]
  },
  {
   "cell_type": "code",
   "execution_count": 27,
   "id": "2b4e73fd",
   "metadata": {
    "tags": []
   },
   "outputs": [
    {
     "data": {
      "text/markdown": [
       "**Proofread and Corrected Review**\n",
       "\n",
       "**Compelling Review:**\n",
       "\n",
       "This adorable panda plush has become an indispensable companion for my daughter, who has an unwavering fondness for these beloved animals. Its irresistibly soft texture and charming asymmetry, with one ear slightly lower than the other, add to its endearing appeal.\n",
       "\n",
       "She treasures this plush, carrying it with her wherever she goes, a testament to its exceptional quality and durability. However, its modest size may be a consideration at the given price point, as there may be larger options available for a similar investment.\n",
       "\n",
       "Despite this minor caveat, the early arrival of the plush allowed me to experience its snuggly charms firsthand before gifting it to my daughter. Its exceptional softness and attention to detail make it an exceptional choice for those seeking a comforting or decorative companion."
      ],
      "text/plain": [
       "<IPython.core.display.Markdown object>"
      ]
     },
     "metadata": {},
     "output_type": "display_data"
    }
   ],
   "source": [
    "prompt = f\"\"\"\n",
    "proofread and correct this review. Make it more compelling. \n",
    "Ensure it follows APA style guide and targets an advanced reader. \n",
    "Output in markdown format.\n",
    "Text: ```{text}```\n",
    "\"\"\"\n",
    "response = get_completion(prompt)\n",
    "display(Markdown(response))"
   ]
  },
  {
   "cell_type": "code",
   "execution_count": 7,
   "id": "58501b43",
   "metadata": {},
   "outputs": [
    {
     "data": {
      "text/markdown": [
       "**Advanced Academic Review**\n",
       "\n",
       "**Title:** The Indomitable Spirit of Aryan: A Tale of Resilience and Determination\n",
       "\n",
       "**Introduction:**\n",
       "\n",
       "Introducing Aryan, a young man from humble beginnings whose unwavering resolve to maintain his dignity and aspirations amidst relentless financial challenges captivates readers. His story is a testament to the extraordinary power of perseverance and the indomitable spirit that resides within us all.\n",
       "\n",
       "**Financial Hardships:**\n",
       "\n",
       "Despite facing constant economic adversity, Aryan refuses to succumb to despair. His unwavering belief in his own worth drives him to work tirelessly, juggling multiple part-time jobs while maintaining his academic pursuits. This arduous schedule showcases his remarkable fortitude and resilience in the face of adversity.\n",
       "\n",
       "**Embracing Frugality:**\n",
       "\n",
       "Recognizing the need to manage his limited resources wisely, Aryan judiciously prioritizes his expenses. He embraces frugality, meticulously scrutinizing each purchase to ensure its necessity. This disciplined approach underscores his unwavering determination to navigate life's challenges with dignity and financial prudence.\n",
       "\n",
       "**Resilience and Determination:**\n",
       "\n",
       "Aryan's unwavering belief in his own abilities and the power of hard work empowers him to overcome the formidable obstacles that confront him. He remains steadfast in his pursuit of a better future, knowing that his dedication and perseverance will ultimately yield positive outcomes.\n",
       "\n",
       "**Dreams and Aspirations:**\n",
       "\n",
       "Despite the odds stacked heavily against him, Aryan harbors an unyielding dream of a life free from financial hardship. His unwavering optimism serves as a beacon of hope, propelling him forward even in the most trying of times.\n",
       "\n",
       "**Conclusion:**\n",
       "\n",
       "Aryan's story is a poignant reminder that determination and grit can triumph over adversity. His indomitable spirit inspires all who encounter him, demonstrating that with unwavering resolve and a relentless belief in one's abilities, any obstacle can be overcome."
      ],
      "text/plain": [
       "<IPython.core.display.Markdown object>"
      ]
     },
     "metadata": {},
     "output_type": "display_data"
    }
   ],
   "source": [
    "prompt = f\"\"\"\n",
    "proofread and correct this review. Make it more compelling. \n",
    "Ensure it follows APA style guide and targets an advanced reader. \n",
    "Output in markdown format.\n",
    "Text: ```{text}```\n",
    "\"\"\"\n",
    "response = get_completion(prompt)\n",
    "display(Markdown(response))"
   ]
  },
  {
   "cell_type": "markdown",
   "id": "63fb76bc-a742-4b35-9dc2-f7fbc12d38fb",
   "metadata": {},
   "source": [
    "## Try it yourself!\n",
    "Try changing the instructions to form your own review."
   ]
  },
  {
   "cell_type": "code",
   "execution_count": null,
   "id": "a2b2ca58",
   "metadata": {},
   "outputs": [],
   "source": []
  },
  {
   "cell_type": "markdown",
   "id": "3dbf5020-7d7f-4ba5-840b-20e883cd7c99",
   "metadata": {
    "id": "unsf1JnRr2IC"
   },
   "source": [
    "Thanks to the following sites:\n",
    "\n",
    "https://writingprompts.com/bad-grammar-examples/\n"
   ]
  },
  {
   "cell_type": "markdown",
   "id": "f85bacd8",
   "metadata": {},
   "source": [
    "# summary\n",
    "\n",
    "#### 1.Translation\n",
    "- LLMs can translate text between languages, as demonstrated with examples translating English to Spanish and French, and identifying the language of a given text.\n",
    "\n",
    "#### 2.Universal Translator\n",
    "- A scenario simulates a universal translator for IT support, where the model identifies languages, translates issues, and provides responses in multiple languages.\n",
    "\n",
    "#### 3.Tone Transformation\n",
    "- LLMs can adjust the tone of text, demonstrated by transforming informal slang into a formal business letter.\n",
    "\n",
    "#### 4.Format Conversion\n",
    "- The model can convert data between formats, such as translating a Python dictionary into an HTML table.\n",
    "\n",
    "#### 5.Spellcheck/Grammar Check\n",
    "- This task asks the model to correct errors in a text given within triple backticks. If no errors are found, it should respond with \"No errors found.\" Also, it instructs not to use punctuation around the text.\n",
    "\n",
    "#### Example\n",
    "- A review of a product is proofread, corrected, and made more compelling, adhering to APA style and targeting an advanced reader.\n",
    "\n"
   ]
  }
 ],
 "metadata": {
  "kernelspec": {
   "display_name": "Python 3 (ipykernel)",
   "language": "python",
   "name": "python3"
  },
  "language_info": {
   "codemirror_mode": {
    "name": "ipython",
    "version": 3
   },
   "file_extension": ".py",
   "mimetype": "text/x-python",
   "name": "python",
   "nbconvert_exporter": "python",
   "pygments_lexer": "ipython3",
   "version": "3.8.10"
  }
 },
 "nbformat": 4,
 "nbformat_minor": 5
}
