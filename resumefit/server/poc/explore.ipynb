{
 "cells": [
  {
   "cell_type": "code",
   "execution_count": 1,
   "metadata": {},
   "outputs": [],
   "source": [
    "resume = \"\"\"\n",
    "\n",
    "VIVEKANAND B\n",
    "Engineer • Innovator • Entrepreneur\n",
    "vivekanandb@hotmail.com | +91-97381-26623\n",
    "github.com/vivekanandba | www.linkedin.com/in/vivekanand-balakrishnan-68448777\n",
    "SUMMARY\n",
    "Experienced Software and Mechanical Engineer with over 10 years of expertise in aerospace, medical robotics, and AI-powered applications. Proven ability to develop cloud-based solutions, automate processes using AI, and lead cross-functional teams to success. Founded a successful gadget repair business, showcasing entrepreneurial spirit and business acumen. Proficient in Python, JavaScript, GCP, and healthcare standards like ISO 13485. Passionate about leveraging AI to create innovative solutions that make a meaningful impact on the world.\n",
    "SKILLS\n",
    "•\tProgramming Languages & Frameworks: Python, JavaScript, Flask, Vue.js, Playwright\n",
    "•\tAI: OpenAI API, Google Vertex API, Github Copilot, Vision API, TTS\n",
    "•\tData Analysis & Visualization: Pandas, Power BI, Jupyter\n",
    "•\tCloud & DevOps: Google Cloud Platform[GCP] (VM, Serverless, VPC), Docker, Jenkins\n",
    "•\tDatabases: MongoDB, MySQL, SQLite\n",
    "•\tTools & Project Management: RESTful APIs, Software Architecture, Jira, Agile, ISO 13485, networking protocols, DICOM, HL7\n",
    "EXPERIENCE\n",
    "PROGRAMMING\n",
    "Software Engineer | NovaSignal / NeuraSignal | Bangalore, India\n",
    "Nov 2020 – Present\n",
    "Data View Application\n",
    "•\tKey Contributions: Developed a web-based app using Python, Flask, and Streamlit for real-time insights into robotic system deployments. Extracted and analysed large datasets with SQL and Power BI.\n",
    "•\tImpact: Empowered sales, medical education, and management teams to make data-driven decisions, improving operational efficiency and robotic system utilization.\n",
    "•\tTechnologies: Python, Flask, Streamlit, SQL, Power BI, Docker, GCP (Cloud Run)\n",
    "AI-Driven Test Automation\n",
    "•\tKey Contributions: Created automated test scripts for GUI applications using Python, PyTest, and Pywinauto. Leveraged OpenAI tools to automate test script development and GUI interactions.\n",
    "•\tImpact: Reduced development and testing time by 30%, increased test coverage, and introduced AI into test automation processes.\n",
    "•\tTechnologies: Python, PyTest, Pywinauto, OpenAI Assistant API, Vision API, Vertex AI\n",
    "Cloud Progressive Web Applications (Europa, Venus, Galileo, Jupiter, Saturn)\n",
    "•\tKey Contributions: Supported testing for multiple cloud applications using Playwright for UI and PyTest for API testing. Developed internal tools with Python and Flask and contributed to DevOps activities using GCP.\n",
    "•\tImpact: Accelerated development and testing cycles, enhanced scalability and reliability of cloud applications, and reduced time-to-market.\n",
    "•\tTechnologies: Python, Flask, Vue.js, Playwright, PyTest, GCP, Docker, Jenkins\n",
    "Microservices and API Development\n",
    "•\tKey Contributions: Designed and tested RESTful APIs for secure data transmission between hospital EMR systems and cloud services. Implemented HL7 and DICOM standards for healthcare data exchange.\n",
    "•\tImpact: Improved integration with hospital systems, ensured compliance with healthcare regulations, and enhanced data security.\n",
    "•\tTechnologies: Python, Flask, RESTful APIs, DICOM, HL7, MLLP, GCP (VPC, Cloud Run)\n",
    "Automation Tools and Frameworks\n",
    "•\tKey Contributions: Developed automation tools like a DICOM Decoder for verifying medical imaging data and a SOUP Creator Tool for security audits of open-source components.\n",
    "•\tImpact: Increased efficiency by automating repetitive tasks, ensured compliance with industry standards, and improved product reliability.\n",
    "•\tTechnologies: Python, PyTest, Jenkins, Docker, GCP\n",
    "ENTREPRENEURIAL \n",
    "Founder & Technician | Gadjoy Repair Services | Bangalore, India\n",
    "Nov 2016 – Jan 2021\n",
    "•\tFounded and managed a successful laptop and gadget repair service, handling over 1,000 devices and 100+ customers per month, and achieving a 4.7+ customer satisfaction rating across multiple platforms.\n",
    "•\tDeveloped and implemented custom software systems to monitor customer devices, manage checklists, and streamline ledger and enquiry entries. Leveraged Excel as a functional database, utilizing advanced features to trace device activities, which increased operational efficiency by 80%.\n",
    "•\tAcquired transferable skills in team management, customer service, and business development, alongside technical expertise in software development, database management\n",
    "MECHANICAL\n",
    "Sr. Engineer | Tech Mahindra | Jan 2019 – Jan 2021\n",
    "Senior Lead Engineer | Legend Technologies | Jan 2013 – Jan 2019\n",
    "Trainee Engineer | Safran Engineering India | Aug 2011 – Dec 2012\n",
    "\n",
    "•\tLed multidisciplinary teams in the design and fabrication of aerospace & locomotive jigs and fixtures for clients like ISRO, Safran, and Pratt & Whitney. \n",
    "•\tProvided end-to-end support in manufacturing, testing, and service, overseeing the entire product lifecycle\n",
    "•\tUtilized advanced CAD and simulation tools to do mechanical design and analysis of aerospace components and developed custom software scripts to automate design tasks reducing design time & in the process gaining transferable skills like applying analytical and project management.\n",
    "EDUCATION\n",
    "•\tBachelor of Engineering (Mechanical Engineering) - Visvesvaraya Technological University (VTU) | First Class with Distinction | 2011\n",
    "•\tDeep Learning Specialization & Machine Learning Specialization (Andrew Ng) & Multiple Short Course on AI, Tooling, Ops\n",
    "PATENTS & PUBLICATIONS\n",
    "•\tPatents: System and Method of Generating Image of Vascular Flow Network - US20230329668A1\n",
    "•\tWhite Papers: Published research on aerospace manufacturing and slip ring design. \n",
    "VOLUNTEERING\n",
    "•\tContributed to the development of an IoT-based air quality monitoring system (AirCare) and a COVID relief distribution platform (Stop Hunger) with mapshalli.org, Whitefield, Bangalore.\n",
    "•\tMentored school children, engineering graduates (for skill development), and junior professionals (for career growth).\n",
    "•\tAssisted in organizing engineering society events within the local community.\n",
    "\n",
    "\n",
    "\"\"\""
   ]
  },
  {
   "cell_type": "code",
   "execution_count": 2,
   "metadata": {},
   "outputs": [],
   "source": [
    "job_description = \"\"\"\n",
    "Position: AI Integration and Test Automation Specialist - Microsoft Dynamics 365 Business Central\n",
    "\n",
    "Experience: 5-8 years\n",
    "\n",
    "Location: [Specify location]\n",
    "\n",
    "Job Description:\n",
    "\n",
    "We are looking for an experienced AI Integration and Test Automation Specialist with 5-8 years of experience in Microsoft Dynamics 365 Business Central. The ideal candidate will have a strong background in artificial intelligence (AI), test automation, and integration with the latest version of Business Central.\n",
    "\n",
    "Responsibilities:\n",
    "\n",
    "Develop and implement AI solutions to enhance the functionality and efficiency of Business Central. \n",
    "Design and implement test automation frameworks and scripts for Business Central applications. \n",
    "Integrate AI-powered applications with Business Central using standard integration techniques. \n",
    "Collaborate with cross-functional teams to ensure successful integration and testing of AI solutions. \n",
    "Provide technical expertise and guidance on AI integration and test automation best practices. \n",
    "\n",
    "Requirements:\n",
    "\n",
    "Bachelor's degree in Computer Science, Engineering, or related field. \n",
    "5-8 years of experience in AI development, test automation, and integration with Microsoft Dynamics 365 Business Central. \n",
    "Strong proficiency in AI technologies such as machine learning, natural language processing, and computer vision. \n",
    "Experience in designing and implementing test automation frameworks for Business Central. \n",
    "Demonstrated ability to integrate AI-powered applications with Business Central using APIs, web services, etc. \n",
    "Excellent problem-solving skills and attention to detail. \n",
    "Strong communication and interpersonal skills. \n",
    "\n",
    "\"\"\""
   ]
  },
  {
   "cell_type": "code",
   "execution_count": 3,
   "metadata": {},
   "outputs": [
    {
     "name": "stdout",
     "output_type": "stream",
     "text": [
      "ChatCompletionMessage(content='# VIVEKANAND B  \\nEngineer • Innovator • Entrepreneur  \\nvivekanandb@hotmail.com | +91-97381-26623  \\n[GitHub](https://github.com/vivekanandba) | [LinkedIn](https://www.linkedin.com/in/vivekanand-balakrishnan-68448777)\\n\\n## SUMMARY  \\nExperienced Software and Mechanical Engineer with over 10 years of experience, specializing in AI integration, test automation, and software development. Proven ability to develop AI-powered solutions to automate processes and enhance efficiency. Skilled in leading cross-functional teams to success and integrating complex systems. Proficient in Python, JavaScript, and various AI technologies. Passionate about leveraging AI to create impactful solutions.\\n\\n## SKILLS  \\n\\n- **Programming Languages & Frameworks:** Python, JavaScript, Flask, Vue.js  \\n- **AI Technologies:** OpenAI API, Google Vertex API, Vision API  \\n- **Test Automation:** PyTest, Playwright, AI-integrated test scripts  \\n- **Cloud & DevOps:** Google Cloud Platform (GCP), Docker, Jenkins  \\n- **Integration:** RESTful APIs, HL7, DICOM, Microsoft Dynamics 365 Business Central (familiarization potential)  \\n- **Tools & Project Management:** Software Architecture, Jira, Agile, ISO 13485  \\n\\n## EXPERIENCE  \\n\\n### Software Engineer  \\n**NovaSignal / NeuraSignal**  \\nNov 2020 – Present | Bangalore, India  \\n\\n**AI and Test Automation Solutions for Cloud Applications**  \\n- Developed automated test scripts using PyTest for cloud-based applications, leveraging AI tools to enhance test automation efficiency.\\n- Spearheaded the integration of AI-driven applications with cloud services, improving data-driven decision-making.\\n\\n**API and Integration Development**  \\n- Designed RESTful APIs for secure data integration, ensuring robust connections between services and compliance with healthcare standards.  \\n- Leveraged advanced integration techniques for data transmission, showcasing proficiency in secure and efficient system communication.  \\n\\n**AI-Driven Automation Frameworks**  \\n- Innovated test automation frameworks using AI technologies, improving test coverage and reducing process timelines.\\n- collaborated with teams to implement AI-driven solutions, enhancing functionality and operational efficiency.\\n\\n### Founder & Technician  \\n**Gadjoy Repair Services**  \\nNov 2016 – Jan 2021 | Bangalore, India  \\n\\n- Founded and managed a gadget repair service, enhancing customer satisfaction and operational efficiency through technology solutions.\\n- Developed software systems for device monitoring and management, demonstrating strong problem-solving skills and entrepreneurial acumen.  \\n\\n### Senior Engineer  \\n**Tech Mahindra**  \\nJan 2019 – Jan 2021  \\n**Senior Lead Engineer**  \\n**Legend Technologies**  \\nJan 2013 – Jan 2019  \\n**Trainee Engineer**  \\n**Safran Engineering India**  \\nAug 2011 – Dec 2012  \\n\\n- Led multi-disciplinary teams in aerospace design and manufacturing, utilizing advanced CAD and simulations.\\n- Created software scripts for automation in mechanical design tasks, demonstrating project management skills.\\n\\n## EDUCATION  \\n\\n- **Bachelor of Engineering (Mechanical Engineering)**  \\nVisvesvaraya Technological University (VTU) | First Class with Distinction | 2011  \\n\\n- **Deep Learning & Machine Learning Specialization (Andrew Ng)**  \\n\\n## PATENTS & PUBLICATIONS  \\n\\n- **Patents:** System and Method of Generating Image of Vascular Flow Network - US20230329668A1  \\n- **White Papers:** Research on aerospace manufacturing and slip ring design  \\n\\n## VOLUNTEERING  \\n\\n- Contributed to IoT-based air quality and COVID relief platforms with mapshalli.org, Whitefield, Bangalore.\\n- Mentored engineering graduates and junior professionals in skill development and career growth.\\n- Organized engineering society events within the local community.', refusal=None, role='assistant', function_call=None, tool_calls=None)\n"
     ]
    }
   ],
   "source": [
    "import os\n",
    "from dotenv import load_dotenv\n",
    "from openai import OpenAI\n",
    "\n",
    "# Load environment variables from .env file\n",
    "load_dotenv()\n",
    "\n",
    "# Get the API key from environment variables\n",
    "api_key = os.getenv('API_KEY')\n",
    "\n",
    "# Initialize the OpenAI client with the API key\n",
    "client = OpenAI(api_key=api_key)\n",
    "\n",
    "completion = client.chat.completions.create(\n",
    "    model=\"gpt-4o\",\n",
    "    messages=[\n",
    "        {\"role\": \"assistant\", \n",
    "         \"content\": \"\"\"\"\n",
    "### Task Description: \n",
    "**You are a resume writing expert specializing in tailoring resumes to specific job descriptions. Your task is to refine the resume to enhance clarity, coherence, grammar, and style while aligning it with the given job description. You must not invent or fabricate any new details.**\n",
    "\n",
    "### Steps:\n",
    "\n",
    "- Analyze the base resume and job description for key skills, qualifications, and experiences.\n",
    "- Adjust and refine the resume to match the job description by highlighting relevant experiences, skills, and achievements.\n",
    "- Use action verbs and tailor the language to the job's responsibilities and requirements, ensuring maximum relevance to the job description.\n",
    "- Ensure there are no grammatical errors or inconsistencies and that the resume flows logically.\n",
    "- Maintain the user's original meaning and intent while customizing it to the job description. Do not add any fictional or unprovided information.\n",
    "\n",
    "### Output Instructions:\n",
    "\n",
    "- **Provide the customized resume in proper Markdown format**, ensuring correct usage of Markdown elements such as headings, lists, bold/italic text, and bullet points where appropriate.\n",
    "- **Do not start off with markdown syntax**. Begin the resume directly with the first section.\n",
    "- Use `#`, `##`, `###` for headings, `**` for bold text, `*` or `-` for bullet points, and other Markdown syntax for formatting.\n",
    "- **Do not include any additional text besides the resume itself. Do not add any closing statements, explanations, summaries, or remarks.**\n",
    "\n",
    "         \"\"\"},\n",
    "        {\n",
    "            \"role\": \"user\",\n",
    "            \"content\": f\"Write this base resume {resume} to match the following job description: {job_description}\"\n",
    "        }\n",
    "    ]\n",
    ")\n",
    "\n",
    "print(completion.choices[0].message)"
   ]
  },
  {
   "cell_type": "code",
   "execution_count": 4,
   "metadata": {},
   "outputs": [
    {
     "name": "stdout",
     "output_type": "stream",
     "text": [
      "\"# VIVEKANAND B  \\nEngineer \\u2022 Innovator \\u2022 Entrepreneur  \\nvivekanandb@hotmail.com | +91-97381-26623  \\n[GitHub](https://github.com/vivekanandba) | [LinkedIn](https://www.linkedin.com/in/vivekanand-balakrishnan-68448777)\\n\\n## SUMMARY  \\nExperienced Software and Mechanical Engineer with over 10 years of experience, specializing in AI integration, test automation, and software development. Proven ability to develop AI-powered solutions to automate processes and enhance efficiency. Skilled in leading cross-functional teams to success and integrating complex systems. Proficient in Python, JavaScript, and various AI technologies. Passionate about leveraging AI to create impactful solutions.\\n\\n## SKILLS  \\n\\n- **Programming Languages & Frameworks:** Python, JavaScript, Flask, Vue.js  \\n- **AI Technologies:** OpenAI API, Google Vertex API, Vision API  \\n- **Test Automation:** PyTest, Playwright, AI-integrated test scripts  \\n- **Cloud & DevOps:** Google Cloud Platform (GCP), Docker, Jenkins  \\n- **Integration:** RESTful APIs, HL7, DICOM, Microsoft Dynamics 365 Business Central (familiarization potential)  \\n- **Tools & Project Management:** Software Architecture, Jira, Agile, ISO 13485  \\n\\n## EXPERIENCE  \\n\\n### Software Engineer  \\n**NovaSignal / NeuraSignal**  \\nNov 2020 \\u2013 Present | Bangalore, India  \\n\\n**AI and Test Automation Solutions for Cloud Applications**  \\n- Developed automated test scripts using PyTest for cloud-based applications, leveraging AI tools to enhance test automation efficiency.\\n- Spearheaded the integration of AI-driven applications with cloud services, improving data-driven decision-making.\\n\\n**API and Integration Development**  \\n- Designed RESTful APIs for secure data integration, ensuring robust connections between services and compliance with healthcare standards.  \\n- Leveraged advanced integration techniques for data transmission, showcasing proficiency in secure and efficient system communication.  \\n\\n**AI-Driven Automation Frameworks**  \\n- Innovated test automation frameworks using AI technologies, improving test coverage and reducing process timelines.\\n- collaborated with teams to implement AI-driven solutions, enhancing functionality and operational efficiency.\\n\\n### Founder & Technician  \\n**Gadjoy Repair Services**  \\nNov 2016 \\u2013 Jan 2021 | Bangalore, India  \\n\\n- Founded and managed a gadget repair service, enhancing customer satisfaction and operational efficiency through technology solutions.\\n- Developed software systems for device monitoring and management, demonstrating strong problem-solving skills and entrepreneurial acumen.  \\n\\n### Senior Engineer  \\n**Tech Mahindra**  \\nJan 2019 \\u2013 Jan 2021  \\n**Senior Lead Engineer**  \\n**Legend Technologies**  \\nJan 2013 \\u2013 Jan 2019  \\n**Trainee Engineer**  \\n**Safran Engineering India**  \\nAug 2011 \\u2013 Dec 2012  \\n\\n- Led multi-disciplinary teams in aerospace design and manufacturing, utilizing advanced CAD and simulations.\\n- Created software scripts for automation in mechanical design tasks, demonstrating project management skills.\\n\\n## EDUCATION  \\n\\n- **Bachelor of Engineering (Mechanical Engineering)**  \\nVisvesvaraya Technological University (VTU) | First Class with Distinction | 2011  \\n\\n- **Deep Learning & Machine Learning Specialization (Andrew Ng)**  \\n\\n## PATENTS & PUBLICATIONS  \\n\\n- **Patents:** System and Method of Generating Image of Vascular Flow Network - US20230329668A1  \\n- **White Papers:** Research on aerospace manufacturing and slip ring design  \\n\\n## VOLUNTEERING  \\n\\n- Contributed to IoT-based air quality and COVID relief platforms with mapshalli.org, Whitefield, Bangalore.\\n- Mentored engineering graduates and junior professionals in skill development and career growth.\\n- Organized engineering society events within the local community.\"\n"
     ]
    }
   ],
   "source": [
    "import json\n",
    "\n",
    "# Assuming completion.choices[0].message is a ChatCompletionMessage object\n",
    "message = completion.choices[0].message\n",
    "\n",
    "# Extract the content from the ChatCompletionMessage object\n",
    "message_content = message.content\n",
    "\n",
    "# Convert the message content to a JSON formatted string for readability\n",
    "formatted_message = json.dumps(message_content, indent=4)\n",
    "\n",
    "print(formatted_message)"
   ]
  },
  {
   "cell_type": "code",
   "execution_count": 5,
   "metadata": {},
   "outputs": [
    {
     "data": {
      "text/plain": [
       "'# VIVEKANAND B  \\nEngineer • Innovator • Entrepreneur  \\nvivekanandb@hotmail.com | +91-97381-26623  \\n[GitHub](https://github.com/vivekanandba) | [LinkedIn](https://www.linkedin.com/in/vivekanand-balakrishnan-68448777)\\n\\n## SUMMARY  \\nExperienced Software and Mechanical Engineer with over 10 years of experience, specializing in AI integration, test automation, and software development. Proven ability to develop AI-powered solutions to automate processes and enhance efficiency. Skilled in leading cross-functional teams to success and integrating complex systems. Proficient in Python, JavaScript, and various AI technologies. Passionate about leveraging AI to create impactful solutions.\\n\\n## SKILLS  \\n\\n- **Programming Languages & Frameworks:** Python, JavaScript, Flask, Vue.js  \\n- **AI Technologies:** OpenAI API, Google Vertex API, Vision API  \\n- **Test Automation:** PyTest, Playwright, AI-integrated test scripts  \\n- **Cloud & DevOps:** Google Cloud Platform (GCP), Docker, Jenkins  \\n- **Integration:** RESTful APIs, HL7, DICOM, Microsoft Dynamics 365 Business Central (familiarization potential)  \\n- **Tools & Project Management:** Software Architecture, Jira, Agile, ISO 13485  \\n\\n## EXPERIENCE  \\n\\n### Software Engineer  \\n**NovaSignal / NeuraSignal**  \\nNov 2020 – Present | Bangalore, India  \\n\\n**AI and Test Automation Solutions for Cloud Applications**  \\n- Developed automated test scripts using PyTest for cloud-based applications, leveraging AI tools to enhance test automation efficiency.\\n- Spearheaded the integration of AI-driven applications with cloud services, improving data-driven decision-making.\\n\\n**API and Integration Development**  \\n- Designed RESTful APIs for secure data integration, ensuring robust connections between services and compliance with healthcare standards.  \\n- Leveraged advanced integration techniques for data transmission, showcasing proficiency in secure and efficient system communication.  \\n\\n**AI-Driven Automation Frameworks**  \\n- Innovated test automation frameworks using AI technologies, improving test coverage and reducing process timelines.\\n- collaborated with teams to implement AI-driven solutions, enhancing functionality and operational efficiency.\\n\\n### Founder & Technician  \\n**Gadjoy Repair Services**  \\nNov 2016 – Jan 2021 | Bangalore, India  \\n\\n- Founded and managed a gadget repair service, enhancing customer satisfaction and operational efficiency through technology solutions.\\n- Developed software systems for device monitoring and management, demonstrating strong problem-solving skills and entrepreneurial acumen.  \\n\\n### Senior Engineer  \\n**Tech Mahindra**  \\nJan 2019 – Jan 2021  \\n**Senior Lead Engineer**  \\n**Legend Technologies**  \\nJan 2013 – Jan 2019  \\n**Trainee Engineer**  \\n**Safran Engineering India**  \\nAug 2011 – Dec 2012  \\n\\n- Led multi-disciplinary teams in aerospace design and manufacturing, utilizing advanced CAD and simulations.\\n- Created software scripts for automation in mechanical design tasks, demonstrating project management skills.\\n\\n## EDUCATION  \\n\\n- **Bachelor of Engineering (Mechanical Engineering)**  \\nVisvesvaraya Technological University (VTU) | First Class with Distinction | 2011  \\n\\n- **Deep Learning & Machine Learning Specialization (Andrew Ng)**  \\n\\n## PATENTS & PUBLICATIONS  \\n\\n- **Patents:** System and Method of Generating Image of Vascular Flow Network - US20230329668A1  \\n- **White Papers:** Research on aerospace manufacturing and slip ring design  \\n\\n## VOLUNTEERING  \\n\\n- Contributed to IoT-based air quality and COVID relief platforms with mapshalli.org, Whitefield, Bangalore.\\n- Mentored engineering graduates and junior professionals in skill development and career growth.\\n- Organized engineering society events within the local community.'"
      ]
     },
     "execution_count": 5,
     "metadata": {},
     "output_type": "execute_result"
    }
   ],
   "source": [
    "import re\n",
    "\n",
    "def clean_string(input_string):\n",
    "    # Replace \\\\n with actual newlines\n",
    "    if input_string.startswith('\"') and input_string.endswith('\"'):\n",
    "        input_string = input_string.strip('\"')\n",
    "    cleaned_string = input_string.replace('\\\\n', '\\n')\n",
    "    \n",
    "    # Replace unicode escape sequences like \\\\u2022 with actual characters\n",
    "    cleaned_string = re.sub(r'\\\\u([0-9A-Fa-f]{4})', lambda x: chr(int(x.group(1), 16)), cleaned_string)\n",
    "    \n",
    "    return cleaned_string\n",
    "\n",
    "cleaned_output = clean_string(formatted_message)\n",
    "cleaned_output\n",
    "# print(cleaned_output)"
   ]
  },
  {
   "cell_type": "code",
   "execution_count": 6,
   "metadata": {},
   "outputs": [
    {
     "name": "stdout",
     "output_type": "stream",
     "text": [
      "# VIVEKANAND B  \n",
      "Engineer • Innovator • Entrepreneur  \n",
      "vivekanandb@hotmail.com | +91-97381-26623  \n",
      "[GitHub](https://github.com/vivekanandba) | [LinkedIn](https://www.linkedin.com/in/vivekanand-balakrishnan-68448777)\n",
      "\n",
      "## SUMMARY  \n",
      "Experienced Software and Mechanical Engineer with over 10 years of experience, specializing in AI integration, test automation, and software development. Proven ability to develop AI-powered solutions to automate processes and enhance efficiency. Skilled in leading cross-functional teams to success and integrating complex systems. Proficient in Python, JavaScript, and various AI technologies. Passionate about leveraging AI to create impactful solutions.\n",
      "\n",
      "## SKILLS  \n",
      "\n",
      "- **Programming Languages & Frameworks:** Python, JavaScript, Flask, Vue.js  \n",
      "- **AI Technologies:** OpenAI API, Google Vertex API, Vision API  \n",
      "- **Test Automation:** PyTest, Playwright, AI-integrated test scripts  \n",
      "- **Cloud & DevOps:** Google Cloud Platform (GCP), Docker, Jenkins  \n",
      "- **Integration:** RESTful APIs, HL7, DICOM, Microsoft Dynamics 365 Business Central (familiarization potential)  \n",
      "- **Tools & Project Management:** Software Architecture, Jira, Agile, ISO 13485  \n",
      "\n",
      "## EXPERIENCE  \n",
      "\n",
      "### Software Engineer  \n",
      "**NovaSignal / NeuraSignal**  \n",
      "Nov 2020 – Present | Bangalore, India  \n",
      "\n",
      "**AI and Test Automation Solutions for Cloud Applications**  \n",
      "- Developed automated test scripts using PyTest for cloud-based applications, leveraging AI tools to enhance test automation efficiency.\n",
      "- Spearheaded the integration of AI-driven applications with cloud services, improving data-driven decision-making.\n",
      "\n",
      "**API and Integration Development**  \n",
      "- Designed RESTful APIs for secure data integration, ensuring robust connections between services and compliance with healthcare standards.  \n",
      "- Leveraged advanced integration techniques for data transmission, showcasing proficiency in secure and efficient system communication.  \n",
      "\n",
      "**AI-Driven Automation Frameworks**  \n",
      "- Innovated test automation frameworks using AI technologies, improving test coverage and reducing process timelines.\n",
      "- collaborated with teams to implement AI-driven solutions, enhancing functionality and operational efficiency.\n",
      "\n",
      "### Founder & Technician  \n",
      "**Gadjoy Repair Services**  \n",
      "Nov 2016 – Jan 2021 | Bangalore, India  \n",
      "\n",
      "- Founded and managed a gadget repair service, enhancing customer satisfaction and operational efficiency through technology solutions.\n",
      "- Developed software systems for device monitoring and management, demonstrating strong problem-solving skills and entrepreneurial acumen.  \n",
      "\n",
      "### Senior Engineer  \n",
      "**Tech Mahindra**  \n",
      "Jan 2019 – Jan 2021  \n",
      "**Senior Lead Engineer**  \n",
      "**Legend Technologies**  \n",
      "Jan 2013 – Jan 2019  \n",
      "**Trainee Engineer**  \n",
      "**Safran Engineering India**  \n",
      "Aug 2011 – Dec 2012  \n",
      "\n",
      "- Led multi-disciplinary teams in aerospace design and manufacturing, utilizing advanced CAD and simulations.\n",
      "- Created software scripts for automation in mechanical design tasks, demonstrating project management skills.\n",
      "\n",
      "## EDUCATION  \n",
      "\n",
      "- **Bachelor of Engineering (Mechanical Engineering)**  \n",
      "Visvesvaraya Technological University (VTU) | First Class with Distinction | 2011  \n",
      "\n",
      "- **Deep Learning & Machine Learning Specialization (Andrew Ng)**  \n",
      "\n",
      "## PATENTS & PUBLICATIONS  \n",
      "\n",
      "- **Patents:** System and Method of Generating Image of Vascular Flow Network - US20230329668A1  \n",
      "- **White Papers:** Research on aerospace manufacturing and slip ring design  \n",
      "\n",
      "## VOLUNTEERING  \n",
      "\n",
      "- Contributed to IoT-based air quality and COVID relief platforms with mapshalli.org, Whitefield, Bangalore.\n",
      "- Mentored engineering graduates and junior professionals in skill development and career growth.\n",
      "- Organized engineering society events within the local community.\n"
     ]
    }
   ],
   "source": [
    "print(cleaned_output)"
   ]
  },
  {
   "cell_type": "code",
   "execution_count": 11,
   "metadata": {},
   "outputs": [
    {
     "name": "stdout",
     "output_type": "stream",
     "text": [
      "Conversion successful! File saved as VivekanandB_Resume.pdf\n"
     ]
    }
   ],
   "source": [
    "import pypandoc\n",
    "\n",
    "# Your Markdown content\n",
    "markdown_content = \"\"\"\n",
    "# Vivekanand B\n",
    "\n",
    "**Engineer • Innovator • Entrepreneur**  \n",
    "[vivekanandb@hotmail.com](mailto:vivekanandb@hotmail.com) | +91-97381-26623  \n",
    "[github.com/vivekanandba](https://github.com/vivekanandba) | [www.linkedin.com/in/vivekanand-balakrishnan-68448777](https://www.linkedin.com/in/vivekanand-balakrishnan-68448777)\n",
    "\n",
    "---\n",
    "\n",
    "## Summary\n",
    "\n",
    "Seasoned AI Integration and Test Automation Specialist with over 7 years of expertise...\n",
    "\"\"\"\n",
    "\n",
    "# Convert Markdown to PDF\n",
    "output = pypandoc.convert_text(\n",
    "    cleaned_output, 'pdf', format='md', outputfile='VivekanandB_Resume.pdf', extra_args=['-V', 'geometry:margin=1.5cm']\n",
    ")\n",
    "\n",
    "print(\"Conversion successful! File saved as VivekanandB_Resume.pdf\")\n"
   ]
  },
  {
   "cell_type": "code",
   "execution_count": 15,
   "metadata": {},
   "outputs": [],
   "source": [
    "output = pypandoc.convert_text(\n",
    "    cleaned_output, \n",
    "    'docx', \n",
    "    format='md', \n",
    "    outputfile='VivekanandB_Resume.docx', \n",
    "    extra_args=['--reference-doc=reference.docx']\n",
    ")"
   ]
  },
  {
   "cell_type": "code",
   "execution_count": 55,
   "metadata": {},
   "outputs": [],
   "source": [
    "import markdown\n",
    "\n",
    "html_text = markdown.markdown(cleaned_output)"
   ]
  },
  {
   "cell_type": "code",
   "execution_count": 56,
   "metadata": {},
   "outputs": [
    {
     "data": {
      "text/plain": [
       "'<h1>Vivekanand B</h1>\\n<p><strong>Engineer • Innovator • Entrepreneur</strong><br />\\n<a href=\"mailto:vivekanandb@hotmail.com\">vivekanandb@hotmail.com</a> | +91-97381-26623<br />\\n<a href=\"https://github.com/vivekanandba\">github.com/vivekanandba</a> | <a href=\"https://www.linkedin.com/in/vivekanand-balakrishnan-68448777\">www.linkedin.com/in/vivekanand-balakrishnan-68448777</a></p>\\n<hr />\\n<h2>Summary</h2>\\n<p>Seasoned AI Integration and Test Automation Specialist with over 7 years of expertise in developing AI-powered applications and automating processes. Skilled in integrating AI solutions with Microsoft Dynamics 365 Business Central to improve system functionality and efficiency. Proven track record of leading cross-functional teams and executing successful integrations. Proficient in AI technologies including machine learning, natural language processing, and computer vision. Passionate about leveraging AI for meaningful impacts.</p>\\n<hr />\\n<h2>Skills</h2>\\n<ul>\\n<li><strong>Programming Languages &amp; Frameworks:</strong> Python, JavaScript, Flask, Playwright</li>\\n<li><strong>AI Technologies:</strong> Machine Learning, Natural Language Processing, Computer Vision, OpenAI API, Google Vertex API</li>\\n<li><strong>Data Analysis &amp; Visualization:</strong> Pandas, Power BI, Jupyter</li>\\n<li><strong>Cloud &amp; DevOps:</strong> Google Cloud Platform (GCP), Docker, Jenkins</li>\\n<li><strong>Databases:</strong> MongoDB, MySQL, SQLite</li>\\n<li><strong>Project Management &amp; Tools:</strong> RESTful APIs, Software Architecture, Jira, Agile, Networking Protocols</li>\\n</ul>\\n<hr />\\n<h2>Experience</h2>\\n<h3>AI Integration and Test Automation Specialist</h3>\\n<p><strong>Software Engineer | NovaSignal / NeuraSignal | Bangalore, India</strong><br />\\n<em>Nov 2020 – Present</em></p>\\n<ul>\\n<li><strong>AI-Driven Test Automation:</strong></li>\\n<li>Developed robust test automation scripts for GUI applications using Python and PyTest to enhance Business Central functionalities.</li>\\n<li>Integrated AI solutions using OpenAI Assistant API to auto-generate test scripts and streamline testing processes.</li>\\n<li>\\n<p>Technologies: Python, PyTest, OpenAI Assistant API</p>\\n</li>\\n<li>\\n<p><strong>Cloud Progressive Web Applications:</strong></p>\\n</li>\\n<li>Assisted in testing and enhancing cloud applications using Playwright for UI and PyTest for API testing, ensuring seamless integration with Business Central.</li>\\n<li>\\n<p>Technologies: Playwright, PyTest, GCP</p>\\n</li>\\n<li>\\n<p><strong>Microservices and API Development:</strong></p>\\n</li>\\n<li>Designed RESTful APIs for secure data exchange between healthcare systems and cloud services, facilitating integration with Business Central.</li>\\n<li>Technologies: Python, Flask, RESTful APIs, MLLP</li>\\n</ul>\\n<h3>Founder &amp; Technician</h3>\\n<p><strong>Gadjoy Repair Services | Bangalore, India</strong><br />\\n<em>Nov 2016 – Jan 2021</em></p>\\n<ul>\\n<li>Managed successful technology repair services, implementing custom software solutions to optimize business processes, reflecting strong entrepreneurial and problem-solving skills.</li>\\n</ul>\\n<h3>Sr. Engineer | Senior Lead Engineer</h3>\\n<p><strong>Tech Mahindra &amp; Legend Technologies</strong><br />\\n<em>Jan 2013 – Jan 2021</em></p>\\n<ul>\\n<li>Led teams in mechanical design and integration projects, gaining transferable skills vital for cross-functional collaboration and project leadership.</li>\\n</ul>\\n<hr />\\n<h2>Education</h2>\\n<ul>\\n<li><strong>Bachelor of Engineering (Mechanical Engineering)</strong><br />\\n  Visvesvaraya Technological University (VTU) | First Class with Distinction | 2011</li>\\n</ul>\\n<hr />\\n<h2>Patents &amp; Publications</h2>\\n<ul>\\n<li><strong>Patents:</strong> System and Method of Generating Image of Vascular Flow Network - US20230329668A1</li>\\n<li><strong>White Papers:</strong> Published research on aerospace manufacturing techniques and design innovations.</li>\\n</ul>\\n<hr />\\n<h2>Volunteering</h2>\\n<ul>\\n<li>Developed an IoT-based air quality monitoring system and contributed to COVID relief efforts, demonstrating commitment to community welfare and technology-based solutions.</li>\\n<li>Mentored aspiring engineers, fostering career growth and skill development within educational and professional communities.</li>\\n</ul>\\n<hr />'"
      ]
     },
     "execution_count": 56,
     "metadata": {},
     "output_type": "execute_result"
    }
   ],
   "source": [
    "html_text"
   ]
  },
  {
   "cell_type": "code",
   "execution_count": 57,
   "metadata": {},
   "outputs": [
    {
     "data": {
      "text/plain": [
       "True"
      ]
     },
     "execution_count": 57,
     "metadata": {},
     "output_type": "execute_result"
    }
   ],
   "source": [
    "import pdfkit\n",
    "\n",
    "pdf_path = \"resume.pdf\"\n",
    "\n",
    "pdfkit.from_string(html_text, pdf_path)"
   ]
  },
  {
   "cell_type": "code",
   "execution_count": 51,
   "metadata": {},
   "outputs": [],
   "source": [
    "from docx import Document\n",
    "\n",
    "doc_path = \"resume.docx\"\n",
    "doc = Document()\n",
    "doc.add_paragraph(html)\n",
    "doc.save(doc_path)"
   ]
  },
  {
   "cell_type": "code",
   "execution_count": 59,
   "metadata": {},
   "outputs": [],
   "source": [
    "from docx import Document\n",
    "from docx.shared import Pt, Inches\n",
    "from docx.enum.text import WD_PARAGRAPH_ALIGNMENT\n",
    "from docx.shared import RGBColor\n",
    "from markdown import markdown\n",
    "from bs4 import BeautifulSoup\n",
    "\n",
    "def add_html_to_docx(html, doc):\n",
    "    soup = BeautifulSoup(html, 'html.parser')\n",
    "    \n",
    "    for element in soup.descendants:\n",
    "        if element.name == 'h1':\n",
    "            p = doc.add_heading(level=1)\n",
    "            p.add_run(element.text)\n",
    "        elif element.name == 'h2':\n",
    "            p = doc.add_heading(level=2)\n",
    "            p.add_run(element.text)\n",
    "        elif element.name == 'h3':\n",
    "            p = doc.add_heading(level=3)\n",
    "            p.add_run(element.text)\n",
    "        elif element.name == 'p':\n",
    "            p = doc.add_paragraph()\n",
    "            p.add_run(element.text)\n",
    "        elif element.name == 'strong':\n",
    "            run = doc.add_paragraph().add_run(element.text)\n",
    "            run.bold = True\n",
    "        elif element.name == 'em':\n",
    "            run = doc.add_paragraph().add_run(element.text)\n",
    "            run.italic = True\n",
    "        elif element.name == 'ul':\n",
    "            for li in element.find_all('li'):\n",
    "                p = doc.add_paragraph(style='List Bullet')\n",
    "                p.add_run(li.text)\n",
    "        elif element.name == 'ol':\n",
    "            for li in element.find_all('li'):\n",
    "                p = doc.add_paragraph(style='List Number')\n",
    "                p.add_run(li.text)\n",
    "        elif element.name == 'a':\n",
    "            p = doc.add_paragraph()\n",
    "            run = p.add_run(element.text)\n",
    "            run.font.color.rgb = RGBColor(0, 0, 255)\n",
    "            run.underline = True\n",
    "            p.add_run(f\" ({element['href']})\")\n",
    "\n",
    "# Convert Markdown to HTML\n",
    "markdown_text = \"\"\"\n",
    "# Heading 1\n",
    "## Heading 2\n",
    "### Heading 3\n",
    "\n",
    "This is a paragraph with **bold** text and *italic* text.\n",
    "\n",
    "- Bullet point 1\n",
    "- Bullet point 2\n",
    "\n",
    "1. Numbered point 1\n",
    "2. Numbered point 2\n",
    "\n",
    "[Link](https://example.com)\n",
    "\"\"\"\n",
    "\n",
    "html = markdown(html_text)\n",
    "\n",
    "# Create a DOCX document and add the HTML content\n",
    "doc_path = \"resume.docx\"\n",
    "doc = Document()\n",
    "\n",
    "# Set the margins\n",
    "sections = doc.sections\n",
    "for section in sections:\n",
    "    section.top_margin = Inches(0.5)\n",
    "    section.bottom_margin = Inches(0.5)\n",
    "    section.left_margin = Inches(0.5)\n",
    "    section.right_margin = Inches(0.5)\n",
    "\n",
    "\n",
    "add_html_to_docx(html, doc)\n",
    "doc.save(doc_path)"
   ]
  },
  {
   "cell_type": "code",
   "execution_count": null,
   "metadata": {},
   "outputs": [],
   "source": []
  }
 ],
 "metadata": {
  "kernelspec": {
   "display_name": ".venv",
   "language": "python",
   "name": "python3"
  },
  "language_info": {
   "codemirror_mode": {
    "name": "ipython",
    "version": 3
   },
   "file_extension": ".py",
   "mimetype": "text/x-python",
   "name": "python",
   "nbconvert_exporter": "python",
   "pygments_lexer": "ipython3",
   "version": "3.10.12"
  }
 },
 "nbformat": 4,
 "nbformat_minor": 2
}
