{
 "cells": [
  {
   "cell_type": "code",
   "execution_count": 15,
   "metadata": {},
   "outputs": [],
   "source": [
    "resume = \"\"\"\n",
    "\n",
    "VIVEKANAND B\n",
    "Engineer • Innovator • Entrepreneur\n",
    "vivekanandb@hotmail.com | +91-97381-26623\n",
    "github.com/vivekanandba | www.linkedin.com/in/vivekanand-balakrishnan-68448777\n",
    "SUMMARY\n",
    "Experienced Software and Mechanical Engineer with over 10 years of expertise in aerospace, medical robotics, and AI-powered applications. Proven ability to develop cloud-based solutions, automate processes using AI, and lead cross-functional teams to success. Founded a successful gadget repair business, showcasing entrepreneurial spirit and business acumen. Proficient in Python, JavaScript, GCP, and healthcare standards like ISO 13485. Passionate about leveraging AI to create innovative solutions that make a meaningful impact on the world.\n",
    "SKILLS\n",
    "•\tProgramming Languages & Frameworks: Python, JavaScript, Flask, Vue.js, Playwright\n",
    "•\tAI: OpenAI API, Google Vertex API, Github Copilot, Vision API, TTS\n",
    "•\tData Analysis & Visualization: Pandas, Power BI, Jupyter\n",
    "•\tCloud & DevOps: Google Cloud Platform[GCP] (VM, Serverless, VPC), Docker, Jenkins\n",
    "•\tDatabases: MongoDB, MySQL, SQLite\n",
    "•\tTools & Project Management: RESTful APIs, Software Architecture, Jira, Agile, ISO 13485, networking protocols, DICOM, HL7\n",
    "EXPERIENCE\n",
    "PROGRAMMING\n",
    "Software Engineer | NovaSignal / NeuraSignal | Bangalore, India\n",
    "Nov 2020 – Present\n",
    "Data View Application\n",
    "•\tKey Contributions: Developed a web-based app using Python, Flask, and Streamlit for real-time insights into robotic system deployments. Extracted and analysed large datasets with SQL and Power BI.\n",
    "•\tImpact: Empowered sales, medical education, and management teams to make data-driven decisions, improving operational efficiency and robotic system utilization.\n",
    "•\tTechnologies: Python, Flask, Streamlit, SQL, Power BI, Docker, GCP (Cloud Run)\n",
    "AI-Driven Test Automation\n",
    "•\tKey Contributions: Created automated test scripts for GUI applications using Python, PyTest, and Pywinauto. Leveraged OpenAI tools to automate test script development and GUI interactions.\n",
    "•\tImpact: Reduced development and testing time by 30%, increased test coverage, and introduced AI into test automation processes.\n",
    "•\tTechnologies: Python, PyTest, Pywinauto, OpenAI Assistant API, Vision API, Vertex AI\n",
    "Cloud Progressive Web Applications (Europa, Venus, Galileo, Jupiter, Saturn)\n",
    "•\tKey Contributions: Supported testing for multiple cloud applications using Playwright for UI and PyTest for API testing. Developed internal tools with Python and Flask and contributed to DevOps activities using GCP.\n",
    "•\tImpact: Accelerated development and testing cycles, enhanced scalability and reliability of cloud applications, and reduced time-to-market.\n",
    "•\tTechnologies: Python, Flask, Vue.js, Playwright, PyTest, GCP, Docker, Jenkins\n",
    "Microservices and API Development\n",
    "•\tKey Contributions: Designed and tested RESTful APIs for secure data transmission between hospital EMR systems and cloud services. Implemented HL7 and DICOM standards for healthcare data exchange.\n",
    "•\tImpact: Improved integration with hospital systems, ensured compliance with healthcare regulations, and enhanced data security.\n",
    "•\tTechnologies: Python, Flask, RESTful APIs, DICOM, HL7, MLLP, GCP (VPC, Cloud Run)\n",
    "Automation Tools and Frameworks\n",
    "•\tKey Contributions: Developed automation tools like a DICOM Decoder for verifying medical imaging data and a SOUP Creator Tool for security audits of open-source components.\n",
    "•\tImpact: Increased efficiency by automating repetitive tasks, ensured compliance with industry standards, and improved product reliability.\n",
    "•\tTechnologies: Python, PyTest, Jenkins, Docker, GCP\n",
    "ENTREPRENEURIAL \n",
    "Founder & Technician | Gadjoy Repair Services | Bangalore, India\n",
    "Nov 2016 – Jan 2021\n",
    "•\tFounded and managed a successful laptop and gadget repair service, handling over 1,000 devices and 100+ customers per month, and achieving a 4.7+ customer satisfaction rating across multiple platforms.\n",
    "•\tDeveloped and implemented custom software systems to monitor customer devices, manage checklists, and streamline ledger and enquiry entries. Leveraged Excel as a functional database, utilizing advanced features to trace device activities, which increased operational efficiency by 80%.\n",
    "•\tAcquired transferable skills in team management, customer service, and business development, alongside technical expertise in software development, database management\n",
    "MECHANICAL\n",
    "Sr. Engineer | Tech Mahindra | Jan 2019 – Jan 2021\n",
    "Senior Lead Engineer | Legend Technologies | Jan 2013 – Jan 2019\n",
    "Trainee Engineer | Safran Engineering India | Aug 2011 – Dec 2012\n",
    "\n",
    "•\tLed multidisciplinary teams in the design and fabrication of aerospace & locomotive jigs and fixtures for clients like ISRO, Safran, and Pratt & Whitney. \n",
    "•\tProvided end-to-end support in manufacturing, testing, and service, overseeing the entire product lifecycle\n",
    "•\tUtilized advanced CAD and simulation tools to do mechanical design and analysis of aerospace components and developed custom software scripts to automate design tasks reducing design time & in the process gaining transferable skills like applying analytical and project management.\n",
    "EDUCATION\n",
    "•\tBachelor of Engineering (Mechanical Engineering) - Visvesvaraya Technological University (VTU) | First Class with Distinction | 2011\n",
    "•\tDeep Learning Specialization & Machine Learning Specialization (Andrew Ng) & Multiple Short Course on AI, Tooling, Ops\n",
    "PATENTS & PUBLICATIONS\n",
    "•\tPatents: System and Method of Generating Image of Vascular Flow Network - US20230329668A1\n",
    "•\tWhite Papers: Published research on aerospace manufacturing and slip ring design. \n",
    "VOLUNTEERING\n",
    "•\tContributed to the development of an IoT-based air quality monitoring system (AirCare) and a COVID relief distribution platform (Stop Hunger) with mapshalli.org, Whitefield, Bangalore.\n",
    "•\tMentored school children, engineering graduates (for skill development), and junior professionals (for career growth).\n",
    "•\tAssisted in organizing engineering society events within the local community.\n",
    "\n",
    "\n",
    "\"\"\""
   ]
  },
  {
   "cell_type": "code",
   "execution_count": 16,
   "metadata": {},
   "outputs": [],
   "source": [
    "job_description = \"\"\"\n",
    "Position: AI Integration and Test Automation Specialist - Microsoft Dynamics 365 Business Central\n",
    "\n",
    "Experience: 5-8 years\n",
    "\n",
    "Location: [Specify location]\n",
    "\n",
    "Job Description:\n",
    "\n",
    "We are looking for an experienced AI Integration and Test Automation Specialist with 5-8 years of experience in Microsoft Dynamics 365 Business Central. The ideal candidate will have a strong background in artificial intelligence (AI), test automation, and integration with the latest version of Business Central.\n",
    "\n",
    "Responsibilities:\n",
    "\n",
    "Develop and implement AI solutions to enhance the functionality and efficiency of Business Central. \n",
    "Design and implement test automation frameworks and scripts for Business Central applications. \n",
    "Integrate AI-powered applications with Business Central using standard integration techniques. \n",
    "Collaborate with cross-functional teams to ensure successful integration and testing of AI solutions. \n",
    "Provide technical expertise and guidance on AI integration and test automation best practices. \n",
    "\n",
    "Requirements:\n",
    "\n",
    "Bachelor's degree in Computer Science, Engineering, or related field. \n",
    "5-8 years of experience in AI development, test automation, and integration with Microsoft Dynamics 365 Business Central. \n",
    "Strong proficiency in AI technologies such as machine learning, natural language processing, and computer vision. \n",
    "Experience in designing and implementing test automation frameworks for Business Central. \n",
    "Demonstrated ability to integrate AI-powered applications with Business Central using APIs, web services, etc. \n",
    "Excellent problem-solving skills and attention to detail. \n",
    "Strong communication and interpersonal skills. \n",
    "\n",
    "\"\"\""
   ]
  },
  {
   "cell_type": "code",
   "execution_count": 19,
   "metadata": {},
   "outputs": [
    {
     "name": "stdout",
     "output_type": "stream",
     "text": [
      "ChatCompletionMessage(content='# VIVEKANAND B\\n**Engineer • AI Specialist • Innovator**\\n\\n**Contact Information:**\\n- **Email:** vivekanandb@hotmail.com\\n- **Phone:** +91-97381-26623\\n- [GitHub](http://github.com/vivekanandba) | [LinkedIn](http://www.linkedin.com/in/vivekanand-balakrishnan-68448777)\\n\\n## SUMMARY\\n\\nExperienced AI Integration and Test Automation Specialist with over 10 years of expertise in AI development, test automation, and integration with cloud and legacy systems. Possess a strong background in designing AI solutions, developing test automation frameworks, and leading cross-functional teams. Proven ability to integrate AI-powered applications using APIs and web services with a keen interest in enhancing the functionality and efficiency of business systems. **Proficient in Python, GCP, and healthcare standards like ISO 13485.** Committed to leveraging AI to create solutions that drive meaningful improvements in technology and business processes.\\n\\n## SKILLS\\n\\n- **Programming Languages & Frameworks:** Python, JavaScript, Flask, Vue.js\\n- **AI Technologies:** OpenAI API, Google Vertex API, Machine Learning, Vision API, TTS\\n- **Test Automation:** PyTest, Pywinauto, Playwright\\n- **Cloud & DevOps:** Google Cloud Platform (GCP), Docker, Jenkins\\n- **Databases:** MongoDB, MySQL, SQLite\\n- **Integration & Networking:** RESTful APIs, HL7, DICOM\\n- **Project Management:** Jira, Agile, ISO 13485\\n\\n## EXPERIENCE\\n\\n### AI Integration and Test Automation Specialist\\n**Software Engineer | NovaSignal / NeuraSignal | Bangalore, India**  \\n**Nov 2020 – Present**\\n\\n- **AI-Driven Test Automation:**\\n  - Developed and automated test scripts for GUI applications integrating AI assistant capabilities, optimizing test processes by 30%.\\n  - Technologies: Python, PyTest, OpenAI Assistant API.\\n\\n- **Cloud Progressive Web Applications:**\\n  - Designed automation frameworks for testing cloud applications, enhancing test coverage and efficiency.\\n  - Technologies: Playwright, PyTest, GCP, Jenkins.\\n\\n- **Microservices and API Development:**\\n  - Engineered and tested secure RESTful APIs for data integration, ensuring compliance and security.\\n  - Technologies: Python, Flask, RESTful APIs, HL7, DICOM.\\n\\n### Entrepreneurial Experience\\n**Founder & Technician | Gadjoy Repair Services | Bangalore, India**  \\n**Nov 2016 – Jan 2021**\\n\\n- Established a gadget and laptop repair business, proficient in customer service and tech support, achieving a high satisfaction rating and improving operational efficiency.\\n\\n### Mechanical Engineering Roles\\n- **Sr. Engineer | Tech Mahindra | Jan 2019 – Jan 2021**\\n- **Senior Lead Engineer | Legend Technologies | Jan 2013 – Jan 2019**\\n- **Trainee Engineer | Safran Engineering India | Aug 2011 – Dec 2012**\\n\\n  - Led teams in designing aerospace components and created custom software scripts to automate design tasks.\\n  - Employed CAD tools for analyzing and designing jigs and fixtures for aerospace clients.\\n\\n## EDUCATION\\n\\n- **Bachelor of Engineering (Mechanical Engineering)**  \\n  Visvesvaraya Technological University (VTU) | First Class with Distinction | 2011\\n\\n- **Certifications:**\\n  - Deep Learning Specialization\\n  - Machine Learning Specialization (Andrew Ng)\\n\\n## PATENTS & PUBLICATIONS\\n\\n- **Patents:** System and Method of Generating Image of Vascular Flow Network - US20230329668A1\\n- **Publications:** Research on aerospace manufacturing and design.\\n\\n## VOLUNTEERING\\n\\n- Developed IoT-based air quality monitoring systems.\\n- Mentored students and junior professionals in tech skill development.\\n\\n---\\n\\nThis resume is now tailored to highlight relevant expertise and align with the job description for an AI Integration and Test Automation Specialist role involved with Microsoft Dynamics 365 Business Central, focusing on AI technologies, test automation, and integration experience.', refusal=None, role='assistant', function_call=None, tool_calls=None)\n"
     ]
    }
   ],
   "source": [
    "import os\n",
    "from dotenv import load_dotenv\n",
    "from openai import OpenAI\n",
    "\n",
    "# Load environment variables from .env file\n",
    "load_dotenv()\n",
    "\n",
    "# Get the API key from environment variables\n",
    "api_key = os.getenv('API_KEY')\n",
    "\n",
    "# Initialize the OpenAI client with the API key\n",
    "client = OpenAI(api_key=api_key)\n",
    "\n",
    "completion = client.chat.completions.create(\n",
    "    model=\"gpt-4o\",\n",
    "    messages=[\n",
    "        {\"role\": \"assistant\", \n",
    "         \"content\": \"\"\"\"\n",
    "            ### Task Description:\n",
    "            **You are a resume writing expert specializing in tailoring resumes to specific job descriptions. Your task is to refine the resume to enhance clarity, coherence, grammar, and style while aligning it with the given job description. You must not invent or fabricate any new details.**\n",
    "\n",
    "            ### Steps:\n",
    "\n",
    "            - Analyze the base resume and job description for key skills, qualifications, and experiences.\n",
    "            - Adjust and refine the resume to match the job description by highlighting relevant experiences, skills, and achievements.\n",
    "            - Use action verbs and tailor the language to the job's responsibilities and requirements, ensuring maximum relevance to the job description.\n",
    "            - Ensure there are no grammatical errors or inconsistencies and that the resume flows logically.\n",
    "            - Maintain the user's original meaning and intent while customizing it to the job description. Do not add any fictional or unprovided information.\n",
    "\n",
    "            ### Output Instructions:\n",
    "\n",
    "            - **Provide the customized resume in proper Markdown format**, ensuring correct usage of Markdown elements such as headings, lists, bold/italic text, and bullet points where appropriate.\n",
    "            - Use `#`, `##`, `###` for headings, `**` for bold text, `*` or `-` for bullet points, and other Markdown syntax for formatting.\n",
    "            - The resume should be well-structured, coherent, and tailored to the job requirements.\n",
    "\n",
    "         \"\"\"},\n",
    "        {\n",
    "            \"role\": \"user\",\n",
    "            \"content\": f\"Write this base resume {resume} to match the following job description: {job_description}\"\n",
    "        }\n",
    "    ]\n",
    ")\n",
    "\n",
    "print(completion.choices[0].message)"
   ]
  },
  {
   "cell_type": "code",
   "execution_count": 20,
   "metadata": {},
   "outputs": [
    {
     "data": {
      "text/plain": [
       "'\"# VIVEKANAND B\\\\n**Engineer \\\\u2022 AI Specialist \\\\u2022 Innovator**\\\\n\\\\n**Contact Information:**\\\\n- **Email:** vivekanandb@hotmail.com\\\\n- **Phone:** +91-97381-26623\\\\n- [GitHub](http://github.com/vivekanandba) | [LinkedIn](http://www.linkedin.com/in/vivekanand-balakrishnan-68448777)\\\\n\\\\n## SUMMARY\\\\n\\\\nExperienced AI Integration and Test Automation Specialist with over 10 years of expertise in AI development, test automation, and integration with cloud and legacy systems. Possess a strong background in designing AI solutions, developing test automation frameworks, and leading cross-functional teams. Proven ability to integrate AI-powered applications using APIs and web services with a keen interest in enhancing the functionality and efficiency of business systems. **Proficient in Python, GCP, and healthcare standards like ISO 13485.** Committed to leveraging AI to create solutions that drive meaningful improvements in technology and business processes.\\\\n\\\\n## SKILLS\\\\n\\\\n- **Programming Languages & Frameworks:** Python, JavaScript, Flask, Vue.js\\\\n- **AI Technologies:** OpenAI API, Google Vertex API, Machine Learning, Vision API, TTS\\\\n- **Test Automation:** PyTest, Pywinauto, Playwright\\\\n- **Cloud & DevOps:** Google Cloud Platform (GCP), Docker, Jenkins\\\\n- **Databases:** MongoDB, MySQL, SQLite\\\\n- **Integration & Networking:** RESTful APIs, HL7, DICOM\\\\n- **Project Management:** Jira, Agile, ISO 13485\\\\n\\\\n## EXPERIENCE\\\\n\\\\n### AI Integration and Test Automation Specialist\\\\n**Software Engineer | NovaSignal / NeuraSignal | Bangalore, India**  \\\\n**Nov 2020 \\\\u2013 Present**\\\\n\\\\n- **AI-Driven Test Automation:**\\\\n  - Developed and automated test scripts for GUI applications integrating AI assistant capabilities, optimizing test processes by 30%.\\\\n  - Technologies: Python, PyTest, OpenAI Assistant API.\\\\n\\\\n- **Cloud Progressive Web Applications:**\\\\n  - Designed automation frameworks for testing cloud applications, enhancing test coverage and efficiency.\\\\n  - Technologies: Playwright, PyTest, GCP, Jenkins.\\\\n\\\\n- **Microservices and API Development:**\\\\n  - Engineered and tested secure RESTful APIs for data integration, ensuring compliance and security.\\\\n  - Technologies: Python, Flask, RESTful APIs, HL7, DICOM.\\\\n\\\\n### Entrepreneurial Experience\\\\n**Founder & Technician | Gadjoy Repair Services | Bangalore, India**  \\\\n**Nov 2016 \\\\u2013 Jan 2021**\\\\n\\\\n- Established a gadget and laptop repair business, proficient in customer service and tech support, achieving a high satisfaction rating and improving operational efficiency.\\\\n\\\\n### Mechanical Engineering Roles\\\\n- **Sr. Engineer | Tech Mahindra | Jan 2019 \\\\u2013 Jan 2021**\\\\n- **Senior Lead Engineer | Legend Technologies | Jan 2013 \\\\u2013 Jan 2019**\\\\n- **Trainee Engineer | Safran Engineering India | Aug 2011 \\\\u2013 Dec 2012**\\\\n\\\\n  - Led teams in designing aerospace components and created custom software scripts to automate design tasks.\\\\n  - Employed CAD tools for analyzing and designing jigs and fixtures for aerospace clients.\\\\n\\\\n## EDUCATION\\\\n\\\\n- **Bachelor of Engineering (Mechanical Engineering)**  \\\\n  Visvesvaraya Technological University (VTU) | First Class with Distinction | 2011\\\\n\\\\n- **Certifications:**\\\\n  - Deep Learning Specialization\\\\n  - Machine Learning Specialization (Andrew Ng)\\\\n\\\\n## PATENTS & PUBLICATIONS\\\\n\\\\n- **Patents:** System and Method of Generating Image of Vascular Flow Network - US20230329668A1\\\\n- **Publications:** Research on aerospace manufacturing and design.\\\\n\\\\n## VOLUNTEERING\\\\n\\\\n- Developed IoT-based air quality monitoring systems.\\\\n- Mentored students and junior professionals in tech skill development.\\\\n\\\\n---\\\\n\\\\nThis resume is now tailored to highlight relevant expertise and align with the job description for an AI Integration and Test Automation Specialist role involved with Microsoft Dynamics 365 Business Central, focusing on AI technologies, test automation, and integration experience.\"'"
      ]
     },
     "execution_count": 20,
     "metadata": {},
     "output_type": "execute_result"
    }
   ],
   "source": [
    "import json\n",
    "\n",
    "# Assuming completion.choices[0].message is a ChatCompletionMessage object\n",
    "message = completion.choices[0].message\n",
    "\n",
    "# Extract the content from the ChatCompletionMessage object\n",
    "message_content = message.content\n",
    "\n",
    "# Convert the message content to a JSON formatted string for readability\n",
    "formatted_message = json.dumps(message_content, indent=4)\n",
    "\n",
    "formatted_message"
   ]
  },
  {
   "cell_type": "code",
   "execution_count": 21,
   "metadata": {},
   "outputs": [
    {
     "ename": "NameError",
     "evalue": "name 're' is not defined",
     "output_type": "error",
     "traceback": [
      "\u001b[0;31m---------------------------------------------------------------------------\u001b[0m",
      "\u001b[0;31mNameError\u001b[0m                                 Traceback (most recent call last)",
      "Cell \u001b[0;32mIn[21], line 10\u001b[0m\n\u001b[1;32m      6\u001b[0m     cleaned_string \u001b[38;5;241m=\u001b[39m re\u001b[38;5;241m.\u001b[39msub(\u001b[38;5;124mr\u001b[39m\u001b[38;5;124m'\u001b[39m\u001b[38;5;130;01m\\\\\u001b[39;00m\u001b[38;5;124mu([0-9A-Fa-f]\u001b[39m\u001b[38;5;132;01m{4}\u001b[39;00m\u001b[38;5;124m)\u001b[39m\u001b[38;5;124m'\u001b[39m, \u001b[38;5;28;01mlambda\u001b[39;00m x: \u001b[38;5;28mchr\u001b[39m(\u001b[38;5;28mint\u001b[39m(x\u001b[38;5;241m.\u001b[39mgroup(\u001b[38;5;241m1\u001b[39m), \u001b[38;5;241m16\u001b[39m)), cleaned_string)\n\u001b[1;32m      8\u001b[0m     \u001b[38;5;28;01mreturn\u001b[39;00m cleaned_string\n\u001b[0;32m---> 10\u001b[0m cleaned_output \u001b[38;5;241m=\u001b[39m \u001b[43mclean_string\u001b[49m\u001b[43m(\u001b[49m\u001b[43mformatted_message\u001b[49m\u001b[43m)\u001b[49m\n\u001b[1;32m     12\u001b[0m cleaned_output\n",
      "Cell \u001b[0;32mIn[21], line 6\u001b[0m, in \u001b[0;36mclean_string\u001b[0;34m(input_string)\u001b[0m\n\u001b[1;32m      3\u001b[0m cleaned_string \u001b[38;5;241m=\u001b[39m input_string\u001b[38;5;241m.\u001b[39mreplace(\u001b[38;5;124m'\u001b[39m\u001b[38;5;130;01m\\\\\u001b[39;00m\u001b[38;5;124mn\u001b[39m\u001b[38;5;124m'\u001b[39m, \u001b[38;5;124m'\u001b[39m\u001b[38;5;130;01m\\n\u001b[39;00m\u001b[38;5;124m'\u001b[39m)\n\u001b[1;32m      5\u001b[0m \u001b[38;5;66;03m# Replace unicode escape sequences like \\\\u2022 with actual characters\u001b[39;00m\n\u001b[0;32m----> 6\u001b[0m cleaned_string \u001b[38;5;241m=\u001b[39m \u001b[43mre\u001b[49m\u001b[38;5;241m.\u001b[39msub(\u001b[38;5;124mr\u001b[39m\u001b[38;5;124m'\u001b[39m\u001b[38;5;130;01m\\\\\u001b[39;00m\u001b[38;5;124mu([0-9A-Fa-f]\u001b[39m\u001b[38;5;132;01m{4}\u001b[39;00m\u001b[38;5;124m)\u001b[39m\u001b[38;5;124m'\u001b[39m, \u001b[38;5;28;01mlambda\u001b[39;00m x: \u001b[38;5;28mchr\u001b[39m(\u001b[38;5;28mint\u001b[39m(x\u001b[38;5;241m.\u001b[39mgroup(\u001b[38;5;241m1\u001b[39m), \u001b[38;5;241m16\u001b[39m)), cleaned_string)\n\u001b[1;32m      8\u001b[0m \u001b[38;5;28;01mreturn\u001b[39;00m cleaned_string\n",
      "\u001b[0;31mNameError\u001b[0m: name 're' is not defined"
     ]
    }
   ],
   "source": [
    "import re\n",
    "\n",
    "def clean_string(input_string):\n",
    "    # Replace \\\\n with actual newlines\n",
    "    cleaned_string = input_string.replace('\\\\n', '\\n')\n",
    "    \n",
    "    # Replace unicode escape sequences like \\\\u2022 with actual characters\n",
    "    cleaned_string = re.sub(r'\\\\u([0-9A-Fa-f]{4})', lambda x: chr(int(x.group(1), 16)), cleaned_string)\n",
    "    \n",
    "    return cleaned_string\n",
    "\n",
    "cleaned_output = clean_string(formatted_message)\n",
    "\n",
    "cleaned_output"
   ]
  },
  {
   "cell_type": "code",
   "execution_count": null,
   "metadata": {},
   "outputs": [],
   "source": []
  }
 ],
 "metadata": {
  "kernelspec": {
   "display_name": ".venv",
   "language": "python",
   "name": "python3"
  },
  "language_info": {
   "codemirror_mode": {
    "name": "ipython",
    "version": 3
   },
   "file_extension": ".py",
   "mimetype": "text/x-python",
   "name": "python",
   "nbconvert_exporter": "python",
   "pygments_lexer": "ipython3",
   "version": "3.10.12"
  }
 },
 "nbformat": 4,
 "nbformat_minor": 2
}
