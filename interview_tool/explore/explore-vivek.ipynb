{
 "cells": [
  {
   "cell_type": "code",
   "execution_count": 1,
   "metadata": {},
   "outputs": [
    {
     "name": "stdout",
     "output_type": "stream",
     "text": [
      "What are the greatest strengths? My greatest strengths are my analytical thinking and attention to detail. I excel at breaking down complex problems into manageable parts and developing efficient solutions. Additionally, my communication skills enable me to rapidly and effectively convey technical information to non-technical stakeholders.\n"
     ]
    }
   ],
   "source": [
    "from openai import OpenAI\n",
    "client = OpenAI()\n",
    "\n",
    "audio_file= open(\"/home/vivek/projects/interview_tool/vivek/q1.mp4\", \"rb\")\n",
    "transcription = client.audio.transcriptions.create(\n",
    "  model=\"whisper-1\", \n",
    "  file=audio_file\n",
    ")\n",
    "print(transcription.text)"
   ]
  },
  {
   "cell_type": "code",
   "execution_count": 2,
   "metadata": {},
   "outputs": [
    {
     "name": "stdout",
     "output_type": "stream",
     "text": [
      "**Feedback:**\n",
      "\n",
      "**Strengths:**\n",
      "\n",
      "* **Analytical thinking:** The candidate highlights their ability to break down complex problems, which is a valuable skill in many industries.\n",
      "* **Attention to detail:** This strength demonstrates the candidate's focus and accuracy, which are important for roles requiring precision.\n",
      "* **Communication skills:** Effective communication is crucial for any professional, and the candidate emphasizes their ability to convey technical information to non-technical stakeholders.\n",
      "\n",
      "**Areas for Improvement:**\n",
      "\n",
      "* **Provide specific examples:** While the candidate lists their strengths, they do not provide specific examples to support their claims. It would be beneficial to include real-world experiences or projects where they have successfully applied these strengths.\n",
      "* **Quantify results:** To make their strengths more impactful, the candidate should quantify their achievements whenever possible. For example, instead of saying \"I excel at breaking down complex problems,\" they could say \"I successfully reduced project complexity by 20% by breaking down the problem into smaller, manageable parts.\"\n",
      "* **Highlight transferable skills:** The candidate should emphasize how their strengths can be applied to the specific role they are interviewing for. For instance, if the position requires collaboration, they could highlight their communication and analytical thinking skills as being essential for working effectively in a team environment.\n",
      "* **Prepare answers in advance:** It is advisable for the candidate to prepare their answers to common interview questions before the interview. This allows them to articulate their strengths clearly and confidently.\n",
      "\n",
      "**Revised Statement:**\n",
      "\n",
      "\"My greatest strengths lie in my analytical thinking and attention to detail. For example, in my previous role, I successfully led a project to streamline a complex business process. By breaking down the problem into smaller parts and developing efficient solutions, I reduced project complexity by 20%. Additionally, my communication skills enable me to effectively convey technical information to non-technical stakeholders. I have a proven track record of presenting complex concepts in a clear and concise manner, fostering understanding and collaboration.\"\n"
     ]
    }
   ],
   "source": [
    "prompt = f\" This is a recording of a candidate preparing for interview, please provide feedback on how they can improve to impress the interviewer. \\n {transcription.text}\"\n",
    "\n",
    "\n",
    "import requests\n",
    "import os\n",
    "\n",
    "from dotenv import load_dotenv, find_dotenv\n",
    "_ = load_dotenv(find_dotenv()) # read local .env file\n",
    "api_key = os.environ['GOOGLE_API_KEY']\n",
    "\n",
    "# Set the API endpoint and API key.\n",
    "endpoint = \"https://generativelanguage.googleapis.com/v1beta\"\n",
    "# Prepare the request body.\n",
    "request_body = {\n",
    "    \"contents\": [\n",
    "        {\n",
    "            \"parts\": [\n",
    "                {\n",
    "                    \"text\": prompt\n",
    "                }\n",
    "            ]\n",
    "        }\n",
    "    ]\n",
    "}\n",
    "\n",
    "# Make the request.\n",
    "response = requests.post(\n",
    "    f\"{endpoint}/models/gemini-pro:generateContent?key={api_key}\",\n",
    "    json=request_body,\n",
    ")\n",
    "\n",
    "# Parse the response.\n",
    "response_json = response.json()\n",
    "\n",
    "generated_content = response_json[\"candidates\"][0]['content']['parts'][0]['text']\n",
    "\n",
    "# Print the generated content.\n",
    "print(generated_content)"
   ]
  },
  {
   "cell_type": "code",
   "execution_count": null,
   "metadata": {},
   "outputs": [],
   "source": []
  }
 ],
 "metadata": {
  "kernelspec": {
   "display_name": ".venv",
   "language": "python",
   "name": "python3"
  },
  "language_info": {
   "codemirror_mode": {
    "name": "ipython",
    "version": 3
   },
   "file_extension": ".py",
   "mimetype": "text/x-python",
   "name": "python",
   "nbconvert_exporter": "python",
   "pygments_lexer": "ipython3",
   "version": "3.10.14"
  }
 },
 "nbformat": 4,
 "nbformat_minor": 2
}
