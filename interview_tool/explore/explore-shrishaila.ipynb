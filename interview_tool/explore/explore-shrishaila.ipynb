{
 "cells": [
  {
   "cell_type": "code",
   "execution_count": 1,
   "metadata": {},
   "outputs": [
    {
     "name": "stdout",
     "output_type": "stream",
     "text": [
      "I am looking for a competitive salary that reflects my skills and experience and I am open to discussing what you have budgeted for this role.\n"
     ]
    }
   ],
   "source": [
    "from openai import OpenAI\n",
    "client = OpenAI()\n",
    "\n",
    "audio_file= open(\"/home/vivek/projects/interview_tool/shrishaila/What are your salary expectations.ogg\", \"rb\")\n",
    "transcription = client.audio.transcriptions.create(\n",
    "  model=\"whisper-1\", \n",
    "  file=audio_file\n",
    ")\n",
    "print(transcription.text)"
   ]
  },
  {
   "cell_type": "code",
   "execution_count": 2,
   "metadata": {},
   "outputs": [
    {
     "name": "stdout",
     "output_type": "stream",
     "text": [
      "**Feedback:**\n",
      "\n",
      "* **Be specific:** Instead of saying \"a competitive salary,\" provide a specific salary range or expectation based on industry benchmarks and your own experience. This demonstrates that you have researched the market and are confident in your worth.\n",
      "* **Quantify your experience:** Use numbers and metrics to highlight your accomplishments and the value you have brought to previous organizations. This provides concrete evidence of your impact and makes it easier for the interviewer to assess your skills and experience.\n",
      "* **Be proactive:** Rather than waiting for the interviewer to discuss compensation, take the initiative and ask about the salary budget for the role. This shows that you are assertive and interested in the company's perspective. However, be prepared to negotiate and be willing to compromise if necessary.\n",
      "* **Be prepared to discuss your value:** Highlight the unique skills, experiences, and qualities that make you the best candidate for the role. Explain how these assets align with the company's needs and goals.\n",
      "* **Use the following framework:**\n",
      "    * **Start:** \"Based on my research and my experience, I am seeking a salary in the range of $X to $Y.\"\n",
      "    * **Provide context:** \"This range is reflective of the industry benchmarks and my contributions in my previous role, where I led a team of X professionals to achieve Y results.\"\n",
      "    * **Express openness to negotiation:** \"I understand that you may have a budget for this role, and I am open to discussing it further to find a mutually agreeable solution.\"\n",
      "    * **Close:** \"I am confident that my skills and experience will be a valuable asset to your organization.\"\n"
     ]
    }
   ],
   "source": [
    "prompt = f\" This is a recording of a candidate preparing for interview, please provide feedback on how they can improve to impress the interviewer. \\n {transcription.text}\"\n",
    "\n",
    "\n",
    "import requests\n",
    "import os\n",
    "\n",
    "from dotenv import load_dotenv, find_dotenv\n",
    "_ = load_dotenv(find_dotenv()) # read local .env file\n",
    "api_key = os.environ['GOOGLE_API_KEY']\n",
    "\n",
    "# Set the API endpoint and API key.\n",
    "endpoint = \"https://generativelanguage.googleapis.com/v1beta\"\n",
    "# Prepare the request body.\n",
    "request_body = {\n",
    "    \"contents\": [\n",
    "        {\n",
    "            \"parts\": [\n",
    "                {\n",
    "                    \"text\": prompt\n",
    "                }\n",
    "            ]\n",
    "        }\n",
    "    ]\n",
    "}\n",
    "\n",
    "# Make the request.\n",
    "response = requests.post(\n",
    "    f\"{endpoint}/models/gemini-pro:generateContent?key={api_key}\",\n",
    "    json=request_body,\n",
    ")\n",
    "\n",
    "# Parse the response.\n",
    "response_json = response.json()\n",
    "\n",
    "generated_content = response_json[\"candidates\"][0]['content']['parts'][0]['text']\n",
    "\n",
    "# Print the generated content.\n",
    "print(generated_content)"
   ]
  },
  {
   "cell_type": "code",
   "execution_count": 3,
   "metadata": {},
   "outputs": [
    {
     "name": "stdout",
     "output_type": "stream",
     "text": [
      "My strengths include strong problem-solving skills and effective communication. As for weaknesses, I am working on delegating tasks more effectively.\n"
     ]
    }
   ],
   "source": [
    "from openai import OpenAI\n",
    "client = OpenAI()\n",
    "\n",
    "audio_file= open(\"/home/vivek/projects/interview_tool/shrishaila/What are your strengths and weaknesses.ogg\", \"rb\")\n",
    "transcription = client.audio.transcriptions.create(\n",
    "  model=\"whisper-1\", \n",
    "  file=audio_file\n",
    ")\n",
    "print(transcription.text)"
   ]
  },
  {
   "cell_type": "code",
   "execution_count": 4,
   "metadata": {},
   "outputs": [
    {
     "name": "stdout",
     "output_type": "stream",
     "text": [
      "**Strengths:**\n",
      "\n",
      "* **Emphasize specific examples:** Instead of simply stating \"strong problem-solving skills,\" provide specific examples of how you have successfully solved complex problems and achieved positive outcomes.\n",
      "* **Quantify your accomplishments:** Use numbers and metrics to demonstrate the impact of your work. For example, \"Solved over 50 technical issues within a 6-month period, reducing downtime by 25%.\"\n",
      "\n",
      "**Weaknesses:**\n",
      "\n",
      "* **Acknowledge the weakness with specific actions:** Rather than saying \"I am working on delegating tasks more effectively,\" explain the specific steps you are taking to improve. For example, \"I am developing a delegation framework to ensure clear task assignments, timelines, and accountability.\"\n",
      "* **Avoid using general terms:** Replace generic phrases like \"more effectively\" with specific actions. For example, instead of \"working on communication,\" say \"Implementing active listening techniques and seeking feedback to improve clarity and engagement.\"\n",
      "\n",
      "**Additional Tips:**\n",
      "\n",
      "* **Be concise and focused:** Provide only relevant information and avoid rambling.\n",
      "* **Match your response to the job description:** Highlight strengths and weaknesses that are directly applicable to the position you are applying for.\n",
      "* **Practice and prepare:** Rehearse your answers to common interview questions and be ready to elaborate on your strengths and weaknesses.\n",
      "* **Use positive language:** Emphasize your eagerness to learn and improve rather than dwelling on your weaknesses.\n",
      "* **Maintain a professional demeanor:** Dress appropriately, make eye contact, and speak clearly and confidently.\n"
     ]
    }
   ],
   "source": [
    "prompt = f\" This is a recording of a candidate preparing for interview, please provide feedback on how they can improve to impress the interviewer. \\n {transcription.text}\"\n",
    "\n",
    "\n",
    "import requests\n",
    "import os\n",
    "\n",
    "from dotenv import load_dotenv, find_dotenv\n",
    "_ = load_dotenv(find_dotenv()) # read local .env file\n",
    "api_key = os.environ['GOOGLE_API_KEY']\n",
    "\n",
    "# Set the API endpoint and API key.\n",
    "endpoint = \"https://generativelanguage.googleapis.com/v1beta\"\n",
    "# Prepare the request body.\n",
    "request_body = {\n",
    "    \"contents\": [\n",
    "        {\n",
    "            \"parts\": [\n",
    "                {\n",
    "                    \"text\": prompt\n",
    "                }\n",
    "            ]\n",
    "        }\n",
    "    ]\n",
    "}\n",
    "\n",
    "# Make the request.\n",
    "response = requests.post(\n",
    "    f\"{endpoint}/models/gemini-pro:generateContent?key={api_key}\",\n",
    "    json=request_body,\n",
    ")\n",
    "\n",
    "# Parse the response.\n",
    "response_json = response.json()\n",
    "\n",
    "generated_content = response_json[\"candidates\"][0]['content']['parts'][0]['text']\n",
    "\n",
    "# Print the generated content.\n",
    "print(generated_content)"
   ]
  },
  {
   "cell_type": "code",
   "execution_count": null,
   "metadata": {},
   "outputs": [],
   "source": []
  }
 ],
 "metadata": {
  "kernelspec": {
   "display_name": ".venv",
   "language": "python",
   "name": "python3"
  },
  "language_info": {
   "codemirror_mode": {
    "name": "ipython",
    "version": 3
   },
   "file_extension": ".py",
   "mimetype": "text/x-python",
   "name": "python",
   "nbconvert_exporter": "python",
   "pygments_lexer": "ipython3",
   "version": "3.10.14"
  }
 },
 "nbformat": 4,
 "nbformat_minor": 2
}
