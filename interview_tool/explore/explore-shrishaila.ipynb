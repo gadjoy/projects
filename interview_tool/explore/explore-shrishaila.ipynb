{
 "cells": [
  {
   "cell_type": "code",
   "execution_count": 2,
   "metadata": {},
   "outputs": [
    {
     "ename": "OpenAIError",
     "evalue": "The api_key client option must be set either by passing api_key to the client or by setting the OPENAI_API_KEY environment variable",
     "output_type": "error",
     "traceback": [
      "\u001b[0;31m---------------------------------------------------------------------------\u001b[0m",
      "\u001b[0;31mOpenAIError\u001b[0m                               Traceback (most recent call last)",
      "Cell \u001b[0;32mIn[2], line 2\u001b[0m\n\u001b[1;32m      1\u001b[0m \u001b[38;5;28;01mfrom\u001b[39;00m \u001b[38;5;21;01mopenai\u001b[39;00m \u001b[38;5;28;01mimport\u001b[39;00m OpenAI\n\u001b[0;32m----> 2\u001b[0m client \u001b[38;5;241m=\u001b[39m \u001b[43mOpenAI\u001b[49m\u001b[43m(\u001b[49m\u001b[43m)\u001b[49m\n\u001b[1;32m      4\u001b[0m audio_file\u001b[38;5;241m=\u001b[39m \u001b[38;5;28mopen\u001b[39m(\u001b[38;5;124m\"\u001b[39m\u001b[38;5;124m/home/vivek/projects/interview_tool/shrishaila/What are your salary expectations.ogg\u001b[39m\u001b[38;5;124m\"\u001b[39m, \u001b[38;5;124m\"\u001b[39m\u001b[38;5;124mrb\u001b[39m\u001b[38;5;124m\"\u001b[39m)\n\u001b[1;32m      5\u001b[0m transcription \u001b[38;5;241m=\u001b[39m client\u001b[38;5;241m.\u001b[39maudio\u001b[38;5;241m.\u001b[39mtranscriptions\u001b[38;5;241m.\u001b[39mcreate(\n\u001b[1;32m      6\u001b[0m   model\u001b[38;5;241m=\u001b[39m\u001b[38;5;124m\"\u001b[39m\u001b[38;5;124mwhisper-1\u001b[39m\u001b[38;5;124m\"\u001b[39m, \n\u001b[1;32m      7\u001b[0m   file\u001b[38;5;241m=\u001b[39maudio_file\n\u001b[1;32m      8\u001b[0m )\n",
      "File \u001b[0;32m~/projects/freelancer_auto/server/myenv/lib/python3.8/site-packages/openai/_client.py:104\u001b[0m, in \u001b[0;36mOpenAI.__init__\u001b[0;34m(self, api_key, organization, project, base_url, timeout, max_retries, default_headers, default_query, http_client, _strict_response_validation)\u001b[0m\n\u001b[1;32m    102\u001b[0m     api_key \u001b[38;5;241m=\u001b[39m os\u001b[38;5;241m.\u001b[39menviron\u001b[38;5;241m.\u001b[39mget(\u001b[38;5;124m\"\u001b[39m\u001b[38;5;124mOPENAI_API_KEY\u001b[39m\u001b[38;5;124m\"\u001b[39m)\n\u001b[1;32m    103\u001b[0m \u001b[38;5;28;01mif\u001b[39;00m api_key \u001b[38;5;129;01mis\u001b[39;00m \u001b[38;5;28;01mNone\u001b[39;00m:\n\u001b[0;32m--> 104\u001b[0m     \u001b[38;5;28;01mraise\u001b[39;00m OpenAIError(\n\u001b[1;32m    105\u001b[0m         \u001b[38;5;124m\"\u001b[39m\u001b[38;5;124mThe api_key client option must be set either by passing api_key to the client or by setting the OPENAI_API_KEY environment variable\u001b[39m\u001b[38;5;124m\"\u001b[39m\n\u001b[1;32m    106\u001b[0m     )\n\u001b[1;32m    107\u001b[0m \u001b[38;5;28mself\u001b[39m\u001b[38;5;241m.\u001b[39mapi_key \u001b[38;5;241m=\u001b[39m api_key\n\u001b[1;32m    109\u001b[0m \u001b[38;5;28;01mif\u001b[39;00m organization \u001b[38;5;129;01mis\u001b[39;00m \u001b[38;5;28;01mNone\u001b[39;00m:\n",
      "\u001b[0;31mOpenAIError\u001b[0m: The api_key client option must be set either by passing api_key to the client or by setting the OPENAI_API_KEY environment variable"
     ]
    }
   ],
   "source": [
    "from openai import OpenAI\n",
    "client = OpenAI()\n",
    "\n",
    "audio_file= open(\"/home/vivek/projects/interview_tool/shrishaila/What are your salary expectations.ogg\", \"rb\")\n",
    "transcription = client.audio.transcriptions.create(\n",
    "  model=\"whisper-1\", \n",
    "  file=audio_file\n",
    ")\n",
    "print(transcription.text)"
   ]
  },
  {
   "cell_type": "code",
   "execution_count": null,
   "metadata": {},
   "outputs": [
    {
     "name": "stdout",
     "output_type": "stream",
     "text": [
      "**Feedback:**\n",
      "\n",
      "* **Be specific:** Instead of saying \"a competitive salary,\" provide a specific salary range or expectation based on industry benchmarks and your own experience. This demonstrates that you have researched the market and are confident in your worth.\n",
      "* **Quantify your experience:** Use numbers and metrics to highlight your accomplishments and the value you have brought to previous organizations. This provides concrete evidence of your impact and makes it easier for the interviewer to assess your skills and experience.\n",
      "* **Be proactive:** Rather than waiting for the interviewer to discuss compensation, take the initiative and ask about the salary budget for the role. This shows that you are assertive and interested in the company's perspective. However, be prepared to negotiate and be willing to compromise if necessary.\n",
      "* **Be prepared to discuss your value:** Highlight the unique skills, experiences, and qualities that make you the best candidate for the role. Explain how these assets align with the company's needs and goals.\n",
      "* **Use the following framework:**\n",
      "    * **Start:** \"Based on my research and my experience, I am seeking a salary in the range of $X to $Y.\"\n",
      "    * **Provide context:** \"This range is reflective of the industry benchmarks and my contributions in my previous role, where I led a team of X professionals to achieve Y results.\"\n",
      "    * **Express openness to negotiation:** \"I understand that you may have a budget for this role, and I am open to discussing it further to find a mutually agreeable solution.\"\n",
      "    * **Close:** \"I am confident that my skills and experience will be a valuable asset to your organization.\"\n"
     ]
    }
   ],
   "source": [
    "prompt = f\" This is a recording of a candidate preparing for interview, please provide feedback on how they can improve to impress the interviewer. \\n {transcription.text}\"\n",
    "\n",
    "\n",
    "import requests\n",
    "import os\n",
    "\n",
    "from dotenv import load_dotenv, find_dotenv\n",
    "_ = load_dotenv(find_dotenv()) # read local .env file\n",
    "api_key = os.environ['GOOGLE_API_KEY']\n",
    "\n",
    "# Set the API endpoint and API key.\n",
    "endpoint = \"https://generativelanguage.googleapis.com/v1beta\"\n",
    "# Prepare the request body.\n",
    "request_body = {\n",
    "    \"contents\": [\n",
    "        {\n",
    "            \"parts\": [\n",
    "                {\n",
    "                    \"text\": prompt\n",
    "                }\n",
    "            ]\n",
    "        }\n",
    "    ]\n",
    "}\n",
    "\n",
    "# Make the request.\n",
    "response = requests.post(\n",
    "    f\"{endpoint}/models/gemini-pro:generateContent?key={api_key}\",\n",
    "    json=request_body,\n",
    ")\n",
    "\n",
    "# Parse the response.\n",
    "response_json = response.json()\n",
    "\n",
    "generated_content = response_json[\"candidates\"][0]['content']['parts'][0]['text']\n",
    "\n",
    "# Print the generated content.\n",
    "print(generated_content)"
   ]
  },
  {
   "cell_type": "code",
   "execution_count": 3,
   "metadata": {},
   "outputs": [
    {
     "name": "stdout",
     "output_type": "stream",
     "text": [
      "My strengths include strong problem-solving skills and effective communication. As for weaknesses, I am working on delegating tasks more effectively.\n"
     ]
    }
   ],
   "source": [
    "from openai import OpenAI\n",
    "client = OpenAI()\n",
    "\n",
    "audio_file= open(\"/home/vivek/projects/interview_tool/shrishaila/What are your strengths and weaknesses.ogg\", \"rb\")\n",
    "transcription = client.audio.transcriptions.create(\n",
    "  model=\"whisper-1\", \n",
    "  file=audio_file\n",
    ")\n",
    "print(transcription.text)"
   ]
  },
  {
   "cell_type": "code",
   "execution_count": 4,
   "metadata": {},
   "outputs": [
    {
     "name": "stdout",
     "output_type": "stream",
     "text": [
      "**Strengths:**\n",
      "\n",
      "* **Emphasize specific examples:** Instead of simply stating \"strong problem-solving skills,\" provide specific examples of how you have successfully solved complex problems and achieved positive outcomes.\n",
      "* **Quantify your accomplishments:** Use numbers and metrics to demonstrate the impact of your work. For example, \"Solved over 50 technical issues within a 6-month period, reducing downtime by 25%.\"\n",
      "\n",
      "**Weaknesses:**\n",
      "\n",
      "* **Acknowledge the weakness with specific actions:** Rather than saying \"I am working on delegating tasks more effectively,\" explain the specific steps you are taking to improve. For example, \"I am developing a delegation framework to ensure clear task assignments, timelines, and accountability.\"\n",
      "* **Avoid using general terms:** Replace generic phrases like \"more effectively\" with specific actions. For example, instead of \"working on communication,\" say \"Implementing active listening techniques and seeking feedback to improve clarity and engagement.\"\n",
      "\n",
      "**Additional Tips:**\n",
      "\n",
      "* **Be concise and focused:** Provide only relevant information and avoid rambling.\n",
      "* **Match your response to the job description:** Highlight strengths and weaknesses that are directly applicable to the position you are applying for.\n",
      "* **Practice and prepare:** Rehearse your answers to common interview questions and be ready to elaborate on your strengths and weaknesses.\n",
      "* **Use positive language:** Emphasize your eagerness to learn and improve rather than dwelling on your weaknesses.\n",
      "* **Maintain a professional demeanor:** Dress appropriately, make eye contact, and speak clearly and confidently.\n"
     ]
    }
   ],
   "source": [
    "prompt = f\" This is a recording of a candidate preparing for interview, please provide feedback on how they can improve to impress the interviewer. \\n {transcription.text}\"\n",
    "\n",
    "\n",
    "import requests\n",
    "import os\n",
    "\n",
    "from dotenv import load_dotenv, find_dotenv\n",
    "_ = load_dotenv(find_dotenv()) # read local .env file\n",
    "api_key = os.environ['GOOGLE_API_KEY']\n",
    "\n",
    "# Set the API endpoint and API key.\n",
    "endpoint = \"https://generativelanguage.googleapis.com/v1beta\"\n",
    "# Prepare the request body.\n",
    "request_body = {\n",
    "    \"contents\": [\n",
    "        {\n",
    "            \"parts\": [\n",
    "                {\n",
    "                    \"text\": prompt\n",
    "                }\n",
    "            ]\n",
    "        }\n",
    "    ]\n",
    "}\n",
    "\n",
    "# Make the request.\n",
    "response = requests.post(\n",
    "    f\"{endpoint}/models/gemini-pro:generateContent?key={api_key}\",\n",
    "    json=request_body,\n",
    ")\n",
    "\n",
    "# Parse the response.\n",
    "response_json = response.json()\n",
    "\n",
    "generated_content = response_json[\"candidates\"][0]['content']['parts'][0]['text']\n",
    "\n",
    "# Print the generated content.\n",
    "print(generated_content)"
   ]
  },
  {
   "cell_type": "code",
   "execution_count": null,
   "metadata": {},
   "outputs": [],
   "source": []
  }
 ],
 "metadata": {
  "kernelspec": {
   "display_name": ".venv",
   "language": "python",
   "name": "python3"
  },
  "language_info": {
   "codemirror_mode": {
    "name": "ipython",
    "version": 3
   },
   "file_extension": ".py",
   "mimetype": "text/x-python",
   "name": "python",
   "nbconvert_exporter": "python",
   "pygments_lexer": "ipython3",
   "version": "3.8.10"
  }
 },
 "nbformat": 4,
 "nbformat_minor": 2
}
