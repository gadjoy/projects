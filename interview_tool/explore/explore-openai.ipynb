{
 "cells": [
  {
   "cell_type": "code",
   "execution_count": 1,
   "metadata": {},
   "outputs": [
    {
     "name": "stdout",
     "output_type": "stream",
     "text": [
      "Good evening, everyone. My name is Sumatha Kumari. I'm basically from Jharkhand, but currently staying in Bangalore. I did my graduation in B.E. Electives B.E. from VTU University.\n"
     ]
    }
   ],
   "source": [
    "from openai import OpenAI\n",
    "client = OpenAI()\n",
    "\n",
    "audio_file= open(\"/home/vivek/projects/interview_tool/mamta.mp4\", \"rb\")\n",
    "transcription = client.audio.transcriptions.create(\n",
    "  model=\"whisper-1\", \n",
    "  file=audio_file\n",
    ")\n",
    "print(transcription.text)"
   ]
  },
  {
   "cell_type": "code",
   "execution_count": 2,
   "metadata": {},
   "outputs": [
    {
     "name": "stdout",
     "output_type": "stream",
     "text": [
      "Attend carefully to details. Be prompt in all things. Consider well, then decide positively. Dare to do right, fear to do wrong. Endure trials patiently. Fight life's battle bravely. Go not into the society of the vicious. Hold integrity sacred. Injure not another's reputation. Join hands with the virtues. Keep your mind free from all thoughts. Lie not for any consideration. Make many friends. Never try to appear what you are not. Observe good manners. Pay your debts promptly. Cushion not the veracity of friend. Respect the counsel of your parents. Sacrifice money rather than principal. Trust thyself. Use your leisure for improvement. Venture not on the threshold of wrong. Watch carefully over your passions. Extend to everyone a kindly greeting. Yield not to discouragement. Zealously labour for the right and success is certain.\n"
     ]
    }
   ],
   "source": [
    "from openai import OpenAI\n",
    "client = OpenAI()\n",
    "\n",
    "audio_file= open(\"/home/vivek/projects/interview_tool/alphabet_of_success_sir_mv.m4a\", \"rb\")\n",
    "transcription = client.audio.transcriptions.create(\n",
    "  model=\"whisper-1\", \n",
    "  file=audio_file\n",
    ")\n",
    "print(transcription.text)"
   ]
  },
  {
   "cell_type": "code",
   "execution_count": null,
   "metadata": {},
   "outputs": [],
   "source": []
  }
 ],
 "metadata": {
  "kernelspec": {
   "display_name": ".venv",
   "language": "python",
   "name": "python3"
  },
  "language_info": {
   "codemirror_mode": {
    "name": "ipython",
    "version": 3
   },
   "file_extension": ".py",
   "mimetype": "text/x-python",
   "name": "python",
   "nbconvert_exporter": "python",
   "pygments_lexer": "ipython3",
   "version": "3.10.14"
  }
 },
 "nbformat": 4,
 "nbformat_minor": 2
}
