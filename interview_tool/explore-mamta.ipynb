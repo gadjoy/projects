{
 "cells": [
  {
   "cell_type": "code",
   "execution_count": 1,
   "metadata": {},
   "outputs": [
    {
     "name": "stdout",
     "output_type": "stream",
     "text": [
      "Good evening, everyone. My name is Sumatha Kumari. I'm basically from Jharkhand, but currently staying in Bangalore. I did my graduation in B.E. Electives B.E. from VTU University.\n"
     ]
    }
   ],
   "source": [
    "from openai import OpenAI\n",
    "client = OpenAI()\n",
    "\n",
    "audio_file= open(\"/home/vivek/projects/interview_tool/mamta.mp4\", \"rb\")\n",
    "transcription = client.audio.transcriptions.create(\n",
    "  model=\"whisper-1\", \n",
    "  file=audio_file\n",
    ")\n",
    "print(transcription.text)"
   ]
  },
  {
   "cell_type": "code",
   "execution_count": 2,
   "metadata": {},
   "outputs": [
    {
     "name": "stdout",
     "output_type": "stream",
     "text": [
      "**Areas for Improvement:**\n",
      "\n",
      "**1. Introduction:**\n",
      "\n",
      "* **Start with a stronger hook:** Begin with a brief highlight of your skills or experience that aligns with the job you're applying for.\n",
      "* **Provide a clearer focus:** State your name, current location, and relevant educational background more concisely.\n",
      "\n",
      "**2. Language and Delivery:**\n",
      "\n",
      "* **Use more confident and assertive language:** Avoid using phrases like \"basically\" and \"currently staying.\"\n",
      "* **Enunciate clearly and project your voice:** Ensure you speak with a clear and audible tone.\n",
      "* **Avoid fillers and pauses:** Eliminate unnecessary words and maintain a good pace when speaking.\n",
      "\n",
      "**3. Content:**\n",
      "\n",
      "* **Tailor your introduction:** Highlight specific skills, experiences, or accomplishments that are relevant to the position you're applying for.\n",
      "* **Provide context and quantifiable examples:** If possible, quantify your achievements or provide specific examples to demonstrate your abilities.\n",
      "* **End with a call to action:** Close your introduction by expressing interest in the position and indicating your willingness to learn more.\n",
      "\n",
      "**Improved Introduction:**\n",
      "\n",
      "\"Good evening. My name is Sumatha Kumari, and I am a skilled software engineer from Bangalore. I hold a B.E. in Electronics and Telecommunications with a strong track record in developing robust and user-friendly software solutions. I am eager to leverage my expertise in [specific skills or projects aligned with the role] to contribute to your team's success.\"\n"
     ]
    }
   ],
   "source": [
    "prompt = f\" This is a recording of a candidate preparing for interview, please provide feedback on how they can improve to impress the interviewer. \\n {transcription.text}\"\n",
    "\n",
    "\n",
    "import requests\n",
    "import os\n",
    "\n",
    "from dotenv import load_dotenv, find_dotenv\n",
    "_ = load_dotenv(find_dotenv()) # read local .env file\n",
    "api_key = os.environ['GOOGLE_API_KEY']\n",
    "\n",
    "# Set the API endpoint and API key.\n",
    "endpoint = \"https://generativelanguage.googleapis.com/v1beta\"\n",
    "# Prepare the request body.\n",
    "request_body = {\n",
    "    \"contents\": [\n",
    "        {\n",
    "            \"parts\": [\n",
    "                {\n",
    "                    \"text\": prompt\n",
    "                }\n",
    "            ]\n",
    "        }\n",
    "    ]\n",
    "}\n",
    "\n",
    "# Make the request.\n",
    "response = requests.post(\n",
    "    f\"{endpoint}/models/gemini-pro:generateContent?key={api_key}\",\n",
    "    json=request_body,\n",
    ")\n",
    "\n",
    "# Parse the response.\n",
    "response_json = response.json()\n",
    "\n",
    "generated_content = response_json[\"candidates\"][0]['content']['parts'][0]['text']\n",
    "\n",
    "# Print the generated content.\n",
    "print(generated_content)"
   ]
  },
  {
   "cell_type": "code",
   "execution_count": null,
   "metadata": {},
   "outputs": [],
   "source": []
  }
 ],
 "metadata": {
  "kernelspec": {
   "display_name": ".venv",
   "language": "python",
   "name": "python3"
  },
  "language_info": {
   "codemirror_mode": {
    "name": "ipython",
    "version": 3
   },
   "file_extension": ".py",
   "mimetype": "text/x-python",
   "name": "python",
   "nbconvert_exporter": "python",
   "pygments_lexer": "ipython3",
   "version": "3.10.14"
  }
 },
 "nbformat": 4,
 "nbformat_minor": 2
}
