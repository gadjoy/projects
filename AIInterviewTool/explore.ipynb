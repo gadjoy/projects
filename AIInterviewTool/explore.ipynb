{
 "cells": [
  {
   "cell_type": "code",
   "execution_count": 1,
   "metadata": {},
   "outputs": [],
   "source": [
    "topic_title = \"\"\"Personal\"\"\"\n",
    "quries_num = \"\"\"1\"\"\"\n",
    "Level = \"\"\"Easy\"\"\""
   ]
  },
  {
   "cell_type": "code",
   "execution_count": 2,
   "metadata": {},
   "outputs": [
    {
     "name": "stdout",
     "output_type": "stream",
     "text": [
      "\n",
      "1. What are your hobbies outside of work?\n"
     ]
    }
   ],
   "source": [
    "import requests\n",
    "import os\n",
    "from dotenv import load_dotenv\n",
    "# Set API endpoint\n",
    "load_dotenv()\n",
    "api_key = os.getenv('GOOGLE_API_KEY')\n",
    "endpoint = \"https://generativelanguage.googleapis.com/v1beta2\"\n",
    "\n",
    "# generate the questions \n",
    "prompt = f\"\"\"\n",
    "\n",
    "INPUT:\n",
    "\n",
    "Role: You are an expert in generating interview questions for academic positions with a strong understanding of the client's vision.\n",
    "\n",
    "Context: The client's requirements for a software project are analyzed. You have a solid understanding of their needs.\n",
    "\n",
    "Level: Based on the chosen level, provide questions to help the user improve their skills.\n",
    "\n",
    "Please generate {quries_num} interview questions for the topic {topic_title} suitable for an {Level} level interview.\n",
    "\n",
    "Topic Choosen: {topic_title}\n",
    "Number of Questions: {quries_num}\n",
    "\n",
    "Based on the user number of questions and the topic chosen, you will generate the same number of questions in the list with the index from 1. \n",
    "\n",
    "\"\"\"\n",
    "\n",
    "# prepare the request body\n",
    "request_body = {\n",
    "    \"prompt\": {\n",
    "        \"text\": prompt\n",
    "    }\n",
    "}\n",
    "\n",
    "# make the request to generative language api\n",
    "response = requests.post(f\"{endpoint}/models/text-bison-001:generateText?key={api_key}\", json=request_body)\n",
    "questions = response.json()['candidates'][0]['output']\n",
    "print(f\"\\n{questions}\")\n"
   ]
  },
  {
   "cell_type": "code",
   "execution_count": 4,
   "metadata": {},
   "outputs": [],
   "source": [
    "query = \"What are your hobbies outside of work?\"\n",
    "answer = \"My hobbies are as follows : Investment, walking, reading old books, retro cars collestion, writting scripts, jurnalisum and also intrested in movie's making field as a director.\""
   ]
  },
  {
   "cell_type": "code",
   "execution_count": 5,
   "metadata": {},
   "outputs": [
    {
     "name": "stdout",
     "output_type": "stream",
     "text": [
      "**Feedback on the candidate's response:**\n",
      "\n",
      "The candidate's response to the question \"What are your hobbies outside of work?\" is generally good. They provide a list of their hobbies, which are all interesting and varied. However, there are a few areas where they could improve their response.\n",
      "\n",
      "**How to improve their response:**\n",
      "\n",
      "* **Be more specific.** The candidate's hobbies are all very general. They could provide more detail about what they enjoy about each hobby. For example, they could say what types of books they like to read, or what kind of scripts they write.\n",
      "* **Relate your hobbies to your skills and experience.** The candidate could talk about how their hobbies have helped them develop skills that are relevant to their job. For example, they could say that their interest in writing has helped them develop their communication skills.\n",
      "* **Be enthusiastic.** The candidate's response is a bit dry. They could show more enthusiasm for their hobbies by talking about them in a more engaging way.\n",
      "\n",
      "**Where the candidate gave a good answer:**\n",
      "\n",
      "* The candidate provides a list of their hobbies.\n",
      "* The candidate's hobbies are all interesting and varied.\n",
      "\n",
      "**Where the candidate went wrong:**\n",
      "\n",
      "* The candidate's hobbies are all very general.\n",
      "* The candidate does not relate their hobbies to their skills and experience.\n",
      "* The candidate's response is a bit dry.\n",
      "\n",
      "**Suggestions for improvement:**\n",
      "\n",
      "* The candidate could provide more detail about each of their hobbies.\n",
      "* The candidate could talk about how their hobbies have helped them develop skills that are relevant to their job.\n",
      "* The candidate could show more enthusiasm for their hobbies by talking about them in a more engaging way.\n",
      "\n",
      "**Additional tips:**\n",
      "\n",
      "* When answering this question, it is important to be honest and genuine. The interviewer wants to know what you are really interested in, so don't try to be someone you're not.\n",
      "* It is also important to be concise. The interviewer doesn't have a lot of time, so keep your answer short and to the point.\n",
      "* Finally, be sure to relate your hobbies to your skills and experience. This will show the interviewer that you are a well-rounded individual who is passionate about their work.\n",
      "\n",
      "**Marks out of 100:** 75\n",
      "\n",
      "The candidate's response is generally good, but there are a few areas where they could improve. With some additional detail, more enthusiasm, and a stronger connection to their skills and experience, their score could easily be in the 80s or 90s.\n"
     ]
    }
   ],
   "source": [
    "import requests\n",
    "import os\n",
    "from dotenv import load_dotenv\n",
    "\n",
    "# Load API key from .env file\n",
    "load_dotenv()\n",
    "api_key = os.getenv('GOOGLE_API_KEY')\n",
    "if not api_key:\n",
    "    raise ValueError(\"API key not found. Please set the GOOGLE_API_KEY in the .env file.\")\n",
    "\n",
    "# Set API endpoint\n",
    "endpoint = \"https://generativelanguage.googleapis.com/v1beta2/models/text-bison-001:generateText\"\n",
    "\n",
    "# Construct the AI answer based on the provided answer and query\n",
    "AI_answer = f\"\"\"\n",
    "Provide feedback on the candidate's response. Please take the {query} as the question which is beign answer by the interview candidate. \n",
    "And take {answer} as the as the answer for the {query} which is asked in intherview. Focus on:\n",
    "- provide feedback on how they can improve to impress the interviewer.\n",
    "- How to improve their response\n",
    "- Where the candidate gave a good answer\n",
    "- Where they went wrong\n",
    "- Suggestions for improvement\n",
    "- Additional tips\n",
    "- Please provide marks for this answer out of 100.\n",
    "\"\"\"\n",
    "\n",
    "# Prepare the request body\n",
    "request_body = {\n",
    "    \"prompt\": {\n",
    "        \"text\": AI_answer\n",
    "    }\n",
    "}\n",
    "\n",
    "# Make the request to the generative language API\n",
    "response = requests.post(f\"{endpoint}?key={api_key}\", json=request_body)\n",
    "\n",
    "# Check if the request was successful\n",
    "if response.status_code == 200:\n",
    "    feedback = response.json().get('candidates', [{}])[0].get('output', 'No feedback received.')\n",
    "    print(feedback)\n",
    "else:\n",
    "    print(f\"Error: {response.status_code}\")\n",
    "    print(response.json())\n"
   ]
  }
 ],
 "metadata": {
  "kernelspec": {
   "display_name": "myenv",
   "language": "python",
   "name": "python3"
  },
  "language_info": {
   "codemirror_mode": {
    "name": "ipython",
    "version": 3
   },
   "file_extension": ".py",
   "mimetype": "text/x-python",
   "name": "python",
   "nbconvert_exporter": "python",
   "pygments_lexer": "ipython3",
   "version": "3.8.10"
  }
 },
 "nbformat": 4,
 "nbformat_minor": 2
}
