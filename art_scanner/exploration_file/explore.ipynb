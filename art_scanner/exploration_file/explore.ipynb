{
 "cells": [
  {
   "cell_type": "code",
   "execution_count": 11,
   "metadata": {},
   "outputs": [
    {
     "name": "stdout",
     "output_type": "stream",
     "text": [
      "The QR code link is: https://freelancer-auto-bidding.netlify.app/\n"
     ]
    }
   ],
   "source": [
    "from PIL import Image\n",
    "import qrcode\n",
    "import numpy as np\n",
    "\n",
    "def encode_lsb(cover_image, qr_image, strength=3):\n",
    "    # Convert images to numpy arrays\n",
    "    cover_data = np.asarray(cover_image)\n",
    "    qr_data = np.asarray(qr_image.convert('1'))  # Convert QR code to binary\n",
    "\n",
    "    # Flatten the arrays\n",
    "    cover_flat = cover_data.flatten()\n",
    "    qr_flat = qr_data.flatten()\n",
    "\n",
    "    # Check if the QR code size exceeds the cover image size\n",
    "    if len(qr_flat) > len(cover_flat):\n",
    "        raise ValueError(\"QR code size exceeds the cover image size\")\n",
    "\n",
    "    # Encode the QR code data into the least significant bits of the cover image\n",
    "    encoded_flat = cover_flat.copy()\n",
    "    for i, bit in enumerate(qr_flat):\n",
    "        mask = (2 ** strength) - 1\n",
    "        if bit:\n",
    "            encoded_flat[i] = (encoded_flat[i] & ~mask) | ((2 ** (strength - 1)) - 1)\n",
    "        else:\n",
    "            encoded_flat[i] = encoded_flat[i] & ~mask\n",
    "\n",
    "    # Reshape the encoded data to the original image shape\n",
    "    encoded_data = encoded_flat.reshape(cover_data.shape)\n",
    "\n",
    "    # Convert the encoded data back to an image\n",
    "    encoded_image = Image.fromarray(encoded_data.astype('uint8'))\n",
    "\n",
    "    return encoded_image\n",
    "\n",
    "# Generate the QR code data\n",
    "qr = qrcode.QRCode(\n",
    "    version=2,  # Reduce the version\n",
    "    error_correction=qrcode.constants.ERROR_CORRECT_M,  # Use a lower error correction level\n",
    "    box_size=20,\n",
    "    border=4,\n",
    ")\n",
    "qr_link = 'https://freelancer-auto-bidding.netlify.app/'\n",
    "qr.add_data(qr_link)\n",
    "qr.make(fit=True)\n",
    "qr_image = qr.make_image(fill_color=\"black\", back_color=\"white\")\n",
    "\n",
    "# Load the cover image\n",
    "cover_image = Image.open(\"/home/waseem/project/projects/art_scanner/IMG-20200303-WA0007.jpg\")\n",
    "\n",
    "# Encode the QR code into the cover image using LSB\n",
    "encoded_image = encode_lsb(cover_image, qr_image, strength=4)  # Increase the embedding strength\n",
    "\n",
    "# Resize the encoded image for mobile display\n",
    "encoded_image = encoded_image.resize((800, 600), resample=Image.LANCZOS)\n",
    "\n",
    "# Create a new transparent image with the same size as the encoded image\n",
    "transparent_image = Image.new(\"RGBA\", encoded_image.size, color=(0, 0, 0, 0))\n",
    "\n",
    "# Calculate the position to paste the QR code\n",
    "qr_width, qr_height = qr_image.size\n",
    "left = (transparent_image.width - qr_width) // 2\n",
    "top = (transparent_image.height - qr_height) // 2\n",
    "\n",
    "# Paste the QR code onto the transparent image\n",
    "transparent_image.paste(qr_image, (left, top), mask=qr_image)\n",
    "\n",
    "# Combine the encoded image and the transparent image with the QR code\n",
    "final_image = Image.alpha_composite(encoded_image.convert(\"RGBA\"), transparent_image)\n",
    "\n",
    "# Save the final image with the embedded QR code\n",
    "final_image.save(\"final_qr_image.png\", quality=90, optimize=True)\n",
    "\n",
    "# Print the original QR code link\n",
    "print(f\"The QR code link is: {qr_link}\")"
   ]
  },
  {
   "cell_type": "code",
   "execution_count": 12,
   "metadata": {},
   "outputs": [
    {
     "name": "stdout",
     "output_type": "stream",
     "text": [
      "No QR code found in the uploaded image.\n"
     ]
    }
   ],
   "source": [
    "from PIL import Image\n",
    "from pyzbar.pyzbar import decode\n",
    "\n",
    "# Load the image containing the encoded QR code\n",
    "uploaded_image_path = \"/home/waseem/project/projects/art_scanner/exploration_file/final_qr_image.png\"  # Replace with the path to your uploaded image\n",
    "uploaded_image = Image.open(uploaded_image_path)\n",
    "\n",
    "# Decode the QR code from the uploaded image\n",
    "decoded_qr_codes = decode(uploaded_image)\n",
    "\n",
    "# If QR code(s) are found in the image, print the decoded data\n",
    "if decoded_qr_codes:\n",
    "    for qr_code in decoded_qr_codes:\n",
    "        qr_data = qr_code.data.decode(\"utf-8\")\n",
    "        print(\"Found QR code with data:\", qr_data)\n",
    "else:\n",
    "    print(\"No QR code found in the uploaded image.\")\n"
   ]
  }
 ],
 "metadata": {
  "kernelspec": {
   "display_name": ".venv",
   "language": "python",
   "name": "python3"
  },
  "language_info": {
   "codemirror_mode": {
    "name": "ipython",
    "version": 3
   },
   "file_extension": ".py",
   "mimetype": "text/x-python",
   "name": "python",
   "nbconvert_exporter": "python",
   "pygments_lexer": "ipython3",
   "version": "3.8.10"
  }
 },
 "nbformat": 4,
 "nbformat_minor": 2
}
