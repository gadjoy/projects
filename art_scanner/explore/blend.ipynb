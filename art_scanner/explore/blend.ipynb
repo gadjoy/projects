{
 "cells": [
  {
   "cell_type": "code",
   "execution_count": 3,
   "metadata": {},
   "outputs": [],
   "source": [
    "from PIL import Image, ImageFilter\n",
    "\n",
    "def embed_colored_qr_code(base_image_path, qr_code_path, output_path, color=(0, 0, 0), border=5):\n",
    "    \"\"\"\n",
    "    Embeds a colored QR code into an image and blends the edges.\n",
    "    \n",
    "    Args:\n",
    "    base_image_path (str): Path to the base image.\n",
    "    qr_code_path (str): Path to the QR code image.\n",
    "    output_path (str): Path where the output image will be saved.\n",
    "    color (tuple): RGB color tuple for the QR code.\n",
    "    border (int): Border size for edge blending.\n",
    "    \"\"\"\n",
    "    # Open the base image\n",
    "    base_image = Image.open(base_image_path).convert(\"RGBA\")\n",
    "\n",
    "    # Open the QR code image and convert it to RGBA\n",
    "    qr_code = Image.open(qr_code_path).convert(\"L\")\n",
    "    \n",
    "    # Create a new image with the specified color\n",
    "    colored_qr = Image.new(\"RGBA\", qr_code.size)\n",
    "    pixels = colored_qr.load()\n",
    "    for i in range(colored_qr.width):\n",
    "        for j in range(colored_qr.height):\n",
    "            if qr_code.getpixel((i, j)) > 128:  # Assuming white background in QR\n",
    "                pixels[i, j] = color + (255,)\n",
    "            else:\n",
    "                pixels[i, j] = (255, 255, 255, 0)  # Transparent white\n",
    "    \n",
    "    # Blur the QR code slightly to blend edges\n",
    "    blurred_qr = colored_qr.filter(ImageFilter.GaussianBlur(border))\n",
    "\n",
    "    # Position the QR code on the base image\n",
    "    position = ((base_image.width - blurred_qr.width) // 2, (base_image.height - blurred_qr.height) // 2)\n",
    "    base_image.paste(blurred_qr, position, blurred_qr)\n",
    "    \n",
    "    # Save the result\n",
    "    base_image.save(output_path, format=\"PNG\")\n",
    "\n",
    "# Example usage\n",
    "embed_colored_qr_code(\"/home/vivek/projects/art_scanner/explore/inputs/artist_image.jpeg\", \"/home/vivek/projects/art_scanner/explore/inputs/qr_code.png\", \"/home/vivek/projects/art_scanner/explore/outputs/blend.png\", color=(76, 175, 80))\n"
   ]
  },
  {
   "cell_type": "code",
   "execution_count": null,
   "metadata": {},
   "outputs": [],
   "source": []
  }
 ],
 "metadata": {
  "kernelspec": {
   "display_name": ".venv",
   "language": "python",
   "name": "python3"
  },
  "language_info": {
   "codemirror_mode": {
    "name": "ipython",
    "version": 3
   },
   "file_extension": ".py",
   "mimetype": "text/x-python",
   "name": "python",
   "nbconvert_exporter": "python",
   "pygments_lexer": "ipython3",
   "version": "3.10.14"
  }
 },
 "nbformat": 4,
 "nbformat_minor": 2
}
