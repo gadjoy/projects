{
 "cells": [
  {
   "cell_type": "code",
   "execution_count": 1,
   "metadata": {},
   "outputs": [
    {
     "name": "stdout",
     "output_type": "stream",
     "text": [
      "Dr Anil Kumar T\n"
     ]
    }
   ],
   "source": [
    "from stegano import lsb\n",
    "\n",
    "# Path to your original image\n",
    "input_image_path = \"artist_image.jpeg\"\n",
    "# Path to save the steganographically modified image\n",
    "output_image_path = \"scannable_stegano.png\"\n",
    "\n",
    "# Embedding QR code data\n",
    "secret_image = lsb.hide(input_image_path, message=\"Dr Anil Kumar T\")\n",
    "secret_image.save(output_image_path)\n",
    "\n",
    "# Optionally, to check if data was embedded correctly\n",
    "revealed_data = lsb.reveal(output_image_path)\n",
    "print(revealed_data)\n"
   ]
  },
  {
   "cell_type": "code",
   "execution_count": null,
   "metadata": {},
   "outputs": [],
   "source": []
  }
 ],
 "metadata": {
  "kernelspec": {
   "display_name": ".venv",
   "language": "python",
   "name": "python3"
  },
  "language_info": {
   "codemirror_mode": {
    "name": "ipython",
    "version": 3
   },
   "file_extension": ".py",
   "mimetype": "text/x-python",
   "name": "python",
   "nbconvert_exporter": "python",
   "pygments_lexer": "ipython3",
   "version": "3.10.14"
  }
 },
 "nbformat": 4,
 "nbformat_minor": 2
}
