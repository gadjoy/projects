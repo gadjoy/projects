{
 "cells": [
  {
   "cell_type": "markdown",
   "metadata": {},
   "source": [
    "I need a python code to create an imperceptible code on an image that can be scanned using a regular scanner (no specialized software should be required) the image can be distorted to 10% of its original. There are two inputs, the image that needs to be embedded with a QR code and the QR code."
   ]
  },
  {
   "cell_type": "markdown",
   "metadata": {},
   "source": [
    "I need a python code to create an imperceptible code on an image that can be scanned using a regular scanner (no specialized software should be required) the image can be distorted to 10% of its original. There are two inputs, the image that needs to be embedded with a QR code and the QR code. I have tried steganography, dwt, opacity and blending. None of the options insert the qr code subtly into the image, is there any other methods in which the qr code can be subtly inserted into the image?"
   ]
  }
 ],
 "metadata": {
  "language_info": {
   "name": "python"
  }
 },
 "nbformat": 4,
 "nbformat_minor": 2
}
