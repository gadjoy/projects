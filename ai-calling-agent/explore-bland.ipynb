{
 "cells": [
  {
   "cell_type": "code",
   "execution_count": 6,
   "metadata": {},
   "outputs": [],
   "source": [
    "import requests\n",
    "\n",
    "# Headers\n",
    "headers = {\n",
    "   'Authorization': 'sk-vqjarxemua7xhvyms551y7v1fu4fc5eaxthwy96i87wxfvhh4vgkl0gpqcbp3pct69'\n",
    "}\n",
    "\n",
    "store_person = \"Vivek\"\n",
    "customer_name = \"Rahul\"\n",
    "job_sheet_number = \"5100\"\n",
    "device_model = \"Motorola G5 Plus\"\n",
    "device_condition = \"Display Broken\"\n",
    "\n",
    "# Data\n",
    "data = {\n",
    "  \"phone_number\": \"+918197160902\",\n",
    "  \"from\": None,\n",
    "  \"task\": f\"Your name is {store_person}, and you’re a store assistant working on behalf of a small business electronics repair store. You joined the company earlier this year. The company's goal is to repair laptops, tablets and mobiles. Your job now is to call customers and let them to know to collect long pending return devices. There are three salient points that you need to address.\\n\\nThe three salient points are are:\\n1. The device details are to be mentioned - Job Sheet Number - {job_sheet_number},  Device Model - {device_model}, Condition that it was given in - {device_condition}\\n2. The business’ hours of operation - 10AM to 8PM and we are closed on Thursday's\\n3. Request customer to come as soon as possible to collect the return device.\\n\\nHere’s an example dialogue\\nPerson: Hello my name is {customer_name}, May I know who you are?\\nYou: Hi {customer_name}, this is {store_person}, I’m calling on behalf of a Gadjoy Repair Services. I wanted to let you know about your device - do you have time to help?\\nPerson: Yeah absolutely. Let me know about it\\nYou: The device that is given to us with Job Sheet Number - 5188, Device Model - OnePlus 9R and the condition that it was given in was Dead condition.\\nPerson: Yes, let me know about it.\\nYou: We would like to know when you can come and collect it from us.\\nPerson: What is your working time?\\nYou: 10AM to 8PM and we are closed on Thursday's\\nPerson: Ok, I will plan to come on Wednesday if not I will come on friday to collect it.\\nYou: Ok, please come by when possible\\nPerson: Yes of course.\\nYou: Okay, perfect. Have a Nice Day!\\nPerson: Thanks! Goodbye.\",\n",
    "  \"model\": \"enhanced\",\n",
    "  \"language\": \"en\",\n",
    "  \"voice\": \"nat\",\n",
    "  \"voice_settings\": {},\n",
    "  \"local_dialing\": False,\n",
    "  \"max_duration\": 12,\n",
    "  \"answered_by_enabled\": False,\n",
    "  \"wait_for_greeting\": False,\n",
    "  \"record\": False,\n",
    "  \"amd\": False,\n",
    "  \"interruption_threshold\": 100,\n",
    "  \"voicemail_message\": None,\n",
    "  \"temperature\": None,\n",
    "  \"transfer_list\": {},\n",
    "  \"metadata\": {},\n",
    "  \"pronunciation_guide\": [],\n",
    "  \"start_time\": None,\n",
    "  \"request_data\": {},\n",
    "  \"tools\": [],\n",
    "  \"webhook\": None,\n",
    "  \"calendly\": {}\n",
    "}\n",
    "\n",
    "# API request \n",
    "response = requests.post('https://api.bland.ai/v1/calls', json=data, headers=headers)"
   ]
  },
  {
   "cell_type": "code",
   "execution_count": 4,
   "metadata": {},
   "outputs": [
    {
     "data": {
      "text/plain": [
       "{'status': 'success',\n",
       " 'message': 'Call successfully queued.',\n",
       " 'call_id': '16226513-6674-4f0c-ac28-aeedf069f1ec',\n",
       " 'batch_id': None}"
      ]
     },
     "execution_count": 4,
     "metadata": {},
     "output_type": "execute_result"
    }
   ],
   "source": [
    "response.json()"
   ]
  },
  {
   "cell_type": "code",
   "execution_count": null,
   "metadata": {},
   "outputs": [],
   "source": []
  }
 ],
 "metadata": {
  "kernelspec": {
   "display_name": ".venv",
   "language": "python",
   "name": "python3"
  },
  "language_info": {
   "codemirror_mode": {
    "name": "ipython",
    "version": 3
   },
   "file_extension": ".py",
   "mimetype": "text/x-python",
   "name": "python",
   "nbconvert_exporter": "python",
   "pygments_lexer": "ipython3",
   "version": "3.10.14"
  }
 },
 "nbformat": 4,
 "nbformat_minor": 2
}
