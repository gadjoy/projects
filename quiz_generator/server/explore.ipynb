{
 "cells": [
  {
   "cell_type": "code",
   "execution_count": 1,
   "metadata": {},
   "outputs": [],
   "source": [
    "import os\n",
    "from dotenv import load_dotenv, find_dotenv\n",
    "import requests\n",
    "\n",
    "# Load environment variables from .env file\n",
    "_ = load_dotenv(find_dotenv())\n",
    "\n",
    "# Set the API key\n",
    "api_key = os.environ['GOOGLE_API_KEY']\n",
    "\n",
    "\n",
    "\n",
    "# Set the API endpoint\n",
    "endpoint = \"https://generativelanguage.googleapis.com/v1beta\"    \n",
    "\n",
    "num_questions = 2\n",
    "topic = \"Python\"\n",
    "difficulty = \"EASY\"\n",
    "\n",
    "prompt = f\"Give me {num_questions} multiple choice questions about {topic}. The questions should be at a {difficulty} level. Return your answer entirely in the form of a JSON object. The JSON object should have a key named 'questions' which is an array of the questions. Each quiz question should include the choices, the answer, and a brief explanation of why the answer is correct. Don't include anything other than the JSON. The JSON properties of each question should be 'query' (which is the question), 'choices', 'answer', and 'explanation'. The choices shouldn't have any ordinal value like A, B, C, D or a number like 1, 2, 3, 4. The answer should be the 0-indexed number of the correct choice.\"\n",
    "\n",
    "# Prepare the request body\n",
    "request_body = {\n",
    "    \"contents\": [\n",
    "        {\n",
    "            \"parts\": [\n",
    "                {\n",
    "                    \"text\": prompt\n",
    "                }\n",
    "            ]\n",
    "        }\n",
    "    ]\n",
    "}\n",
    "\n",
    "# Make the request to Generative Language API\n",
    "response = requests.post(\n",
    "    f\"{endpoint}/models/gemini-pro:generateContent?key={api_key}\",\n",
    "    json=request_body,\n",
    ")"
   ]
  },
  {
   "cell_type": "code",
   "execution_count": 2,
   "metadata": {},
   "outputs": [
    {
     "data": {
      "text/plain": [
       "{'candidates': [{'content': {'parts': [{'text': '```json\\n{\\n  \"questions\": [\\n    {\\n      \"query\": \"What is the correct syntax to create a variable in Python?\",\\n      \"choices\": [\"variable: data_type = value\", \"variable = value\", \"data_type variable = value\", \"variable (data_type) = value\"],\\n      \"answer\": 1,\\n      \"explanation\": \"In Python, variable assignment uses the equal sign (=), and the data type is not explicitly declared.\"\\n    },\\n    {\\n      \"query\": \"Which of the following is a valid data type in Python?\",\\n      \"choices\": [\"string\", \"int\", \"float\", \"boolean\"],\\n      \"answer\": 2,\\n      \"explanation\": \"Python supports various data types, including strings, integers, floating-point numbers, and boolean values.\"\\n    }\\n  ]\\n}\\n```'}],\n",
       "    'role': 'model'},\n",
       "   'finishReason': 'STOP',\n",
       "   'index': 0,\n",
       "   'safetyRatings': [{'category': 'HARM_CATEGORY_SEXUALLY_EXPLICIT',\n",
       "     'probability': 'NEGLIGIBLE'},\n",
       "    {'category': 'HARM_CATEGORY_HATE_SPEECH', 'probability': 'NEGLIGIBLE'},\n",
       "    {'category': 'HARM_CATEGORY_HARASSMENT', 'probability': 'NEGLIGIBLE'},\n",
       "    {'category': 'HARM_CATEGORY_DANGEROUS_CONTENT',\n",
       "     'probability': 'NEGLIGIBLE'}]}]}"
      ]
     },
     "execution_count": 2,
     "metadata": {},
     "output_type": "execute_result"
    }
   ],
   "source": [
    "response.json()"
   ]
  },
  {
   "cell_type": "code",
   "execution_count": 3,
   "metadata": {},
   "outputs": [
    {
     "name": "stdout",
     "output_type": "stream",
     "text": [
      "[{'query': 'What is the correct syntax to create a variable in Python?', 'choices': ['variable: data_type = value', 'variable = value', 'data_type variable = value', 'variable (data_type) = value'], 'answer': 1, 'explanation': 'In Python, variable assignment uses the equal sign (=), and the data type is not explicitly declared.'}, {'query': 'Which of the following is a valid data type in Python?', 'choices': ['string', 'int', 'float', 'boolean'], 'answer': 2, 'explanation': 'Python supports various data types, including strings, integers, floating-point numbers, and boolean values.'}]\n"
     ]
    }
   ],
   "source": [
    "import json\n",
    "\n",
    "questions = json.loads(response.json()['candidates'][0]['content']['parts'][0]['text'].replace(\"```json\",'').replace(\"```\",'').strip())['questions']\n",
    "\n",
    "print(questions)\n"
   ]
  },
  {
   "cell_type": "code",
   "execution_count": 5,
   "metadata": {},
   "outputs": [
    {
     "data": {
      "text/plain": [
       "{'candidates': [{'content': {'parts': [{'text': '```json\\n{\\n  \"questions\": [\\n    {\\n      \"query\": \"What is the correct syntax to create a variable in Python?\",\\n      \"choices\": [\"variable: data_type = value\", \"variable = value\", \"data_type variable = value\", \"variable (data_type) = value\"],\\n      \"answer\": 1,\\n      \"explanation\": \"In Python, variable assignment uses the equal sign (=), and the data type is not explicitly declared.\"\\n    },\\n    {\\n      \"query\": \"Which of the following is a valid data type in Python?\",\\n      \"choices\": [\"string\", \"int\", \"float\", \"boolean\"],\\n      \"answer\": 2,\\n      \"explanation\": \"Python supports various data types, including strings, integers, floating-point numbers, and boolean values.\"\\n    }\\n  ]\\n}\\n```'}],\n",
       "    'role': 'model'},\n",
       "   'finishReason': 'STOP',\n",
       "   'index': 0,\n",
       "   'safetyRatings': [{'category': 'HARM_CATEGORY_SEXUALLY_EXPLICIT',\n",
       "     'probability': 'NEGLIGIBLE'},\n",
       "    {'category': 'HARM_CATEGORY_HATE_SPEECH', 'probability': 'NEGLIGIBLE'},\n",
       "    {'category': 'HARM_CATEGORY_HARASSMENT', 'probability': 'NEGLIGIBLE'},\n",
       "    {'category': 'HARM_CATEGORY_DANGEROUS_CONTENT',\n",
       "     'probability': 'NEGLIGIBLE'}]}]}"
      ]
     },
     "execution_count": 5,
     "metadata": {},
     "output_type": "execute_result"
    }
   ],
   "source": [
    "response.json()"
   ]
  },
  {
   "cell_type": "code",
   "execution_count": 6,
   "metadata": {},
   "outputs": [
    {
     "data": {
      "text/plain": [
       "'```json\\n{\\n  \"questions\": [\\n    {\\n      \"query\": \"What is the correct syntax to create a variable in Python?\",\\n      \"choices\": [\"variable: data_type = value\", \"variable = value\", \"data_type variable = value\", \"variable (data_type) = value\"],\\n      \"answer\": 1,\\n      \"explanation\": \"In Python, variable assignment uses the equal sign (=), and the data type is not explicitly declared.\"\\n    },\\n    {\\n      \"query\": \"Which of the following is a valid data type in Python?\",\\n      \"choices\": [\"string\", \"int\", \"float\", \"boolean\"],\\n      \"answer\": 2,\\n      \"explanation\": \"Python supports various data types, including strings, integers, floating-point numbers, and boolean values.\"\\n    }\\n  ]\\n}\\n```'"
      ]
     },
     "execution_count": 6,
     "metadata": {},
     "output_type": "execute_result"
    }
   ],
   "source": [
    "response.json()['candidates'][0]['content']['parts'][0]['text']"
   ]
  },
  {
   "cell_type": "code",
   "execution_count": 7,
   "metadata": {},
   "outputs": [
    {
     "name": "stdout",
     "output_type": "stream",
     "text": [
      "```json\n",
      "{\n",
      "  \"questions\": [\n",
      "    {\n",
      "      \"query\": \"What is the correct syntax to create a variable in Python?\",\n",
      "      \"choices\": [\"variable: data_type = value\", \"variable = value\", \"data_type variable = value\", \"variable (data_type) = value\"],\n",
      "      \"answer\": 1,\n",
      "      \"explanation\": \"In Python, variable assignment uses the equal sign (=), and the data type is not explicitly declared.\"\n",
      "    },\n",
      "    {\n",
      "      \"query\": \"Which of the following is a valid data type in Python?\",\n",
      "      \"choices\": [\"string\", \"int\", \"float\", \"boolean\"],\n",
      "      \"answer\": 2,\n",
      "      \"explanation\": \"Python supports various data types, including strings, integers, floating-point numbers, and boolean values.\"\n",
      "    }\n",
      "  ]\n",
      "}\n",
      "```\n"
     ]
    }
   ],
   "source": [
    "print(response.json()['candidates'][0]['content']['parts'][0]['text'])"
   ]
  },
  {
   "cell_type": "code",
   "execution_count": 8,
   "metadata": {},
   "outputs": [
    {
     "name": "stdout",
     "output_type": "stream",
     "text": [
      "{\n",
      "  \"questions\": [\n",
      "    {\n",
      "      \"query\": \"What is the correct syntax to create a variable in Python?\",\n",
      "      \"choices\": [\"variable: data_type = value\", \"variable = value\", \"data_type variable = value\", \"variable (data_type) = value\"],\n",
      "      \"answer\": 1,\n",
      "      \"explanation\": \"In Python, variable assignment uses the equal sign (=), and the data type is not explicitly declared.\"\n",
      "    },\n",
      "    {\n",
      "      \"query\": \"Which of the following is a valid data type in Python?\",\n",
      "      \"choices\": [\"string\", \"int\", \"float\", \"boolean\"],\n",
      "      \"answer\": 2,\n",
      "      \"explanation\": \"Python supports various data types, including strings, integers, floating-point numbers, and boolean values.\"\n",
      "    }\n",
      "  ]\n",
      "}\n"
     ]
    }
   ],
   "source": [
    "print(response.json()['candidates'][0]['content']['parts'][0]['text'].replace(\"```json\",'').replace(\"```\",'').strip())"
   ]
  },
  {
   "cell_type": "code",
   "execution_count": 9,
   "metadata": {},
   "outputs": [],
   "source": [
    "questions = response.json()['candidates'][0]['content']['parts'][0]['text'].replace(\"```json\",'').replace(\"```\",'').strip()"
   ]
  },
  {
   "cell_type": "code",
   "execution_count": 10,
   "metadata": {},
   "outputs": [
    {
     "data": {
      "text/plain": [
       "str"
      ]
     },
     "execution_count": 10,
     "metadata": {},
     "output_type": "execute_result"
    }
   ],
   "source": [
    "type(questions)"
   ]
  },
  {
   "cell_type": "code",
   "execution_count": 11,
   "metadata": {},
   "outputs": [
    {
     "data": {
      "text/plain": [
       "dict"
      ]
     },
     "execution_count": 11,
     "metadata": {},
     "output_type": "execute_result"
    }
   ],
   "source": [
    "import json\n",
    "\n",
    "questions_json = json.loads(questions)\n",
    "type(questions_json)"
   ]
  },
  {
   "cell_type": "code",
   "execution_count": 12,
   "metadata": {},
   "outputs": [
    {
     "data": {
      "text/plain": [
       "[{'query': 'What is the correct syntax to create a variable in Python?',\n",
       "  'choices': ['variable: data_type = value',\n",
       "   'variable = value',\n",
       "   'data_type variable = value',\n",
       "   'variable (data_type) = value'],\n",
       "  'answer': 1,\n",
       "  'explanation': 'In Python, variable assignment uses the equal sign (=), and the data type is not explicitly declared.'},\n",
       " {'query': 'Which of the following is a valid data type in Python?',\n",
       "  'choices': ['string', 'int', 'float', 'boolean'],\n",
       "  'answer': 2,\n",
       "  'explanation': 'Python supports various data types, including strings, integers, floating-point numbers, and boolean values.'}]"
      ]
     },
     "execution_count": 12,
     "metadata": {},
     "output_type": "execute_result"
    }
   ],
   "source": [
    "questions_json['questions']"
   ]
  },
  {
   "cell_type": "code",
   "execution_count": 13,
   "metadata": {},
   "outputs": [
    {
     "name": "stdout",
     "output_type": "stream",
     "text": [
      "What is the correct syntax to create a variable in Python?\n",
      "['variable: data_type = value', 'variable = value', 'data_type variable = value', 'variable (data_type) = value']\n",
      "1\n",
      "In Python, variable assignment uses the equal sign (=), and the data type is not explicitly declared.\n",
      "\n",
      "Which of the following is a valid data type in Python?\n",
      "['string', 'int', 'float', 'boolean']\n",
      "2\n",
      "Python supports various data types, including strings, integers, floating-point numbers, and boolean values.\n",
      "\n"
     ]
    }
   ],
   "source": [
    "for question in questions_json['questions']:\n",
    "    print(question['query'])\n",
    "    print(question['choices'])\n",
    "    print(question['answer'])\n",
    "    print(question['explanation'])\n",
    "    print()"
   ]
  },
  {
   "cell_type": "code",
   "execution_count": 14,
   "metadata": {},
   "outputs": [],
   "source": [
    "# Hello what do we do, all these are only for showing off, nothing substaantial comes out of this. All we need is gg.,mm      ;;;[pkkjuhbf    jjgrhjtr'''yyo8iuhkiuttewjfggk]"
   ]
  },
  {
   "cell_type": "code",
   "execution_count": null,
   "metadata": {},
   "outputs": [],
   "source": []
  },
  {
   "cell_type": "code",
   "execution_count": null,
   "metadata": {},
   "outputs": [],
   "source": []
  }
 ],
 "metadata": {
  "kernelspec": {
   "display_name": ".venv",
   "language": "python",
   "name": "python3"
  },
  "language_info": {
   "codemirror_mode": {
    "name": "ipython",
    "version": 3
   },
   "file_extension": ".py",
   "mimetype": "text/x-python",
   "name": "python",
   "nbconvert_exporter": "python",
   "pygments_lexer": "ipython3",
   "version": "3.10.12"
  }
 },
 "nbformat": 4,
 "nbformat_minor": 2
}
