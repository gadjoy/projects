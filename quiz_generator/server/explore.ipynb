{
 "cells": [
  {
   "cell_type": "code",
   "execution_count": 4,
   "metadata": {},
   "outputs": [],
   "source": [
    "import os\n",
    "from dotenv import load_dotenv, find_dotenv\n",
    "import requests\n",
    "\n",
    "# Load environment variables from .env file\n",
    "_ = load_dotenv(find_dotenv())\n",
    "\n",
    "# Set the API key\n",
    "api_key = os.environ['GOOGLE_API_KEY']\n",
    "\n",
    "\n",
    "\n",
    "# Set the API endpoint\n",
    "endpoint = \"https://generativelanguage.googleapis.com/v1beta\"    \n",
    "\n",
    "num_questions = 2\n",
    "topic = \"Python\"\n",
    "difficulty = \"EASY\"\n",
    "\n",
    "prompt = f\"Give me {num_questions} multiple choice questions about {topic}. The questions should be at a {difficulty} level. Return your answer entirely in the form of a JSON object. The JSON object should have a key named 'questions' which is an array of the questions. Each quiz question should include the choices, the answer, and a brief explanation of why the answer is correct. Don't include anything other than the JSON. The JSON properties of each question should be 'query' (which is the question), 'choices', 'answer', and 'explanation'. The choices shouldn't have any ordinal value like A, B, C, D or a number like 1, 2, 3, 4. The answer should be the 0-indexed number of the correct choice.\"\n",
    "\n",
    "# Prepare the request body\n",
    "request_body = {\n",
    "    \"contents\": [\n",
    "        {\n",
    "            \"parts\": [\n",
    "                {\n",
    "                    \"text\": prompt\n",
    "                }\n",
    "            ]\n",
    "        }\n",
    "    ]\n",
    "}\n",
    "\n",
    "# Make the request to Generative Language API\n",
    "response = requests.post(\n",
    "    f\"{endpoint}/models/gemini-pro:generateContent?key={api_key}\",\n",
    "    json=request_body,\n",
    ")"
   ]
  },
  {
   "cell_type": "code",
   "execution_count": 9,
   "metadata": {},
   "outputs": [
    {
     "data": {
      "text/plain": [
       "{'error': {'code': 400,\n",
       "  'message': 'API key not valid. Please pass a valid API key.',\n",
       "  'status': 'INVALID_ARGUMENT',\n",
       "  'details': [{'@type': 'type.googleapis.com/google.rpc.ErrorInfo',\n",
       "    'reason': 'API_KEY_INVALID',\n",
       "    'domain': 'googleapis.com',\n",
       "    'metadata': {'service': 'generativelanguage.googleapis.com'}}]}}"
      ]
     },
     "execution_count": 9,
     "metadata": {},
     "output_type": "execute_result"
    }
   ],
   "source": [
    "response.json()"
   ]
  },
  {
   "cell_type": "code",
   "execution_count": 8,
   "metadata": {},
   "outputs": [
    {
     "ename": "TypeError",
     "evalue": "the JSON object must be str, bytes or bytearray, not dict",
     "output_type": "error",
     "traceback": [
      "\u001b[0;31m---------------------------------------------------------------------------\u001b[0m",
      "\u001b[0;31mTypeError\u001b[0m                                 Traceback (most recent call last)",
      "Cell \u001b[0;32mIn[8], line 3\u001b[0m\n\u001b[1;32m      1\u001b[0m \u001b[38;5;28;01mimport\u001b[39;00m \u001b[38;5;21;01mjson\u001b[39;00m\n\u001b[0;32m----> 3\u001b[0m questions \u001b[38;5;241m=\u001b[39m \u001b[43mjson\u001b[49m\u001b[38;5;241;43m.\u001b[39;49m\u001b[43mloads\u001b[49m\u001b[43m(\u001b[49m\u001b[43mresponse\u001b[49m\u001b[38;5;241;43m.\u001b[39;49m\u001b[43mjson\u001b[49m\u001b[43m(\u001b[49m\u001b[43m)\u001b[49m\u001b[43m)\u001b[49m\n",
      "File \u001b[0;32m/usr/lib/python3.10/json/__init__.py:339\u001b[0m, in \u001b[0;36mloads\u001b[0;34m(s, cls, object_hook, parse_float, parse_int, parse_constant, object_pairs_hook, **kw)\u001b[0m\n\u001b[1;32m    337\u001b[0m \u001b[38;5;28;01melse\u001b[39;00m:\n\u001b[1;32m    338\u001b[0m     \u001b[38;5;28;01mif\u001b[39;00m \u001b[38;5;129;01mnot\u001b[39;00m \u001b[38;5;28misinstance\u001b[39m(s, (\u001b[38;5;28mbytes\u001b[39m, \u001b[38;5;28mbytearray\u001b[39m)):\n\u001b[0;32m--> 339\u001b[0m         \u001b[38;5;28;01mraise\u001b[39;00m \u001b[38;5;167;01mTypeError\u001b[39;00m(\u001b[38;5;124mf\u001b[39m\u001b[38;5;124m'\u001b[39m\u001b[38;5;124mthe JSON object must be str, bytes or bytearray, \u001b[39m\u001b[38;5;124m'\u001b[39m\n\u001b[1;32m    340\u001b[0m                         \u001b[38;5;124mf\u001b[39m\u001b[38;5;124m'\u001b[39m\u001b[38;5;124mnot \u001b[39m\u001b[38;5;132;01m{\u001b[39;00ms\u001b[38;5;241m.\u001b[39m\u001b[38;5;18m__class__\u001b[39m\u001b[38;5;241m.\u001b[39m\u001b[38;5;18m__name__\u001b[39m\u001b[38;5;132;01m}\u001b[39;00m\u001b[38;5;124m'\u001b[39m)\n\u001b[1;32m    341\u001b[0m     s \u001b[38;5;241m=\u001b[39m s\u001b[38;5;241m.\u001b[39mdecode(detect_encoding(s), \u001b[38;5;124m'\u001b[39m\u001b[38;5;124msurrogatepass\u001b[39m\u001b[38;5;124m'\u001b[39m)\n\u001b[1;32m    343\u001b[0m \u001b[38;5;28;01mif\u001b[39;00m (\u001b[38;5;28mcls\u001b[39m \u001b[38;5;129;01mis\u001b[39;00m \u001b[38;5;28;01mNone\u001b[39;00m \u001b[38;5;129;01mand\u001b[39;00m object_hook \u001b[38;5;129;01mis\u001b[39;00m \u001b[38;5;28;01mNone\u001b[39;00m \u001b[38;5;129;01mand\u001b[39;00m\n\u001b[1;32m    344\u001b[0m         parse_int \u001b[38;5;129;01mis\u001b[39;00m \u001b[38;5;28;01mNone\u001b[39;00m \u001b[38;5;129;01mand\u001b[39;00m parse_float \u001b[38;5;129;01mis\u001b[39;00m \u001b[38;5;28;01mNone\u001b[39;00m \u001b[38;5;129;01mand\u001b[39;00m\n\u001b[1;32m    345\u001b[0m         parse_constant \u001b[38;5;129;01mis\u001b[39;00m \u001b[38;5;28;01mNone\u001b[39;00m \u001b[38;5;129;01mand\u001b[39;00m object_pairs_hook \u001b[38;5;129;01mis\u001b[39;00m \u001b[38;5;28;01mNone\u001b[39;00m \u001b[38;5;129;01mand\u001b[39;00m \u001b[38;5;129;01mnot\u001b[39;00m kw):\n",
      "\u001b[0;31mTypeError\u001b[0m: the JSON object must be str, bytes or bytearray, not dict"
     ]
    }
   ],
   "source": [
    "import json\n",
    "\n",
    "questions = json.loads(response.json())"
   ]
  },
  {
   "cell_type": "code",
   "execution_count": 7,
   "metadata": {},
   "outputs": [
    {
     "ename": "KeyError",
     "evalue": "'candidates'",
     "output_type": "error",
     "traceback": [
      "\u001b[0;31m---------------------------------------------------------------------------\u001b[0m",
      "\u001b[0;31mKeyError\u001b[0m                                  Traceback (most recent call last)",
      "Cell \u001b[0;32mIn[7], line 3\u001b[0m\n\u001b[1;32m      1\u001b[0m \u001b[38;5;28;01mimport\u001b[39;00m \u001b[38;5;21;01mjson\u001b[39;00m\n\u001b[0;32m----> 3\u001b[0m questions \u001b[38;5;241m=\u001b[39m json\u001b[38;5;241m.\u001b[39mloads(\u001b[43mresponse\u001b[49m\u001b[38;5;241;43m.\u001b[39;49m\u001b[43mjson\u001b[49m\u001b[43m(\u001b[49m\u001b[43m)\u001b[49m\u001b[43m[\u001b[49m\u001b[38;5;124;43m'\u001b[39;49m\u001b[38;5;124;43mcandidates\u001b[39;49m\u001b[38;5;124;43m'\u001b[39;49m\u001b[43m]\u001b[49m[\u001b[38;5;241m0\u001b[39m][\u001b[38;5;124m'\u001b[39m\u001b[38;5;124mcontent\u001b[39m\u001b[38;5;124m'\u001b[39m][\u001b[38;5;124m'\u001b[39m\u001b[38;5;124mparts\u001b[39m\u001b[38;5;124m'\u001b[39m][\u001b[38;5;241m0\u001b[39m][\u001b[38;5;124m'\u001b[39m\u001b[38;5;124mtext\u001b[39m\u001b[38;5;124m'\u001b[39m]\u001b[38;5;241m.\u001b[39mreplace(\u001b[38;5;124m\"\u001b[39m\u001b[38;5;124m```json\u001b[39m\u001b[38;5;124m\"\u001b[39m,\u001b[38;5;124m'\u001b[39m\u001b[38;5;124m'\u001b[39m)\u001b[38;5;241m.\u001b[39mreplace(\u001b[38;5;124m\"\u001b[39m\u001b[38;5;124m```\u001b[39m\u001b[38;5;124m\"\u001b[39m,\u001b[38;5;124m'\u001b[39m\u001b[38;5;124m'\u001b[39m)\u001b[38;5;241m.\u001b[39mstrip())[\u001b[38;5;124m'\u001b[39m\u001b[38;5;124mquestions\u001b[39m\u001b[38;5;124m'\u001b[39m]\n\u001b[1;32m      5\u001b[0m \u001b[38;5;28mprint\u001b[39m(questions)\n",
      "\u001b[0;31mKeyError\u001b[0m: 'candidates'"
     ]
    }
   ],
   "source": [
    "import json\n",
    "\n",
    "questions = json.loads(response.json()['candidates'][0]['content']['parts'][0]['text'].replace(\"```json\",'').replace(\"```\",'').strip())['questions']\n",
    "\n",
    "print(questions)"
   ]
  },
  {
   "cell_type": "code",
   "execution_count": 2,
   "metadata": {},
   "outputs": [
    {
     "data": {
      "text/plain": [
       "{'candidates': [{'content': {'parts': [{'text': '```json\\n{\\n  \"questions\": [\\n    {\\n      \"query\": \"What is the output of the following code?\\\\n\\\\ndef my_function(x):\\\\n  if x % 2 == 0:\\\\n    return \\'Even\\'\\\\n  else:\\\\n    return \\'Odd\\'\",\\n      \"choices\": [\\n        \"\\'Even\\'\",\\n        \"\\'Odd\\'\",\\n        \"None\",\\n        \"An error\"\\n      ],\\n      \"answer\": 0,\\n      \"explanation\": \"The function takes an integer and returns \\'Even\\' if the integer is even and \\'Odd\\' otherwise.\"\\n    },\\n    {\\n      \"query\": \"What is the purpose of the `*` operator in the following line of code?\\\\n\\\\ndef print_list(*args):\\\\n  for arg in args:\\\\n    print(arg)\",\\n      \"choices\": [\\n        \"To accept any number of arguments\",\\n        \"To create a tuple of the arguments\",\\n        \"To print the arguments without a newline\",\\n        \"To prevent the function from being called with keyword arguments\"\\n      ],\\n      \"answer\": 0,\\n      \"explanation\": \"The asterisk (*) operator in the function signature allows the function to accept any number of positional arguments.\"\\n    },\\n    {\\n      \"query\": \"What will be the output of the following Python code?\\\\n\\\\nmy_dict = {\\'a\\': 1, \\'b\\': 2, \\'c\\': 3}\\\\nmy_list = list(my_dict.keys())\\\\nprint(my_list)\",\\n      \"choices\": [\\n        \"[\\'a\\', \\'b\\', \\'c\\']\",\\n        \"{\\'a\\': 1, \\'b\\': 2, \\'c\\': 3}\",\\n        \"None\",\\n        \"An error\"\\n      ],\\n      \"answer\": 0,\\n      \"explanation\": \"The code creates a dictionary and then uses the `list()` function to convert the keys of the dictionary into a list.\"\\n    },\\n    {\\n      \"query\": \"Which of the following is not a valid method for a list in Python?\",\\n      \"choices\": [\\n        \"append\",\\n        \"pop\",\\n        \"sort\",\\n        \"remove\"\\n      ],\\n      \"answer\": 2,\\n      \"explanation\": \"The `sort` method is not valid for a list in Python. Instead, you can use the `sorted()` function to sort a list.\"\\n    },\\n    {\\n      \"query\": \"What is the output of the following code?\\\\n\\\\ndef my_function(n):\\\\n  if n <= 0:\\\\n    raise ValueError(\\'n must be positive\\')\\\\n  else:\\\\n    return n * 2\",\\n      \"choices\": [\\n        \"The function returns the value of n * 2\",\\n        \"The function raises a ValueError if n is not positive\",\\n        \"The function returns None if n is not positive\",\\n        \"The function raises a TypeError if n is not an integer\"\\n      ],\\n      \"answer\": 1,\\n      \"explanation\": \"The function raises a `ValueError` if n is not positive because the `raise` statement is used to raise an exception.\"\\n    }\\n  ]\\n}\\n```'}],\n",
       "    'role': 'model'},\n",
       "   'finishReason': 'STOP',\n",
       "   'index': 0,\n",
       "   'safetyRatings': [{'category': 'HARM_CATEGORY_SEXUALLY_EXPLICIT',\n",
       "     'probability': 'NEGLIGIBLE'},\n",
       "    {'category': 'HARM_CATEGORY_HATE_SPEECH', 'probability': 'NEGLIGIBLE'},\n",
       "    {'category': 'HARM_CATEGORY_HARASSMENT', 'probability': 'NEGLIGIBLE'},\n",
       "    {'category': 'HARM_CATEGORY_DANGEROUS_CONTENT',\n",
       "     'probability': 'NEGLIGIBLE'}]}],\n",
       " 'promptFeedback': {'safetyRatings': [{'category': 'HARM_CATEGORY_SEXUALLY_EXPLICIT',\n",
       "    'probability': 'NEGLIGIBLE'},\n",
       "   {'category': 'HARM_CATEGORY_HATE_SPEECH', 'probability': 'NEGLIGIBLE'},\n",
       "   {'category': 'HARM_CATEGORY_HARASSMENT', 'probability': 'NEGLIGIBLE'},\n",
       "   {'category': 'HARM_CATEGORY_DANGEROUS_CONTENT',\n",
       "    'probability': 'NEGLIGIBLE'}]}}"
      ]
     },
     "execution_count": 2,
     "metadata": {},
     "output_type": "execute_result"
    }
   ],
   "source": [
    "response.json()"
   ]
  },
  {
   "cell_type": "code",
   "execution_count": 7,
   "metadata": {},
   "outputs": [
    {
     "data": {
      "text/plain": [
       "'```json\\n{\\n  \"questions\": [\\n    {\\n      \"query\": \"What is the output of the following code?\\\\n\\\\ndef my_function(x):\\\\n  if x % 2 == 0:\\\\n    return \\'Even\\'\\\\n  else:\\\\n    return \\'Odd\\'\",\\n      \"choices\": [\\n        \"\\'Even\\'\",\\n        \"\\'Odd\\'\",\\n        \"None\",\\n        \"An error\"\\n      ],\\n      \"answer\": 0,\\n      \"explanation\": \"The function takes an integer and returns \\'Even\\' if the integer is even and \\'Odd\\' otherwise.\"\\n    },\\n    {\\n      \"query\": \"What is the purpose of the `*` operator in the following line of code?\\\\n\\\\ndef print_list(*args):\\\\n  for arg in args:\\\\n    print(arg)\",\\n      \"choices\": [\\n        \"To accept any number of arguments\",\\n        \"To create a tuple of the arguments\",\\n        \"To print the arguments without a newline\",\\n        \"To prevent the function from being called with keyword arguments\"\\n      ],\\n      \"answer\": 0,\\n      \"explanation\": \"The asterisk (*) operator in the function signature allows the function to accept any number of positional arguments.\"\\n    },\\n    {\\n      \"query\": \"What will be the output of the following Python code?\\\\n\\\\nmy_dict = {\\'a\\': 1, \\'b\\': 2, \\'c\\': 3}\\\\nmy_list = list(my_dict.keys())\\\\nprint(my_list)\",\\n      \"choices\": [\\n        \"[\\'a\\', \\'b\\', \\'c\\']\",\\n        \"{\\'a\\': 1, \\'b\\': 2, \\'c\\': 3}\",\\n        \"None\",\\n        \"An error\"\\n      ],\\n      \"answer\": 0,\\n      \"explanation\": \"The code creates a dictionary and then uses the `list()` function to convert the keys of the dictionary into a list.\"\\n    },\\n    {\\n      \"query\": \"Which of the following is not a valid method for a list in Python?\",\\n      \"choices\": [\\n        \"append\",\\n        \"pop\",\\n        \"sort\",\\n        \"remove\"\\n      ],\\n      \"answer\": 2,\\n      \"explanation\": \"The `sort` method is not valid for a list in Python. Instead, you can use the `sorted()` function to sort a list.\"\\n    },\\n    {\\n      \"query\": \"What is the output of the following code?\\\\n\\\\ndef my_function(n):\\\\n  if n <= 0:\\\\n    raise ValueError(\\'n must be positive\\')\\\\n  else:\\\\n    return n * 2\",\\n      \"choices\": [\\n        \"The function returns the value of n * 2\",\\n        \"The function raises a ValueError if n is not positive\",\\n        \"The function returns None if n is not positive\",\\n        \"The function raises a TypeError if n is not an integer\"\\n      ],\\n      \"answer\": 1,\\n      \"explanation\": \"The function raises a `ValueError` if n is not positive because the `raise` statement is used to raise an exception.\"\\n    }\\n  ]\\n}\\n```'"
      ]
     },
     "execution_count": 7,
     "metadata": {},
     "output_type": "execute_result"
    }
   ],
   "source": [
    "response.json()['candidates'][0]['content']['parts'][0]['text']"
   ]
  },
  {
   "cell_type": "code",
   "execution_count": 8,
   "metadata": {},
   "outputs": [
    {
     "name": "stdout",
     "output_type": "stream",
     "text": [
      "```json\n",
      "{\n",
      "  \"questions\": [\n",
      "    {\n",
      "      \"query\": \"What is the output of the following code?\\n\\ndef my_function(x):\\n  if x % 2 == 0:\\n    return 'Even'\\n  else:\\n    return 'Odd'\",\n",
      "      \"choices\": [\n",
      "        \"'Even'\",\n",
      "        \"'Odd'\",\n",
      "        \"None\",\n",
      "        \"An error\"\n",
      "      ],\n",
      "      \"answer\": 0,\n",
      "      \"explanation\": \"The function takes an integer and returns 'Even' if the integer is even and 'Odd' otherwise.\"\n",
      "    },\n",
      "    {\n",
      "      \"query\": \"What is the purpose of the `*` operator in the following line of code?\\n\\ndef print_list(*args):\\n  for arg in args:\\n    print(arg)\",\n",
      "      \"choices\": [\n",
      "        \"To accept any number of arguments\",\n",
      "        \"To create a tuple of the arguments\",\n",
      "        \"To print the arguments without a newline\",\n",
      "        \"To prevent the function from being called with keyword arguments\"\n",
      "      ],\n",
      "      \"answer\": 0,\n",
      "      \"explanation\": \"The asterisk (*) operator in the function signature allows the function to accept any number of positional arguments.\"\n",
      "    },\n",
      "    {\n",
      "      \"query\": \"What will be the output of the following Python code?\\n\\nmy_dict = {'a': 1, 'b': 2, 'c': 3}\\nmy_list = list(my_dict.keys())\\nprint(my_list)\",\n",
      "      \"choices\": [\n",
      "        \"['a', 'b', 'c']\",\n",
      "        \"{'a': 1, 'b': 2, 'c': 3}\",\n",
      "        \"None\",\n",
      "        \"An error\"\n",
      "      ],\n",
      "      \"answer\": 0,\n",
      "      \"explanation\": \"The code creates a dictionary and then uses the `list()` function to convert the keys of the dictionary into a list.\"\n",
      "    },\n",
      "    {\n",
      "      \"query\": \"Which of the following is not a valid method for a list in Python?\",\n",
      "      \"choices\": [\n",
      "        \"append\",\n",
      "        \"pop\",\n",
      "        \"sort\",\n",
      "        \"remove\"\n",
      "      ],\n",
      "      \"answer\": 2,\n",
      "      \"explanation\": \"The `sort` method is not valid for a list in Python. Instead, you can use the `sorted()` function to sort a list.\"\n",
      "    },\n",
      "    {\n",
      "      \"query\": \"What is the output of the following code?\\n\\ndef my_function(n):\\n  if n <= 0:\\n    raise ValueError('n must be positive')\\n  else:\\n    return n * 2\",\n",
      "      \"choices\": [\n",
      "        \"The function returns the value of n * 2\",\n",
      "        \"The function raises a ValueError if n is not positive\",\n",
      "        \"The function returns None if n is not positive\",\n",
      "        \"The function raises a TypeError if n is not an integer\"\n",
      "      ],\n",
      "      \"answer\": 1,\n",
      "      \"explanation\": \"The function raises a `ValueError` if n is not positive because the `raise` statement is used to raise an exception.\"\n",
      "    }\n",
      "  ]\n",
      "}\n",
      "```\n"
     ]
    }
   ],
   "source": [
    "print(response.json()['candidates'][0]['content']['parts'][0]['text'])"
   ]
  },
  {
   "cell_type": "code",
   "execution_count": 9,
   "metadata": {},
   "outputs": [
    {
     "name": "stdout",
     "output_type": "stream",
     "text": [
      "{\n",
      "  \"questions\": [\n",
      "    {\n",
      "      \"query\": \"What is the output of the following code?\\n\\ndef my_function(x):\\n  if x % 2 == 0:\\n    return 'Even'\\n  else:\\n    return 'Odd'\",\n",
      "      \"choices\": [\n",
      "        \"'Even'\",\n",
      "        \"'Odd'\",\n",
      "        \"None\",\n",
      "        \"An error\"\n",
      "      ],\n",
      "      \"answer\": 0,\n",
      "      \"explanation\": \"The function takes an integer and returns 'Even' if the integer is even and 'Odd' otherwise.\"\n",
      "    },\n",
      "    {\n",
      "      \"query\": \"What is the purpose of the `*` operator in the following line of code?\\n\\ndef print_list(*args):\\n  for arg in args:\\n    print(arg)\",\n",
      "      \"choices\": [\n",
      "        \"To accept any number of arguments\",\n",
      "        \"To create a tuple of the arguments\",\n",
      "        \"To print the arguments without a newline\",\n",
      "        \"To prevent the function from being called with keyword arguments\"\n",
      "      ],\n",
      "      \"answer\": 0,\n",
      "      \"explanation\": \"The asterisk (*) operator in the function signature allows the function to accept any number of positional arguments.\"\n",
      "    },\n",
      "    {\n",
      "      \"query\": \"What will be the output of the following Python code?\\n\\nmy_dict = {'a': 1, 'b': 2, 'c': 3}\\nmy_list = list(my_dict.keys())\\nprint(my_list)\",\n",
      "      \"choices\": [\n",
      "        \"['a', 'b', 'c']\",\n",
      "        \"{'a': 1, 'b': 2, 'c': 3}\",\n",
      "        \"None\",\n",
      "        \"An error\"\n",
      "      ],\n",
      "      \"answer\": 0,\n",
      "      \"explanation\": \"The code creates a dictionary and then uses the `list()` function to convert the keys of the dictionary into a list.\"\n",
      "    },\n",
      "    {\n",
      "      \"query\": \"Which of the following is not a valid method for a list in Python?\",\n",
      "      \"choices\": [\n",
      "        \"append\",\n",
      "        \"pop\",\n",
      "        \"sort\",\n",
      "        \"remove\"\n",
      "      ],\n",
      "      \"answer\": 2,\n",
      "      \"explanation\": \"The `sort` method is not valid for a list in Python. Instead, you can use the `sorted()` function to sort a list.\"\n",
      "    },\n",
      "    {\n",
      "      \"query\": \"What is the output of the following code?\\n\\ndef my_function(n):\\n  if n <= 0:\\n    raise ValueError('n must be positive')\\n  else:\\n    return n * 2\",\n",
      "      \"choices\": [\n",
      "        \"The function returns the value of n * 2\",\n",
      "        \"The function raises a ValueError if n is not positive\",\n",
      "        \"The function returns None if n is not positive\",\n",
      "        \"The function raises a TypeError if n is not an integer\"\n",
      "      ],\n",
      "      \"answer\": 1,\n",
      "      \"explanation\": \"The function raises a `ValueError` if n is not positive because the `raise` statement is used to raise an exception.\"\n",
      "    }\n",
      "  ]\n",
      "}\n"
     ]
    }
   ],
   "source": [
    "print(response.json()['candidates'][0]['content']['parts'][0]['text'].replace(\"```json\",'').replace(\"```\",'').strip())"
   ]
  },
  {
   "cell_type": "code",
   "execution_count": 10,
   "metadata": {},
   "outputs": [],
   "source": [
    "questions = response.json()['candidates'][0]['content']['parts'][0]['text'].replace(\"```json\",'').replace(\"```\",'').strip()"
   ]
  },
  {
   "cell_type": "code",
   "execution_count": 11,
   "metadata": {},
   "outputs": [
    {
     "data": {
      "text/plain": [
       "str"
      ]
     },
     "execution_count": 11,
     "metadata": {},
     "output_type": "execute_result"
    }
   ],
   "source": [
    "type(questions)"
   ]
  },
  {
   "cell_type": "code",
   "execution_count": 13,
   "metadata": {},
   "outputs": [
    {
     "data": {
      "text/plain": [
       "dict"
      ]
     },
     "execution_count": 13,
     "metadata": {},
     "output_type": "execute_result"
    }
   ],
   "source": [
    "import json\n",
    "\n",
    "questions_json = json.loads(questions)\n",
    "type(questions_json)"
   ]
  },
  {
   "cell_type": "code",
   "execution_count": 16,
   "metadata": {},
   "outputs": [
    {
     "data": {
      "text/plain": [
       "[{'query': \"What is the output of the following code?\\n\\ndef my_function(x):\\n  if x % 2 == 0:\\n    return 'Even'\\n  else:\\n    return 'Odd'\",\n",
       "  'choices': [\"'Even'\", \"'Odd'\", 'None', 'An error'],\n",
       "  'answer': 0,\n",
       "  'explanation': \"The function takes an integer and returns 'Even' if the integer is even and 'Odd' otherwise.\"},\n",
       " {'query': 'What is the purpose of the `*` operator in the following line of code?\\n\\ndef print_list(*args):\\n  for arg in args:\\n    print(arg)',\n",
       "  'choices': ['To accept any number of arguments',\n",
       "   'To create a tuple of the arguments',\n",
       "   'To print the arguments without a newline',\n",
       "   'To prevent the function from being called with keyword arguments'],\n",
       "  'answer': 0,\n",
       "  'explanation': 'The asterisk (*) operator in the function signature allows the function to accept any number of positional arguments.'},\n",
       " {'query': \"What will be the output of the following Python code?\\n\\nmy_dict = {'a': 1, 'b': 2, 'c': 3}\\nmy_list = list(my_dict.keys())\\nprint(my_list)\",\n",
       "  'choices': [\"['a', 'b', 'c']\",\n",
       "   \"{'a': 1, 'b': 2, 'c': 3}\",\n",
       "   'None',\n",
       "   'An error'],\n",
       "  'answer': 0,\n",
       "  'explanation': 'The code creates a dictionary and then uses the `list()` function to convert the keys of the dictionary into a list.'},\n",
       " {'query': 'Which of the following is not a valid method for a list in Python?',\n",
       "  'choices': ['append', 'pop', 'sort', 'remove'],\n",
       "  'answer': 2,\n",
       "  'explanation': 'The `sort` method is not valid for a list in Python. Instead, you can use the `sorted()` function to sort a list.'},\n",
       " {'query': \"What is the output of the following code?\\n\\ndef my_function(n):\\n  if n <= 0:\\n    raise ValueError('n must be positive')\\n  else:\\n    return n * 2\",\n",
       "  'choices': ['The function returns the value of n * 2',\n",
       "   'The function raises a ValueError if n is not positive',\n",
       "   'The function returns None if n is not positive',\n",
       "   'The function raises a TypeError if n is not an integer'],\n",
       "  'answer': 1,\n",
       "  'explanation': 'The function raises a `ValueError` if n is not positive because the `raise` statement is used to raise an exception.'}]"
      ]
     },
     "execution_count": 16,
     "metadata": {},
     "output_type": "execute_result"
    }
   ],
   "source": [
    "questions_json['questions']"
   ]
  },
  {
   "cell_type": "code",
   "execution_count": 17,
   "metadata": {},
   "outputs": [
    {
     "name": "stdout",
     "output_type": "stream",
     "text": [
      "What is the output of the following code?\n",
      "\n",
      "def my_function(x):\n",
      "  if x % 2 == 0:\n",
      "    return 'Even'\n",
      "  else:\n",
      "    return 'Odd'\n",
      "[\"'Even'\", \"'Odd'\", 'None', 'An error']\n",
      "0\n",
      "The function takes an integer and returns 'Even' if the integer is even and 'Odd' otherwise.\n",
      "\n",
      "What is the purpose of the `*` operator in the following line of code?\n",
      "\n",
      "def print_list(*args):\n",
      "  for arg in args:\n",
      "    print(arg)\n",
      "['To accept any number of arguments', 'To create a tuple of the arguments', 'To print the arguments without a newline', 'To prevent the function from being called with keyword arguments']\n",
      "0\n",
      "The asterisk (*) operator in the function signature allows the function to accept any number of positional arguments.\n",
      "\n",
      "What will be the output of the following Python code?\n",
      "\n",
      "my_dict = {'a': 1, 'b': 2, 'c': 3}\n",
      "my_list = list(my_dict.keys())\n",
      "print(my_list)\n",
      "[\"['a', 'b', 'c']\", \"{'a': 1, 'b': 2, 'c': 3}\", 'None', 'An error']\n",
      "0\n",
      "The code creates a dictionary and then uses the `list()` function to convert the keys of the dictionary into a list.\n",
      "\n",
      "Which of the following is not a valid method for a list in Python?\n",
      "['append', 'pop', 'sort', 'remove']\n",
      "2\n",
      "The `sort` method is not valid for a list in Python. Instead, you can use the `sorted()` function to sort a list.\n",
      "\n",
      "What is the output of the following code?\n",
      "\n",
      "def my_function(n):\n",
      "  if n <= 0:\n",
      "    raise ValueError('n must be positive')\n",
      "  else:\n",
      "    return n * 2\n",
      "['The function returns the value of n * 2', 'The function raises a ValueError if n is not positive', 'The function returns None if n is not positive', 'The function raises a TypeError if n is not an integer']\n",
      "1\n",
      "The function raises a `ValueError` if n is not positive because the `raise` statement is used to raise an exception.\n",
      "\n"
     ]
    }
   ],
   "source": [
    "for question in questions_json['questions']:\n",
    "    print(question['query'])\n",
    "    print(question['choices'])\n",
    "    print(question['answer'])\n",
    "    print(question['explanation'])\n",
    "    print()"
   ]
  },
  {
   "cell_type": "code",
   "execution_count": 1,
   "metadata": {},
   "outputs": [],
   "source": [
    "# Hello what do we do, all these are only for showing off, nothing substaantial comes out of this. All we need is gg.,mm      ;;;[pkkjuhbf    jjgrhjtr'''yyo8iuhkiuttewjfggk]"
   ]
  }
 ],
 "metadata": {
  "kernelspec": {
   "display_name": ".venv",
   "language": "python",
   "name": "python3"
  },
  "language_info": {
   "codemirror_mode": {
    "name": "ipython",
    "version": 3
   },
   "file_extension": ".py",
   "mimetype": "text/x-python",
   "name": "python",
   "nbconvert_exporter": "python",
   "pygments_lexer": "ipython3",
   "version": "3.10.12"
  }
 },
 "nbformat": 4,
 "nbformat_minor": 2
}
