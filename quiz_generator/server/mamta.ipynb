{
 "cells": [
  {
   "cell_type": "code",
   "execution_count": 116,
   "metadata": {},
   "outputs": [],
   "source": [
    "import os\n",
    "from dotenv import load_dotenv, find_dotenv\n",
    "import requests\n",
    "\n",
    "# Load environment variables from .env file\n",
    "_ = load_dotenv(find_dotenv())\n",
    "\n",
    "# Set the API key\n",
    "api_key = os.environ['GOOGLE_API_KEY']\n",
    "\n",
    "\n",
    "\n",
    "# Set the API endpoint\n",
    "endpoint = \"https://generativelanguage.googleapis.com/v1beta\"    \n",
    "\n",
    "num_questions = 2\n",
    "topic = \"dance\"\n",
    "difficulty = \"EASY\"\n",
    "\n",
    "prompt = f\"Give me {num_questions} multiple choice questions about {topic}. The questions should be at a {difficulty} level. Return your answer entirely in the form of a JSON object. The JSON object should have a key named 'questions' which is an array of the questions. Each quiz question should include the choices, the answer, and a brief explanation of why the answer is correct. Don't include anything other than the JSON. The JSON properties of each question should be 'query' (which is the question), 'choices', 'answer', and 'explanation'. The choices shouldn't have any ordinal value like A, B, C, D. The answer should be the 0-indexed number of the correct choice.\"\n",
    "\n",
    "# Prepare the request body\n",
    "request_body = {\n",
    "    \"contents\": [\n",
    "        {\n",
    "            \"parts\": [\n",
    "                {\n",
    "                    \"text\": prompt\n",
    "                }\n",
    "            ]\n",
    "        }\n",
    "    ]\n",
    "}\n",
    "\n",
    "# Make the request to Generative Language API\n",
    "response = requests.post(\n",
    "    f\"{endpoint}/models/gemini-pro:generateContent?key={api_key}\",\n",
    "    json=request_body,\n",
    ")"
   ]
  },
  {
   "cell_type": "code",
   "execution_count": 117,
   "metadata": {},
   "outputs": [
    {
     "data": {
      "text/plain": [
       "{'candidates': [{'content': {'parts': [{'text': '``` JSON\\n{\\n\"questions\": [\\n{\\n\"query\": \"Which of these is a type of ballroom dance?\",\\n\"choices\": [\\n\"Tango\",\\n\"Hip-Hop\",\\n\"Ballet\"\\n],\\n\"answer\": 0,\\n\"explanation\": \"Tango is a type of ballroom dance characterized by its passionate and sensual movements.\"\\n},\\n{\\n\"query\": \"What is the name of the movement in dance where a dancer spins on one leg while keeping the other extended?\",\\n\"choices\": [\\n\"Pirouette\",\\n\"Chaîné\",\\n\"Chassé\"\\n],\\n\"answer\": 0,\\n\"explanation\": \"Pirouette is a ballet term for a turn on one leg while keeping the other extended.\"\\n}\\n]\\n}\\n```'}],\n",
       "    'role': 'model'},\n",
       "   'finishReason': 'STOP',\n",
       "   'index': 0,\n",
       "   'safetyRatings': [{'category': 'HARM_CATEGORY_SEXUALLY_EXPLICIT',\n",
       "     'probability': 'NEGLIGIBLE'},\n",
       "    {'category': 'HARM_CATEGORY_HATE_SPEECH', 'probability': 'NEGLIGIBLE'},\n",
       "    {'category': 'HARM_CATEGORY_HARASSMENT', 'probability': 'NEGLIGIBLE'},\n",
       "    {'category': 'HARM_CATEGORY_DANGEROUS_CONTENT',\n",
       "     'probability': 'NEGLIGIBLE'}]}]}"
      ]
     },
     "execution_count": 117,
     "metadata": {},
     "output_type": "execute_result"
    }
   ],
   "source": [
    "response.json()\n"
   ]
  },
  {
   "cell_type": "code",
   "execution_count": 118,
   "metadata": {},
   "outputs": [
    {
     "ename": "JSONDecodeError",
     "evalue": "Expecting value: line 1 column 1 (char 0)",
     "output_type": "error",
     "traceback": [
      "\u001b[0;31m---------------------------------------------------------------------------\u001b[0m",
      "\u001b[0;31mJSONDecodeError\u001b[0m                           Traceback (most recent call last)",
      "Cell \u001b[0;32mIn[118], line 3\u001b[0m\n\u001b[1;32m      1\u001b[0m \u001b[38;5;28;01mimport\u001b[39;00m \u001b[38;5;21;01mjson\u001b[39;00m\n\u001b[0;32m----> 3\u001b[0m questions \u001b[38;5;241m=\u001b[39m \u001b[43mjson\u001b[49m\u001b[38;5;241;43m.\u001b[39;49m\u001b[43mloads\u001b[49m\u001b[43m(\u001b[49m\u001b[43mresponse\u001b[49m\u001b[38;5;241;43m.\u001b[39;49m\u001b[43mjson\u001b[49m\u001b[43m(\u001b[49m\u001b[43m)\u001b[49m\u001b[43m[\u001b[49m\u001b[38;5;124;43m'\u001b[39;49m\u001b[38;5;124;43mcandidates\u001b[39;49m\u001b[38;5;124;43m'\u001b[39;49m\u001b[43m]\u001b[49m\u001b[43m[\u001b[49m\u001b[38;5;241;43m0\u001b[39;49m\u001b[43m]\u001b[49m\u001b[43m[\u001b[49m\u001b[38;5;124;43m'\u001b[39;49m\u001b[38;5;124;43mcontent\u001b[39;49m\u001b[38;5;124;43m'\u001b[39;49m\u001b[43m]\u001b[49m\u001b[43m[\u001b[49m\u001b[38;5;124;43m'\u001b[39;49m\u001b[38;5;124;43mparts\u001b[39;49m\u001b[38;5;124;43m'\u001b[39;49m\u001b[43m]\u001b[49m\u001b[43m[\u001b[49m\u001b[38;5;241;43m0\u001b[39;49m\u001b[43m]\u001b[49m\u001b[43m[\u001b[49m\u001b[38;5;124;43m'\u001b[39;49m\u001b[38;5;124;43mtext\u001b[39;49m\u001b[38;5;124;43m'\u001b[39;49m\u001b[43m]\u001b[49m\u001b[38;5;241;43m.\u001b[39;49m\u001b[43mreplace\u001b[49m\u001b[43m(\u001b[49m\u001b[38;5;124;43m\"\u001b[39;49m\u001b[38;5;124;43m```json\u001b[39;49m\u001b[38;5;124;43m\"\u001b[39;49m\u001b[43m,\u001b[49m\u001b[38;5;124;43m'\u001b[39;49m\u001b[38;5;124;43m'\u001b[39;49m\u001b[43m)\u001b[49m\u001b[38;5;241;43m.\u001b[39;49m\u001b[43mreplace\u001b[49m\u001b[43m(\u001b[49m\u001b[38;5;124;43m\"\u001b[39;49m\u001b[38;5;124;43m```\u001b[39;49m\u001b[38;5;124;43m\"\u001b[39;49m\u001b[43m,\u001b[49m\u001b[38;5;124;43m'\u001b[39;49m\u001b[38;5;124;43m'\u001b[39;49m\u001b[43m)\u001b[49m\u001b[38;5;241;43m.\u001b[39;49m\u001b[43mstrip\u001b[49m\u001b[43m(\u001b[49m\u001b[43m)\u001b[49m\u001b[43m)\u001b[49m[\u001b[38;5;124m'\u001b[39m\u001b[38;5;124mquestions\u001b[39m\u001b[38;5;124m'\u001b[39m]\n\u001b[1;32m      5\u001b[0m \u001b[38;5;28mprint\u001b[39m(questions)\n",
      "File \u001b[0;32m/usr/lib/python3.10/json/__init__.py:346\u001b[0m, in \u001b[0;36mloads\u001b[0;34m(s, cls, object_hook, parse_float, parse_int, parse_constant, object_pairs_hook, **kw)\u001b[0m\n\u001b[1;32m    341\u001b[0m     s \u001b[38;5;241m=\u001b[39m s\u001b[38;5;241m.\u001b[39mdecode(detect_encoding(s), \u001b[38;5;124m'\u001b[39m\u001b[38;5;124msurrogatepass\u001b[39m\u001b[38;5;124m'\u001b[39m)\n\u001b[1;32m    343\u001b[0m \u001b[38;5;28;01mif\u001b[39;00m (\u001b[38;5;28mcls\u001b[39m \u001b[38;5;129;01mis\u001b[39;00m \u001b[38;5;28;01mNone\u001b[39;00m \u001b[38;5;129;01mand\u001b[39;00m object_hook \u001b[38;5;129;01mis\u001b[39;00m \u001b[38;5;28;01mNone\u001b[39;00m \u001b[38;5;129;01mand\u001b[39;00m\n\u001b[1;32m    344\u001b[0m         parse_int \u001b[38;5;129;01mis\u001b[39;00m \u001b[38;5;28;01mNone\u001b[39;00m \u001b[38;5;129;01mand\u001b[39;00m parse_float \u001b[38;5;129;01mis\u001b[39;00m \u001b[38;5;28;01mNone\u001b[39;00m \u001b[38;5;129;01mand\u001b[39;00m\n\u001b[1;32m    345\u001b[0m         parse_constant \u001b[38;5;129;01mis\u001b[39;00m \u001b[38;5;28;01mNone\u001b[39;00m \u001b[38;5;129;01mand\u001b[39;00m object_pairs_hook \u001b[38;5;129;01mis\u001b[39;00m \u001b[38;5;28;01mNone\u001b[39;00m \u001b[38;5;129;01mand\u001b[39;00m \u001b[38;5;129;01mnot\u001b[39;00m kw):\n\u001b[0;32m--> 346\u001b[0m     \u001b[38;5;28;01mreturn\u001b[39;00m \u001b[43m_default_decoder\u001b[49m\u001b[38;5;241;43m.\u001b[39;49m\u001b[43mdecode\u001b[49m\u001b[43m(\u001b[49m\u001b[43ms\u001b[49m\u001b[43m)\u001b[49m\n\u001b[1;32m    347\u001b[0m \u001b[38;5;28;01mif\u001b[39;00m \u001b[38;5;28mcls\u001b[39m \u001b[38;5;129;01mis\u001b[39;00m \u001b[38;5;28;01mNone\u001b[39;00m:\n\u001b[1;32m    348\u001b[0m     \u001b[38;5;28mcls\u001b[39m \u001b[38;5;241m=\u001b[39m JSONDecoder\n",
      "File \u001b[0;32m/usr/lib/python3.10/json/decoder.py:337\u001b[0m, in \u001b[0;36mJSONDecoder.decode\u001b[0;34m(self, s, _w)\u001b[0m\n\u001b[1;32m    332\u001b[0m \u001b[38;5;28;01mdef\u001b[39;00m \u001b[38;5;21mdecode\u001b[39m(\u001b[38;5;28mself\u001b[39m, s, _w\u001b[38;5;241m=\u001b[39mWHITESPACE\u001b[38;5;241m.\u001b[39mmatch):\n\u001b[1;32m    333\u001b[0m \u001b[38;5;250m    \u001b[39m\u001b[38;5;124;03m\"\"\"Return the Python representation of ``s`` (a ``str`` instance\u001b[39;00m\n\u001b[1;32m    334\u001b[0m \u001b[38;5;124;03m    containing a JSON document).\u001b[39;00m\n\u001b[1;32m    335\u001b[0m \n\u001b[1;32m    336\u001b[0m \u001b[38;5;124;03m    \"\"\"\u001b[39;00m\n\u001b[0;32m--> 337\u001b[0m     obj, end \u001b[38;5;241m=\u001b[39m \u001b[38;5;28;43mself\u001b[39;49m\u001b[38;5;241;43m.\u001b[39;49m\u001b[43mraw_decode\u001b[49m\u001b[43m(\u001b[49m\u001b[43ms\u001b[49m\u001b[43m,\u001b[49m\u001b[43m \u001b[49m\u001b[43midx\u001b[49m\u001b[38;5;241;43m=\u001b[39;49m\u001b[43m_w\u001b[49m\u001b[43m(\u001b[49m\u001b[43ms\u001b[49m\u001b[43m,\u001b[49m\u001b[43m \u001b[49m\u001b[38;5;241;43m0\u001b[39;49m\u001b[43m)\u001b[49m\u001b[38;5;241;43m.\u001b[39;49m\u001b[43mend\u001b[49m\u001b[43m(\u001b[49m\u001b[43m)\u001b[49m\u001b[43m)\u001b[49m\n\u001b[1;32m    338\u001b[0m     end \u001b[38;5;241m=\u001b[39m _w(s, end)\u001b[38;5;241m.\u001b[39mend()\n\u001b[1;32m    339\u001b[0m     \u001b[38;5;28;01mif\u001b[39;00m end \u001b[38;5;241m!=\u001b[39m \u001b[38;5;28mlen\u001b[39m(s):\n",
      "File \u001b[0;32m/usr/lib/python3.10/json/decoder.py:355\u001b[0m, in \u001b[0;36mJSONDecoder.raw_decode\u001b[0;34m(self, s, idx)\u001b[0m\n\u001b[1;32m    353\u001b[0m     obj, end \u001b[38;5;241m=\u001b[39m \u001b[38;5;28mself\u001b[39m\u001b[38;5;241m.\u001b[39mscan_once(s, idx)\n\u001b[1;32m    354\u001b[0m \u001b[38;5;28;01mexcept\u001b[39;00m \u001b[38;5;167;01mStopIteration\u001b[39;00m \u001b[38;5;28;01mas\u001b[39;00m err:\n\u001b[0;32m--> 355\u001b[0m     \u001b[38;5;28;01mraise\u001b[39;00m JSONDecodeError(\u001b[38;5;124m\"\u001b[39m\u001b[38;5;124mExpecting value\u001b[39m\u001b[38;5;124m\"\u001b[39m, s, err\u001b[38;5;241m.\u001b[39mvalue) \u001b[38;5;28;01mfrom\u001b[39;00m \u001b[38;5;28;01mNone\u001b[39;00m\n\u001b[1;32m    356\u001b[0m \u001b[38;5;28;01mreturn\u001b[39;00m obj, end\n",
      "\u001b[0;31mJSONDecodeError\u001b[0m: Expecting value: line 1 column 1 (char 0)"
     ]
    }
   ],
   "source": [
    "import json\n",
    "\n",
    "questions = json.loads(response.json()['candidates'][0]['content']['parts'][0]['text'].replace(\"```json\",'').replace(\"```\",'').strip())['questions']\n",
    "\n",
    "print(questions)\n"
   ]
  },
  {
   "cell_type": "code",
   "execution_count": 119,
   "metadata": {},
   "outputs": [
    {
     "name": "stdout",
     "output_type": "stream",
     "text": [
      "b'{\\n  \"candidates\": [\\n    {\\n      \"content\": {\\n        \"parts\": [\\n          {\\n            \"text\": \"``` JSON\\\\n{\\\\n\\\\\"questions\\\\\": [\\\\n{\\\\n\\\\\"query\\\\\": \\\\\"Which of these is a type of ballroom dance?\\\\\",\\\\n\\\\\"choices\\\\\": [\\\\n\\\\\"Tango\\\\\",\\\\n\\\\\"Hip-Hop\\\\\",\\\\n\\\\\"Ballet\\\\\"\\\\n],\\\\n\\\\\"answer\\\\\": 0,\\\\n\\\\\"explanation\\\\\": \\\\\"Tango is a type of ballroom dance characterized by its passionate and sensual movements.\\\\\"\\\\n},\\\\n{\\\\n\\\\\"query\\\\\": \\\\\"What is the name of the movement in dance where a dancer spins on one leg while keeping the other extended?\\\\\",\\\\n\\\\\"choices\\\\\": [\\\\n\\\\\"Pirouette\\\\\",\\\\n\\\\\"Cha\\xc3\\xaen\\xc3\\xa9\\\\\",\\\\n\\\\\"Chass\\xc3\\xa9\\\\\"\\\\n],\\\\n\\\\\"answer\\\\\": 0,\\\\n\\\\\"explanation\\\\\": \\\\\"Pirouette is a ballet term for a turn on one leg while keeping the other extended.\\\\\"\\\\n}\\\\n]\\\\n}\\\\n```\"\\n          }\\n        ],\\n        \"role\": \"model\"\\n      },\\n      \"finishReason\": \"STOP\",\\n      \"index\": 0,\\n      \"safetyRatings\": [\\n        {\\n          \"category\": \"HARM_CATEGORY_SEXUALLY_EXPLICIT\",\\n          \"probability\": \"NEGLIGIBLE\"\\n        },\\n        {\\n          \"category\": \"HARM_CATEGORY_HATE_SPEECH\",\\n          \"probability\": \"NEGLIGIBLE\"\\n        },\\n        {\\n          \"category\": \"HARM_CATEGORY_HARASSMENT\",\\n          \"probability\": \"NEGLIGIBLE\"\\n        },\\n        {\\n          \"category\": \"HARM_CATEGORY_DANGEROUS_CONTENT\",\\n          \"probability\": \"NEGLIGIBLE\"\\n        }\\n      ]\\n    }\\n  ]\\n}\\n'\n"
     ]
    }
   ],
   "source": [
    "try:\n",
    "    response_content = response.content\n",
    "    print(response_content)\n",
    "except Exception as e:\n",
    "    print(\"Error occurred while getting response content:\", e)\n"
   ]
  },
  {
   "cell_type": "code",
   "execution_count": 120,
   "metadata": {},
   "outputs": [
    {
     "data": {
      "text/plain": [
       "{'candidates': [{'content': {'parts': [{'text': '``` JSON\\n{\\n\"questions\": [\\n{\\n\"query\": \"Which of these is a type of ballroom dance?\",\\n\"choices\": [\\n\"Tango\",\\n\"Hip-Hop\",\\n\"Ballet\"\\n],\\n\"answer\": 0,\\n\"explanation\": \"Tango is a type of ballroom dance characterized by its passionate and sensual movements.\"\\n},\\n{\\n\"query\": \"What is the name of the movement in dance where a dancer spins on one leg while keeping the other extended?\",\\n\"choices\": [\\n\"Pirouette\",\\n\"Chaîné\",\\n\"Chassé\"\\n],\\n\"answer\": 0,\\n\"explanation\": \"Pirouette is a ballet term for a turn on one leg while keeping the other extended.\"\\n}\\n]\\n}\\n```'}],\n",
       "    'role': 'model'},\n",
       "   'finishReason': 'STOP',\n",
       "   'index': 0,\n",
       "   'safetyRatings': [{'category': 'HARM_CATEGORY_SEXUALLY_EXPLICIT',\n",
       "     'probability': 'NEGLIGIBLE'},\n",
       "    {'category': 'HARM_CATEGORY_HATE_SPEECH', 'probability': 'NEGLIGIBLE'},\n",
       "    {'category': 'HARM_CATEGORY_HARASSMENT', 'probability': 'NEGLIGIBLE'},\n",
       "    {'category': 'HARM_CATEGORY_DANGEROUS_CONTENT',\n",
       "     'probability': 'NEGLIGIBLE'}]}]}"
      ]
     },
     "execution_count": 120,
     "metadata": {},
     "output_type": "execute_result"
    }
   ],
   "source": [
    "response.json()"
   ]
  },
  {
   "cell_type": "code",
   "execution_count": 121,
   "metadata": {},
   "outputs": [
    {
     "data": {
      "text/plain": [
       "'``` JSON\\n{\\n\"questions\": [\\n{\\n\"query\": \"Which of these is a type of ballroom dance?\",\\n\"choices\": [\\n\"Tango\",\\n\"Hip-Hop\",\\n\"Ballet\"\\n],\\n\"answer\": 0,\\n\"explanation\": \"Tango is a type of ballroom dance characterized by its passionate and sensual movements.\"\\n},\\n{\\n\"query\": \"What is the name of the movement in dance where a dancer spins on one leg while keeping the other extended?\",\\n\"choices\": [\\n\"Pirouette\",\\n\"Chaîné\",\\n\"Chassé\"\\n],\\n\"answer\": 0,\\n\"explanation\": \"Pirouette is a ballet term for a turn on one leg while keeping the other extended.\"\\n}\\n]\\n}\\n```'"
      ]
     },
     "execution_count": 121,
     "metadata": {},
     "output_type": "execute_result"
    }
   ],
   "source": [
    "response.json()['candidates'][0]['content']['parts'][0]['text']"
   ]
  },
  {
   "cell_type": "code",
   "execution_count": 122,
   "metadata": {},
   "outputs": [
    {
     "name": "stdout",
     "output_type": "stream",
     "text": [
      "``` JSON\n",
      "{\n",
      "\"questions\": [\n",
      "{\n",
      "\"query\": \"Which of these is a type of ballroom dance?\",\n",
      "\"choices\": [\n",
      "\"Tango\",\n",
      "\"Hip-Hop\",\n",
      "\"Ballet\"\n",
      "],\n",
      "\"answer\": 0,\n",
      "\"explanation\": \"Tango is a type of ballroom dance characterized by its passionate and sensual movements.\"\n",
      "},\n",
      "{\n",
      "\"query\": \"What is the name of the movement in dance where a dancer spins on one leg while keeping the other extended?\",\n",
      "\"choices\": [\n",
      "\"Pirouette\",\n",
      "\"Chaîné\",\n",
      "\"Chassé\"\n",
      "],\n",
      "\"answer\": 0,\n",
      "\"explanation\": \"Pirouette is a ballet term for a turn on one leg while keeping the other extended.\"\n",
      "}\n",
      "]\n",
      "}\n",
      "```\n"
     ]
    }
   ],
   "source": [
    "print(response.json()['candidates'][0]['content']['parts'][0]['text'])"
   ]
  },
  {
   "cell_type": "code",
   "execution_count": 123,
   "metadata": {},
   "outputs": [
    {
     "name": "stdout",
     "output_type": "stream",
     "text": [
      "JSON\n",
      "{\n",
      "\"questions\": [\n",
      "{\n",
      "\"query\": \"Which of these is a type of ballroom dance?\",\n",
      "\"choices\": [\n",
      "\"Tango\",\n",
      "\"Hip-Hop\",\n",
      "\"Ballet\"\n",
      "],\n",
      "\"answer\": 0,\n",
      "\"explanation\": \"Tango is a type of ballroom dance characterized by its passionate and sensual movements.\"\n",
      "},\n",
      "{\n",
      "\"query\": \"What is the name of the movement in dance where a dancer spins on one leg while keeping the other extended?\",\n",
      "\"choices\": [\n",
      "\"Pirouette\",\n",
      "\"Chaîné\",\n",
      "\"Chassé\"\n",
      "],\n",
      "\"answer\": 0,\n",
      "\"explanation\": \"Pirouette is a ballet term for a turn on one leg while keeping the other extended.\"\n",
      "}\n",
      "]\n",
      "}\n"
     ]
    }
   ],
   "source": [
    "print(response.json()['candidates'][0]['content']['parts'][0]['text'].replace(\"```json\",'').replace(\"```\",'').strip())"
   ]
  },
  {
   "cell_type": "code",
   "execution_count": 124,
   "metadata": {},
   "outputs": [],
   "source": [
    "questions = response.json()['candidates'][0]['content']['parts'][0]['text'].replace(\"```json\",'').replace(\"```\",'').strip()"
   ]
  },
  {
   "cell_type": "code",
   "execution_count": 125,
   "metadata": {},
   "outputs": [
    {
     "data": {
      "text/plain": [
       "str"
      ]
     },
     "execution_count": 125,
     "metadata": {},
     "output_type": "execute_result"
    }
   ],
   "source": [
    "type(questions)"
   ]
  },
  {
   "cell_type": "code",
   "execution_count": 126,
   "metadata": {},
   "outputs": [
    {
     "data": {
      "text/plain": [
       "[{'query': 'What is the result of the following code: list1 = [1, 2, 3]; list2 = list1; list1[0] = 5; print(list2)?',\n",
       "  'choices': ['[5, 2, 3]', '[1, 2, 3]', '[5, 2, 3] and [5, 2, 3]', '[]'],\n",
       "  'answer': 0,\n",
       "  'explanation': 'In Python, when you assign a list to another variable, both variables reference the same list object. Any changes made to either variable are reflected in the other.'},\n",
       " {'query': 'Which data type is used in Python to store text?',\n",
       "  'choices': ['int', 'float', 'str', 'list'],\n",
       "  'answer': 2,\n",
       "  'explanation': \"In Python, the 'str' data type is used to store text.\"}]"
      ]
     },
     "execution_count": 126,
     "metadata": {},
     "output_type": "execute_result"
    }
   ],
   "source": [
    "questions_json['questions']"
   ]
  },
  {
   "cell_type": "code",
   "execution_count": 127,
   "metadata": {},
   "outputs": [
    {
     "name": "stdout",
     "output_type": "stream",
     "text": [
      "What is the result of the following code: list1 = [1, 2, 3]; list2 = list1; list1[0] = 5; print(list2)?\n",
      "['[5, 2, 3]', '[1, 2, 3]', '[5, 2, 3] and [5, 2, 3]', '[]']\n",
      "0\n",
      "In Python, when you assign a list to another variable, both variables reference the same list object. Any changes made to either variable are reflected in the other.\n",
      "\n",
      "Which data type is used in Python to store text?\n",
      "['int', 'float', 'str', 'list']\n",
      "2\n",
      "In Python, the 'str' data type is used to store text.\n",
      "\n"
     ]
    }
   ],
   "source": [
    "for question in questions_json['questions']:\n",
    "    print(question['query'])\n",
    "    print(question['choices'])\n",
    "    print(question['answer'])\n",
    "    print(question['explanation'])\n",
    "    print()"
   ]
  },
  {
   "cell_type": "code",
   "execution_count": null,
   "metadata": {},
   "outputs": [],
   "source": []
  },
  {
   "cell_type": "code",
   "execution_count": 102,
   "metadata": {},
   "outputs": [
    {
     "name": "stdout",
     "output_type": "stream",
     "text": [
      "Response Text: JSON\n",
      "{\n",
      "  \"questions\": [\n",
      "    {\n",
      "      \"statement\": \"Python is an interpreted language.\",\n",
      "      \"answer\": True\n",
      "    },\n",
      "    {\n",
      "      \"statement\": \"Python is a compiled language.\",\n",
      "      \"answer\": False\n",
      "    }\n",
      "  ]\n",
      "}\n",
      "Error parsing JSON: Expecting value: line 1 column 1 (char 0)\n"
     ]
    }
   ],
   "source": [
    "import os\n",
    "from dotenv import load_dotenv, find_dotenv\n",
    "import requests\n",
    "import json\n",
    "\n",
    "def load_api_key():\n",
    "    \"\"\"Load API key from environment variables.\"\"\"\n",
    "    load_dotenv(find_dotenv())\n",
    "    return os.environ.get('GOOGLE_API_KEY')\n",
    "\n",
    "def generate_questions_prompt(num_questions, topic, difficulty):\n",
    "    \"\"\"Generate prompt for requesting questions from Generative Language API.\"\"\"\n",
    "    return f\"Give me {num_questions} true or false questions about {topic}. The questions should be at a {difficulty} level. Return your answer entirely in the form of a JSON object. The JSON object should have a key named 'questions' which is an array of the questions. Each quiz question should include the statement (the question), and the correct answer (True or False). The JSON properties of each question should be 'statement' (which is the question), and 'answer' (which is either True or False).\"\n",
    "\n",
    "def make_api_request(api_key, prompt, endpoint):\n",
    "    \"\"\"Make a request to Generative Language API.\"\"\"\n",
    "    request_body = {\n",
    "        \"contents\": [\n",
    "            {\n",
    "                \"parts\": [\n",
    "                    {\n",
    "                        \"text\": prompt\n",
    "                    }\n",
    "                ]\n",
    "            }\n",
    "        ]\n",
    "    }\n",
    "    response = requests.post(\n",
    "        f\"{endpoint}/models/gemini-pro:generateContent?key={api_key}\",\n",
    "        json=request_body,\n",
    "    )\n",
    "    return response\n",
    "\n",
    "def parse_questions(response):\n",
    "    \"\"\"Parse questions from API response.\"\"\"\n",
    "    try:\n",
    "        response_text = response.json()['candidates'][0]['content']['parts'][0]['text'].replace(\"```json\",'').replace(\"```\",'').strip()\n",
    "        print(\"Response Text:\", response_text)\n",
    "        questions_json = json.loads(response_text)\n",
    "        return questions_json['questions']\n",
    "    except Exception as e:\n",
    "        print(\"Error parsing JSON:\", e)\n",
    "        return []\n",
    "\n",
    "def main():\n",
    "    # Load API key\n",
    "    api_key = load_api_key()\n",
    "\n",
    "    # Set the API endpoint\n",
    "    endpoint = \"https://generativelanguage.googleapis.com/v1beta\"\n",
    "\n",
    "    # Define parameters\n",
    "    num_questions = 2\n",
    "    topic = \"python\"\n",
    "    difficulty = \"EASY\"\n",
    "\n",
    "    # Generate prompt\n",
    "    prompt = generate_questions_prompt(num_questions, topic, difficulty)\n",
    "\n",
    "    # Make API request\n",
    "    response = make_api_request(api_key, prompt, endpoint)\n",
    "\n",
    "    # Parse questions from response\n",
    "    questions = parse_questions(response)\n",
    "\n",
    "    # Print questions\n",
    "    for question in questions:\n",
    "        print(question['statement'])\n",
    "        print(\"Answer:\", question['answer'])\n",
    "        print()\n",
    "\n",
    "if __name__ == \"__main__\":\n",
    "    main()\n"
   ]
  },
  {
   "cell_type": "code",
   "execution_count": null,
   "metadata": {},
   "outputs": [],
   "source": []
  }
 ],
 "metadata": {
  "kernelspec": {
   "display_name": ".venv",
   "language": "python",
   "name": "python3"
  },
  "language_info": {
   "codemirror_mode": {
    "name": "ipython",
    "version": 3
   },
   "file_extension": ".py",
   "mimetype": "text/x-python",
   "name": "python",
   "nbconvert_exporter": "python",
   "pygments_lexer": "ipython3",
   "version": "3.10.12"
  }
 },
 "nbformat": 4,
 "nbformat_minor": 2
}
