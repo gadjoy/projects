{
 "cells": [
  {
   "cell_type": "code",
   "execution_count": 1,
   "metadata": {},
   "outputs": [
    {
     "name": "stdout",
     "output_type": "stream",
     "text": [
      "Running on http://127.0.0.1:5001\n",
      " * Serving Flask app '__main__'\n",
      " * Debug mode: on\n"
     ]
    },
    {
     "name": "stderr",
     "output_type": "stream",
     "text": [
      "\u001b[31m\u001b[1mWARNING: This is a development server. Do not use it in a production deployment. Use a production WSGI server instead.\u001b[0m\n",
      " * Running on http://127.0.0.1:5001\n",
      "\u001b[33mPress CTRL+C to quit\u001b[0m\n",
      " * Restarting with stat\n",
      "Traceback (most recent call last):\n",
      "  File \"/usr/lib/python3.10/runpy.py\", line 196, in _run_module_as_main\n",
      "    return _run_code(code, main_globals, None,\n",
      "  File \"/usr/lib/python3.10/runpy.py\", line 86, in _run_code\n",
      "    exec(code, run_globals)\n",
      "  File \"/home/ash93/projects/lingineer/server/.venv/lib/python3.10/site-packages/ipykernel_launcher.py\", line 18, in <module>\n",
      "    app.launch_new_instance()\n",
      "  File \"/home/ash93/projects/lingineer/server/.venv/lib/python3.10/site-packages/traitlets/config/application.py\", line 1074, in launch_instance\n",
      "    app.initialize(argv)\n",
      "  File \"/home/ash93/projects/lingineer/server/.venv/lib/python3.10/site-packages/traitlets/config/application.py\", line 118, in inner\n",
      "    return method(app, *args, **kwargs)\n",
      "  File \"/home/ash93/projects/lingineer/server/.venv/lib/python3.10/site-packages/ipykernel/kernelapp.py\", line 692, in initialize\n",
      "    self.init_sockets()\n",
      "  File \"/home/ash93/projects/lingineer/server/.venv/lib/python3.10/site-packages/ipykernel/kernelapp.py\", line 331, in init_sockets\n",
      "    self.shell_port = self._bind_socket(self.shell_socket, self.shell_port)\n",
      "  File \"/home/ash93/projects/lingineer/server/.venv/lib/python3.10/site-packages/ipykernel/kernelapp.py\", line 253, in _bind_socket\n",
      "    return self._try_bind_socket(s, port)\n",
      "  File \"/home/ash93/projects/lingineer/server/.venv/lib/python3.10/site-packages/ipykernel/kernelapp.py\", line 229, in _try_bind_socket\n",
      "    s.bind(\"tcp://%s:%i\" % (self.ip, port))\n",
      "  File \"/home/ash93/projects/lingineer/server/.venv/lib/python3.10/site-packages/zmq/sugar/socket.py\", line 311, in bind\n",
      "    super().bind(addr)\n",
      "  File \"_zmq.py\", line 917, in zmq.backend.cython._zmq.Socket.bind\n",
      "  File \"_zmq.py\", line 179, in zmq.backend.cython._zmq._check_rc\n",
      "zmq.error.ZMQError: Address already in use (addr='tcp://127.0.0.1:9002')\n"
     ]
    },
    {
     "ename": "SystemExit",
     "evalue": "1",
     "output_type": "error",
     "traceback": [
      "An exception has occurred, use %tb to see the full traceback.\n",
      "\u001b[0;31mSystemExit\u001b[0m\u001b[0;31m:\u001b[0m 1\n"
     ]
    },
    {
     "name": "stderr",
     "output_type": "stream",
     "text": [
      "/home/ash93/projects/lingineer/server/.venv/lib/python3.10/site-packages/IPython/core/interactiveshell.py:3585: UserWarning: To exit: use 'exit', 'quit', or Ctrl-D.\n",
      "  warn(\"To exit: use 'exit', 'quit', or Ctrl-D.\", stacklevel=1)\n"
     ]
    }
   ],
   "source": [
    "from flask import Flask, request, jsonify\n",
    "import requests\n",
    "from dotenv import load_dotenv\n",
    "import os\n",
    "\n",
    "# Load environment variables from .env file\n",
    "load_dotenv()\n",
    "\n",
    "# Initialize the Flask application\n",
    "app = Flask(__name__)\n",
    "\n",
    "# Set the API key from the environment variable\n",
    "api_key = os.getenv('API_KEY')\n",
    "\n",
    "# Set the API endpoint for the generative language model\n",
    "endpoint = \"https://generativelanguage.googleapis.com/v1beta\"\n",
    "\n",
    "@app.route('/')\n",
    "def index():\n",
    "    return 'Hello, World!'\n",
    "\n",
    "@app.route('/chat', methods=['POST'])\n",
    "def chat_with_coach():\n",
    "    try:\n",
    "        # Ensure the request has JSON data\n",
    "        if not request.is_json:\n",
    "            return jsonify({\"error\": \"Invalid input, expected JSON\"}), 400\n",
    "\n",
    "        # Get data from the incoming request\n",
    "        data = request.json\n",
    "\n",
    "        # Retrieve scenario and user message\n",
    "        scenario = data.get(\"scenario\")\n",
    "        user_message = data.get(\"message\")\n",
    "\n",
    "        # Validate input\n",
    "        if not scenario or not user_message:\n",
    "            return jsonify({\"error\": \"Missing 'scenario' or 'message'\"}), 400\n",
    "\n",
    "        # Construct the prompt for the AI model\n",
    "        prompt = f\"You are an AI coach helping users with English in engineering contexts. Scenario: {scenario}. User said: '{user_message}'. Provide constructive feedback, correct any mistakes, and give suggestions to improve.\"\n",
    "\n",
    "        # Prepare the request body for the Generative Language API\n",
    "        request_body = {\n",
    "            \"contents\": [\n",
    "                {\n",
    "                    \"parts\": [\n",
    "                        {\n",
    "                            \"text\": prompt\n",
    "                        }\n",
    "                    ]\n",
    "                }\n",
    "            ]\n",
    "        }\n",
    "\n",
    "        # Make the API request to Generative Language API\n",
    "        response = requests.post(\n",
    "            f\"{endpoint}/models/gemini-pro:generateContent?key={api_key}\",\n",
    "            json=request_body\n",
    "        )\n",
    "\n",
    "        # Check for a successful response from the AI API\n",
    "        if response.status_code == 200:\n",
    "            result = response.json()\n",
    "            # Extract the feedback from the response\n",
    "            feedback = result.get(\"contents\", [{}])[0].get(\"parts\", [{}])[0].get(\"text\", \"\")\n",
    "            return jsonify({\"feedback\": feedback})\n",
    "        else:\n",
    "            # Handle unsuccessful API response\n",
    "            return jsonify({\"error\": \"Failed to retrieve response from AI\"}), response.status_code\n",
    "\n",
    "    except Exception as e:\n",
    "        # Catch and handle unexpected errors\n",
    "        return jsonify({\"error\": str(e)}), 500\n",
    "\n",
    "\n",
    "if __name__ == '__main__':\n",
    "    # Set the port to 5001 explicitly\n",
    "    port = 5001\n",
    "    print(f\"Running on http://127.0.0.1:{port}\")\n",
    "    app.run(debug=True, port=port)\n"
   ]
  }
 ],
 "metadata": {
  "kernelspec": {
   "display_name": ".venv",
   "language": "python",
   "name": "python3"
  },
  "language_info": {
   "codemirror_mode": {
    "name": "ipython",
    "version": 3
   },
   "file_extension": ".py",
   "mimetype": "text/x-python",
   "name": "python",
   "nbconvert_exporter": "python",
   "pygments_lexer": "ipython3",
   "version": "3.10.12"
  }
 },
 "nbformat": 4,
 "nbformat_minor": 2
}
