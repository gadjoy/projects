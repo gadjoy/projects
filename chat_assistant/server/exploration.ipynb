{
 "cells": [
  {
   "cell_type": "code",
   "execution_count": 1,
   "metadata": {},
   "outputs": [
    {
     "name": "stdout",
     "output_type": "stream",
     "text": [
      "hello ash\n"
     ]
    }
   ],
   "source": [
    "console.log(\"hello ash\");\n"
   ]
  },
  {
   "cell_type": "code",
   "execution_count": 64,
   "metadata": {},
   "outputs": [
    {
     "ename": "Error",
     "evalue": "Line 1, Character 22\nimport * as mod from \"https://deno.land/std@0.213.0/dotenv/mod.ts\";\n_____________________^\nTS2691: An import path cannot end with a '.ts' extension. Consider importing 'https://deno.land/std@0.213.0/dotenv/mod' instead.\n\nLine 2, Character 14\nconst keys = await mod.load({export:true}) // read API key from .env\n_____________^\nTS1378: Top-level 'await' expressions are only allowed when the 'module' option is set to 'es2022', 'esnext', 'system', 'node16', or 'nodenext', and the 'target' option is set to 'es2017' or higher.",
     "output_type": "error",
     "traceback": [
      "Error: Line 1, Character 22",
      "import * as mod from \"https://deno.land/std@0.213.0/dotenv/mod.ts\";",
      "_____________________^",
      "TS2691: An import path cannot end with a '.ts' extension. Consider importing 'https://deno.land/std@0.213.0/dotenv/mod' instead.",
      "",
      "Line 2, Character 14",
      "const keys = await mod.load({export:true}) // read API key from .env",
      "_____________^",
      "TS1378: Top-level 'await' expressions are only allowed when the 'module' option is set to 'es2022', 'esnext', 'system', 'node16', or 'nodenext', and the 'target' option is set to 'es2017' or higher.",
      "    at execTranspile (/home/waseem/.npm-global/lib/node_modules/itypescript/lib/kernel.js:229:23)",
      "    at Session.transpiler [as transpile] (/home/waseem/.npm-global/lib/node_modules/itypescript/lib/kernel.js:288:35)",
      "    at Session._runNow (/home/waseem/.npm-global/lib/node_modules/itypescript/node_modules/nel/lib/nel.js:835:39)",
      "    at Session._run (/home/waseem/.npm-global/lib/node_modules/itypescript/node_modules/nel/lib/nel.js:786:14)",
      "    at Session.execute (/home/waseem/.npm-global/lib/node_modules/itypescript/node_modules/nel/lib/nel.js:929:10)",
      "    at Kernel.execute_request (/home/waseem/.npm-global/lib/node_modules/itypescript/node_modules/jp-kernel/lib/handlers_v5.js:116:18)",
      "    at Kernel.onShellMessage (/home/waseem/.npm-global/lib/node_modules/itypescript/node_modules/jp-kernel/lib/jp-kernel.js:285:41)",
      "    at Socket.<anonymous> (/home/waseem/.npm-global/lib/node_modules/itypescript/node_modules/jmp/index.js:350:17)",
      "    at Socket.emit (node:events:518:28)",
      "    at Socket._emitMessage (/home/waseem/.npm-global/lib/node_modules/itypescript/node_modules/zeromq/lib/index.js:649:15)"
     ]
    }
   ],
   "source": [
    "import * as mod from \"https://deno.land/std@0.213.0/dotenv/mod.ts\";\n",
    "const keys = await mod.load({export:true}) // read API key from .env\n"
   ]
  }
 ],
 "metadata": {
  "kernelspec": {
   "display_name": "TypeScript",
   "language": "typescript",
   "name": "tslab"
  },
  "language_info": {
   "codemirror_mode": {
    "mode": "typescript",
    "name": "javascript",
    "typescript": true
   },
   "file_extension": ".ts",
   "mimetype": "text/typescript",
   "name": "typescript",
   "version": "3.7.2"
  }
 },
 "nbformat": 4,
 "nbformat_minor": 2
}
